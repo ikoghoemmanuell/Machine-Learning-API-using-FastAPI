{
 "cells": [
  {
   "attachments": {},
   "cell_type": "markdown",
   "id": "15e80a54",
   "metadata": {},
   "source": [
    "# CLASSIFICATION-- SEPSIS PREDICTION "
   ]
  },
  {
   "attachments": {},
   "cell_type": "markdown",
   "id": "19c93acb",
   "metadata": {},
   "source": [
    "![Sepsis Technology Image](https://img.hcinnovationgroup.com/files/base/ebm/hci/image/2021/06/sepsis_tech.60d4da84d62da.png?auto=format,compress&fit=fill&fill=blur&w=1200&h=630)"
   ]
  },
  {
   "attachments": {},
   "cell_type": "markdown",
   "id": "734ba730",
   "metadata": {},
   "source": [
    "# Introduction (What is Sepssis?)\n",
    "\n",
    "Sepsis is a serious medical condition caused by an infection that can lead to organ dysfunction and even death. In the dataset, variables such as vital signs, blood markers of inflammation, age, gender, and length of hospital stay may be related to sepsis risk and used to predict the condition."
   ]
  },
  {
   "cell_type": "markdown",
   "id": "c54864f1",
   "metadata": {},
   "source": [
    "# Importation"
   ]
  },
  {
   "cell_type": "code",
   "execution_count": 236,
   "id": "91b7e819",
   "metadata": {},
   "outputs": [],
   "source": [
    "# Data handling\n",
    "import pandas as pd\n",
    "import numpy as np\n",
    "import threadpoolctl\n",
    "# Vizualisation (Matplotlib, Plotly, Seaborn, etc. )\n",
    "import seaborn as sns\n",
    "import matplotlib.pyplot as plt\n",
    "\n",
    "# EDA (pandas-profiling, etc. )\n",
    "\n",
    "# Statistics\n",
    "from scipy import stats\n",
    "from scipy.stats import shapiro, trim_mean, mstats, mode\n",
    "\n",
    "# Feature Processing (Scikit-learn processing, etc. )\n",
    "from sklearn.model_selection import train_test_split\n",
    "from sklearn.preprocessing import LabelEncoder, OneHotEncoder\n",
    "from sklearn.compose import make_column_transformer\n",
    "from sklearn.preprocessing import StandardScaler\n",
    "from collections import Counter\n",
    "\n",
    "# balance data\n",
    "from imblearn import under_sampling, over_sampling\n",
    "from imblearn.over_sampling import SMOTE, RandomOverSampler\n",
    "from imblearn.under_sampling import RandomUnderSampler\n",
    "\n",
    "# # Machine Learning (Scikit-learn Estimators, Catboost, LightGBM, etc. )\n",
    "# from sklearn.linear_model import LogisticRegression\n",
    "# from sklearn.metrics import confusion_matrix,ConfusionMatrixDisplay\n",
    "# from imblearn.over_sampling import RandomOverSampler\n",
    "# from sklearn.metrics import accuracy_score, precision_score, recall_score, f1_score, fbeta_score, roc_auc_score, classification_report\n",
    "# from sklearn.ensemble import RandomForestClassifier\n",
    "# from xgboost import XGBClassifier, plot_importance\n",
    "# from sklearn.metrics import roc_curve\n",
    "# from sklearn.neighbors import KNeighborsClassifier\n",
    "# from sklearn.svm import SVC\n",
    "# from sklearn.tree import DecisionTreeClassifier\n",
    "# from sklearn.cluster import KMeans\n",
    "\n",
    "# # Hyperparameters Fine-tuning (Scikit-learn hp search, cross-validation, etc. )\n",
    "# from sklearn.pipeline import Pipeline\n",
    "# from sklearn.model_selection import GridSearchCV\n",
    "\n",
    "# # Evaluations\n",
    "# from sklearn.metrics import confusion_matrix, accuracy_score, classification_report, roc_auc_score, RocCurveDisplay, roc_curve, auc\n",
    "# from sklearn.model_selection import StratifiedKFold, RandomizedSearchCV, cross_val_score\n",
    "# from statistics import stdev\n",
    "# from sklearn.model_selection import KFold\n",
    "\n",
    "# Other packages\n",
    "import os, pickle\n",
    "\n",
    "import warnings\n",
    "warnings.filterwarnings(\"ignore\")"
   ]
  },
  {
   "cell_type": "markdown",
   "id": "7f21642a",
   "metadata": {},
   "source": [
    "# Data Loading"
   ]
  },
  {
   "cell_type": "code",
   "execution_count": 237,
   "id": "d2abc3f0",
   "metadata": {},
   "outputs": [],
   "source": [
    "url = 'https://raw.githubusercontent.com/ikoghoemmanuell/Machine-Learning-API-using-FastAPI/main/Paitients_Files_Train.csv'\n",
    "data = pd.read_csv(url)"
   ]
  },
  {
   "attachments": {},
   "cell_type": "markdown",
   "id": "b86aff73",
   "metadata": {},
   "source": [
    "# Exploratory Data Analysis: EDA"
   ]
  },
  {
   "attachments": {},
   "cell_type": "markdown",
   "id": "c24c5674",
   "metadata": {},
   "source": [
    "## Hypothesis\n",
    "\n",
    "H0: The mean age of patients with sepsis is significantly higher than the mean age of patients without sepsis.\n",
    "\n",
    "H1: There is no significant difference in the mean age of patients with and without sepsis."
   ]
  },
  {
   "attachments": {},
   "cell_type": "markdown",
   "id": "ebe4271a",
   "metadata": {},
   "source": [
    "## Questions\n",
    "\n",
    "1. What is the distribution of sepsis cases in the dataset? \n",
    "2. How does plasma glucose level relate to the incidence of sepsis?\n",
    "3. Are there any significant differences in blood pressure between patients who develop sepsis and those who do not?\n",
    "4. Is there a relationship between the length of ICU stay and the likelihood of developing sepsis?\n",
    "5. Are there any outliers in the dataset, and how do they affect the analysis?\n",
    "6. Is there a significant difference in the age distribution between patients who develop sepsis and those who do not?"
   ]
  },
  {
   "attachments": {},
   "cell_type": "markdown",
   "id": "39f6c8f0",
   "metadata": {},
   "source": [
    "## Dataset overview"
   ]
  },
  {
   "cell_type": "code",
   "execution_count": 238,
   "id": "d7e2c061",
   "metadata": {},
   "outputs": [
    {
     "data": {
      "text/html": [
       "<div>\n",
       "<style scoped>\n",
       "    .dataframe tbody tr th:only-of-type {\n",
       "        vertical-align: middle;\n",
       "    }\n",
       "\n",
       "    .dataframe tbody tr th {\n",
       "        vertical-align: top;\n",
       "    }\n",
       "\n",
       "    .dataframe thead th {\n",
       "        text-align: right;\n",
       "    }\n",
       "</style>\n",
       "<table border=\"1\" class=\"dataframe\">\n",
       "  <thead>\n",
       "    <tr style=\"text-align: right;\">\n",
       "      <th></th>\n",
       "      <th>ID</th>\n",
       "      <th>PRG</th>\n",
       "      <th>PL</th>\n",
       "      <th>PR</th>\n",
       "      <th>SK</th>\n",
       "      <th>TS</th>\n",
       "      <th>M11</th>\n",
       "      <th>BD2</th>\n",
       "      <th>Age</th>\n",
       "      <th>Insurance</th>\n",
       "      <th>Sepssis</th>\n",
       "    </tr>\n",
       "  </thead>\n",
       "  <tbody>\n",
       "    <tr>\n",
       "      <th>0</th>\n",
       "      <td>ICU200010</td>\n",
       "      <td>6</td>\n",
       "      <td>148</td>\n",
       "      <td>72</td>\n",
       "      <td>35</td>\n",
       "      <td>0</td>\n",
       "      <td>33.6</td>\n",
       "      <td>0.627</td>\n",
       "      <td>50</td>\n",
       "      <td>0</td>\n",
       "      <td>Positive</td>\n",
       "    </tr>\n",
       "    <tr>\n",
       "      <th>1</th>\n",
       "      <td>ICU200011</td>\n",
       "      <td>1</td>\n",
       "      <td>85</td>\n",
       "      <td>66</td>\n",
       "      <td>29</td>\n",
       "      <td>0</td>\n",
       "      <td>26.6</td>\n",
       "      <td>0.351</td>\n",
       "      <td>31</td>\n",
       "      <td>0</td>\n",
       "      <td>Negative</td>\n",
       "    </tr>\n",
       "    <tr>\n",
       "      <th>2</th>\n",
       "      <td>ICU200012</td>\n",
       "      <td>8</td>\n",
       "      <td>183</td>\n",
       "      <td>64</td>\n",
       "      <td>0</td>\n",
       "      <td>0</td>\n",
       "      <td>23.3</td>\n",
       "      <td>0.672</td>\n",
       "      <td>32</td>\n",
       "      <td>1</td>\n",
       "      <td>Positive</td>\n",
       "    </tr>\n",
       "    <tr>\n",
       "      <th>3</th>\n",
       "      <td>ICU200013</td>\n",
       "      <td>1</td>\n",
       "      <td>89</td>\n",
       "      <td>66</td>\n",
       "      <td>23</td>\n",
       "      <td>94</td>\n",
       "      <td>28.1</td>\n",
       "      <td>0.167</td>\n",
       "      <td>21</td>\n",
       "      <td>1</td>\n",
       "      <td>Negative</td>\n",
       "    </tr>\n",
       "    <tr>\n",
       "      <th>4</th>\n",
       "      <td>ICU200014</td>\n",
       "      <td>0</td>\n",
       "      <td>137</td>\n",
       "      <td>40</td>\n",
       "      <td>35</td>\n",
       "      <td>168</td>\n",
       "      <td>43.1</td>\n",
       "      <td>2.288</td>\n",
       "      <td>33</td>\n",
       "      <td>1</td>\n",
       "      <td>Positive</td>\n",
       "    </tr>\n",
       "  </tbody>\n",
       "</table>\n",
       "</div>"
      ],
      "text/plain": [
       "          ID  PRG   PL  PR  SK   TS   M11    BD2  Age  Insurance   Sepssis\n",
       "0  ICU200010    6  148  72  35    0  33.6  0.627   50          0  Positive\n",
       "1  ICU200011    1   85  66  29    0  26.6  0.351   31          0  Negative\n",
       "2  ICU200012    8  183  64   0    0  23.3  0.672   32          1  Positive\n",
       "3  ICU200013    1   89  66  23   94  28.1  0.167   21          1  Negative\n",
       "4  ICU200014    0  137  40  35  168  43.1  2.288   33          1  Positive"
      ]
     },
     "execution_count": 238,
     "metadata": {},
     "output_type": "execute_result"
    }
   ],
   "source": [
    "data.head()"
   ]
  },
  {
   "cell_type": "code",
   "execution_count": 239,
   "id": "a9db9164",
   "metadata": {},
   "outputs": [
    {
     "data": {
      "text/plain": [
       "(599, 11)"
      ]
     },
     "execution_count": 239,
     "metadata": {},
     "output_type": "execute_result"
    }
   ],
   "source": [
    "data.shape"
   ]
  },
  {
   "cell_type": "code",
   "execution_count": 240,
   "id": "dcbc0397",
   "metadata": {},
   "outputs": [
    {
     "name": "stdout",
     "output_type": "stream",
     "text": [
      "<class 'pandas.core.frame.DataFrame'>\n",
      "RangeIndex: 599 entries, 0 to 598\n",
      "Data columns (total 11 columns):\n",
      " #   Column     Non-Null Count  Dtype  \n",
      "---  ------     --------------  -----  \n",
      " 0   ID         599 non-null    object \n",
      " 1   PRG        599 non-null    int64  \n",
      " 2   PL         599 non-null    int64  \n",
      " 3   PR         599 non-null    int64  \n",
      " 4   SK         599 non-null    int64  \n",
      " 5   TS         599 non-null    int64  \n",
      " 6   M11        599 non-null    float64\n",
      " 7   BD2        599 non-null    float64\n",
      " 8   Age        599 non-null    int64  \n",
      " 9   Insurance  599 non-null    int64  \n",
      " 10  Sepssis    599 non-null    object \n",
      "dtypes: float64(2), int64(7), object(2)\n",
      "memory usage: 51.6+ KB\n"
     ]
    }
   ],
   "source": [
    "# summary of the dataframe\n",
    "data.info()"
   ]
  },
  {
   "cell_type": "code",
   "execution_count": 241,
   "id": "befa37e8",
   "metadata": {},
   "outputs": [
    {
     "data": {
      "text/plain": [
       "ID           0\n",
       "PRG          0\n",
       "PL           0\n",
       "PR           0\n",
       "SK           0\n",
       "TS           0\n",
       "M11          0\n",
       "BD2          0\n",
       "Age          0\n",
       "Insurance    0\n",
       "Sepssis      0\n",
       "dtype: int64"
      ]
     },
     "execution_count": 241,
     "metadata": {},
     "output_type": "execute_result"
    }
   ],
   "source": [
    "data.isnull().sum()"
   ]
  },
  {
   "cell_type": "code",
   "execution_count": 242,
   "id": "b89e8bc0",
   "metadata": {},
   "outputs": [
    {
     "data": {
      "text/html": [
       "<div>\n",
       "<style scoped>\n",
       "    .dataframe tbody tr th:only-of-type {\n",
       "        vertical-align: middle;\n",
       "    }\n",
       "\n",
       "    .dataframe tbody tr th {\n",
       "        vertical-align: top;\n",
       "    }\n",
       "\n",
       "    .dataframe thead th {\n",
       "        text-align: right;\n",
       "    }\n",
       "</style>\n",
       "<table border=\"1\" class=\"dataframe\">\n",
       "  <thead>\n",
       "    <tr style=\"text-align: right;\">\n",
       "      <th></th>\n",
       "      <th>PRG</th>\n",
       "      <th>PL</th>\n",
       "      <th>PR</th>\n",
       "      <th>SK</th>\n",
       "      <th>TS</th>\n",
       "      <th>M11</th>\n",
       "      <th>BD2</th>\n",
       "      <th>Age</th>\n",
       "      <th>Insurance</th>\n",
       "    </tr>\n",
       "  </thead>\n",
       "  <tbody>\n",
       "    <tr>\n",
       "      <th>count</th>\n",
       "      <td>599.000000</td>\n",
       "      <td>599.000000</td>\n",
       "      <td>599.000000</td>\n",
       "      <td>599.000000</td>\n",
       "      <td>599.000000</td>\n",
       "      <td>599.000000</td>\n",
       "      <td>599.000000</td>\n",
       "      <td>599.000000</td>\n",
       "      <td>599.000000</td>\n",
       "    </tr>\n",
       "    <tr>\n",
       "      <th>mean</th>\n",
       "      <td>3.824708</td>\n",
       "      <td>120.153589</td>\n",
       "      <td>68.732888</td>\n",
       "      <td>20.562604</td>\n",
       "      <td>79.460768</td>\n",
       "      <td>31.920033</td>\n",
       "      <td>0.481187</td>\n",
       "      <td>33.290484</td>\n",
       "      <td>0.686144</td>\n",
       "    </tr>\n",
       "    <tr>\n",
       "      <th>std</th>\n",
       "      <td>3.362839</td>\n",
       "      <td>32.682364</td>\n",
       "      <td>19.335675</td>\n",
       "      <td>16.017622</td>\n",
       "      <td>116.576176</td>\n",
       "      <td>8.008227</td>\n",
       "      <td>0.337552</td>\n",
       "      <td>11.828446</td>\n",
       "      <td>0.464447</td>\n",
       "    </tr>\n",
       "    <tr>\n",
       "      <th>min</th>\n",
       "      <td>0.000000</td>\n",
       "      <td>0.000000</td>\n",
       "      <td>0.000000</td>\n",
       "      <td>0.000000</td>\n",
       "      <td>0.000000</td>\n",
       "      <td>0.000000</td>\n",
       "      <td>0.078000</td>\n",
       "      <td>21.000000</td>\n",
       "      <td>0.000000</td>\n",
       "    </tr>\n",
       "    <tr>\n",
       "      <th>25%</th>\n",
       "      <td>1.000000</td>\n",
       "      <td>99.000000</td>\n",
       "      <td>64.000000</td>\n",
       "      <td>0.000000</td>\n",
       "      <td>0.000000</td>\n",
       "      <td>27.100000</td>\n",
       "      <td>0.248000</td>\n",
       "      <td>24.000000</td>\n",
       "      <td>0.000000</td>\n",
       "    </tr>\n",
       "    <tr>\n",
       "      <th>50%</th>\n",
       "      <td>3.000000</td>\n",
       "      <td>116.000000</td>\n",
       "      <td>70.000000</td>\n",
       "      <td>23.000000</td>\n",
       "      <td>36.000000</td>\n",
       "      <td>32.000000</td>\n",
       "      <td>0.383000</td>\n",
       "      <td>29.000000</td>\n",
       "      <td>1.000000</td>\n",
       "    </tr>\n",
       "    <tr>\n",
       "      <th>75%</th>\n",
       "      <td>6.000000</td>\n",
       "      <td>140.000000</td>\n",
       "      <td>80.000000</td>\n",
       "      <td>32.000000</td>\n",
       "      <td>123.500000</td>\n",
       "      <td>36.550000</td>\n",
       "      <td>0.647000</td>\n",
       "      <td>40.000000</td>\n",
       "      <td>1.000000</td>\n",
       "    </tr>\n",
       "    <tr>\n",
       "      <th>max</th>\n",
       "      <td>17.000000</td>\n",
       "      <td>198.000000</td>\n",
       "      <td>122.000000</td>\n",
       "      <td>99.000000</td>\n",
       "      <td>846.000000</td>\n",
       "      <td>67.100000</td>\n",
       "      <td>2.420000</td>\n",
       "      <td>81.000000</td>\n",
       "      <td>1.000000</td>\n",
       "    </tr>\n",
       "  </tbody>\n",
       "</table>\n",
       "</div>"
      ],
      "text/plain": [
       "              PRG          PL          PR          SK          TS         M11  \\\n",
       "count  599.000000  599.000000  599.000000  599.000000  599.000000  599.000000   \n",
       "mean     3.824708  120.153589   68.732888   20.562604   79.460768   31.920033   \n",
       "std      3.362839   32.682364   19.335675   16.017622  116.576176    8.008227   \n",
       "min      0.000000    0.000000    0.000000    0.000000    0.000000    0.000000   \n",
       "25%      1.000000   99.000000   64.000000    0.000000    0.000000   27.100000   \n",
       "50%      3.000000  116.000000   70.000000   23.000000   36.000000   32.000000   \n",
       "75%      6.000000  140.000000   80.000000   32.000000  123.500000   36.550000   \n",
       "max     17.000000  198.000000  122.000000   99.000000  846.000000   67.100000   \n",
       "\n",
       "              BD2         Age   Insurance  \n",
       "count  599.000000  599.000000  599.000000  \n",
       "mean     0.481187   33.290484    0.686144  \n",
       "std      0.337552   11.828446    0.464447  \n",
       "min      0.078000   21.000000    0.000000  \n",
       "25%      0.248000   24.000000    0.000000  \n",
       "50%      0.383000   29.000000    1.000000  \n",
       "75%      0.647000   40.000000    1.000000  \n",
       "max      2.420000   81.000000    1.000000  "
      ]
     },
     "execution_count": 242,
     "metadata": {},
     "output_type": "execute_result"
    }
   ],
   "source": [
    "data.describe()"
   ]
  },
  {
   "attachments": {},
   "cell_type": "markdown",
   "id": "6b3c4a14",
   "metadata": {},
   "source": [
    "## Issues with the data\n",
    "\n",
    "1. Too many zeros in each column\n",
    "2. The column names are not very descriptive.\n",
    "3. The target variable 'Sepssis' may have imbalanced classes.\n",
    "4. There may be outliers in some of the numerical columns.\n",
    "5. There could be correlations between some of the predictor variables, leading to multicollinearity.\n",
    "\n",
    "## How I Intend to Solve Them\n",
    "\n",
    "1. Replace zeros in each column with the median value\n",
    "2. Rename the column names to be more descriptive and easier to understand.\n",
    "3. Handle the imbalanced classes in the target variable using techniques such as undersampling or oversampling.\n",
    "4. Use visualization techniques such as box plots and scatter plots to identify and handle any outliers.\n",
    "5. Use correlation analysis to identify highly correlated variables and consider dropping or transforming them."
   ]
  },
  {
   "cell_type": "code",
   "execution_count": 243,
   "id": "88748290",
   "metadata": {},
   "outputs": [
    {
     "data": {
      "text/plain": [
       "array(['ID', 'PRG', 'PL', 'PR', 'SK', 'TS', 'M11', 'BD2', 'Age',\n",
       "       'Insurance', 'Sepssis'], dtype=object)"
      ]
     },
     "execution_count": 243,
     "metadata": {},
     "output_type": "execute_result"
    }
   ],
   "source": [
    "data.columns.values"
   ]
  },
  {
   "cell_type": "code",
   "execution_count": 244,
   "id": "358ff59c",
   "metadata": {},
   "outputs": [],
   "source": [
    "# Rename the columns\n",
    "data = data.rename(columns={\n",
    "    \"PRG\": \"Plasma_glucose\",\n",
    "    \"PL\": \"Blood_Work_Result_1\",\n",
    "    \"PR\": \"Blood_Pressure\",\n",
    "    \"SK\": \"Blood_Work_Result_2\",\n",
    "    \"TS\": \"Blood_Work_Result_3\",\n",
    "    \"M11\": \"BMI\",\n",
    "    \"BD2\": \"Blood_Work_Result_4\",\n",
    "    \"Age\": \"Patient_age\",\n",
    "    \"Sepssis\": \"Target\"\n",
    "})"
   ]
  },
  {
   "cell_type": "code",
   "execution_count": 245,
   "id": "f6b21854",
   "metadata": {},
   "outputs": [
    {
     "data": {
      "text/plain": [
       "<AxesSubplot:xlabel='Plasma_glucose'>"
      ]
     },
     "execution_count": 245,
     "metadata": {},
     "output_type": "execute_result"
    },
    {
     "data": {
      "image/png": "[encoded data removed]",
      "text/plain": [
       "<Figure size 640x480 with 1 Axes>"
      ]
     },
     "metadata": {},
     "output_type": "display_data"
    }
   ],
   "source": [
    "# Handle outliers in numerical columns\n",
    "sns.boxplot(x=data['Plasma_glucose'])"
   ]
  },
  {
   "cell_type": "code",
   "execution_count": 246,
   "id": "5990afcb",
   "metadata": {},
   "outputs": [
    {
     "data": {
      "text/plain": [
       "<AxesSubplot:xlabel='Blood_Pressure'>"
      ]
     },
     "execution_count": 246,
     "metadata": {},
     "output_type": "execute_result"
    },
    {
     "data": {
      "image/png": "[encoded data removed]",
      "text/plain": [
       "<Figure size 640x480 with 1 Axes>"
      ]
     },
     "metadata": {},
     "output_type": "display_data"
    }
   ],
   "source": [
    "sns.boxplot(x=data['Blood_Pressure'])"
   ]
  },
  {
   "cell_type": "code",
   "execution_count": 247,
   "id": "8bedfe7c",
   "metadata": {},
   "outputs": [
    {
     "data": {
      "text/plain": [
       "<AxesSubplot:xlabel='BMI'>"
      ]
     },
     "execution_count": 247,
     "metadata": {},
     "output_type": "execute_result"
    },
    {
     "data": {
      "image/png": "[encoded data removed]",
      "text/plain": [
       "<Figure size 640x480 with 1 Axes>"
      ]
     },
     "metadata": {},
     "output_type": "display_data"
    }
   ],
   "source": [
    "sns.boxplot(x=data['BMI'])"
   ]
  },
  {
   "cell_type": "code",
   "execution_count": 248,
   "id": "d39809be",
   "metadata": {},
   "outputs": [
    {
     "data": {
      "text/html": [
       "<div>\n",
       "<style scoped>\n",
       "    .dataframe tbody tr th:only-of-type {\n",
       "        vertical-align: middle;\n",
       "    }\n",
       "\n",
       "    .dataframe tbody tr th {\n",
       "        vertical-align: top;\n",
       "    }\n",
       "\n",
       "    .dataframe thead th {\n",
       "        text-align: right;\n",
       "    }\n",
       "</style>\n",
       "<table border=\"1\" class=\"dataframe\">\n",
       "  <thead>\n",
       "    <tr style=\"text-align: right;\">\n",
       "      <th></th>\n",
       "      <th>Plasma_glucose</th>\n",
       "      <th>Blood_Work_Result_1</th>\n",
       "      <th>Blood_Pressure</th>\n",
       "      <th>Blood_Work_Result_2</th>\n",
       "      <th>Blood_Work_Result_3</th>\n",
       "      <th>BMI</th>\n",
       "      <th>Blood_Work_Result_4</th>\n",
       "      <th>Patient_age</th>\n",
       "      <th>Insurance</th>\n",
       "    </tr>\n",
       "  </thead>\n",
       "  <tbody>\n",
       "    <tr>\n",
       "      <th>count</th>\n",
       "      <td>599.000000</td>\n",
       "      <td>599.000000</td>\n",
       "      <td>599.000000</td>\n",
       "      <td>599.000000</td>\n",
       "      <td>599.000000</td>\n",
       "      <td>599.000000</td>\n",
       "      <td>599.000000</td>\n",
       "      <td>599.000000</td>\n",
       "      <td>599.000000</td>\n",
       "    </tr>\n",
       "    <tr>\n",
       "      <th>mean</th>\n",
       "      <td>3.824708</td>\n",
       "      <td>120.153589</td>\n",
       "      <td>68.732888</td>\n",
       "      <td>20.562604</td>\n",
       "      <td>79.460768</td>\n",
       "      <td>31.920033</td>\n",
       "      <td>0.481187</td>\n",
       "      <td>33.290484</td>\n",
       "      <td>0.686144</td>\n",
       "    </tr>\n",
       "    <tr>\n",
       "      <th>std</th>\n",
       "      <td>3.362839</td>\n",
       "      <td>32.682364</td>\n",
       "      <td>19.335675</td>\n",
       "      <td>16.017622</td>\n",
       "      <td>116.576176</td>\n",
       "      <td>8.008227</td>\n",
       "      <td>0.337552</td>\n",
       "      <td>11.828446</td>\n",
       "      <td>0.464447</td>\n",
       "    </tr>\n",
       "    <tr>\n",
       "      <th>min</th>\n",
       "      <td>0.000000</td>\n",
       "      <td>0.000000</td>\n",
       "      <td>0.000000</td>\n",
       "      <td>0.000000</td>\n",
       "      <td>0.000000</td>\n",
       "      <td>0.000000</td>\n",
       "      <td>0.078000</td>\n",
       "      <td>21.000000</td>\n",
       "      <td>0.000000</td>\n",
       "    </tr>\n",
       "    <tr>\n",
       "      <th>25%</th>\n",
       "      <td>1.000000</td>\n",
       "      <td>99.000000</td>\n",
       "      <td>64.000000</td>\n",
       "      <td>0.000000</td>\n",
       "      <td>0.000000</td>\n",
       "      <td>27.100000</td>\n",
       "      <td>0.248000</td>\n",
       "      <td>24.000000</td>\n",
       "      <td>0.000000</td>\n",
       "    </tr>\n",
       "    <tr>\n",
       "      <th>50%</th>\n",
       "      <td>3.000000</td>\n",
       "      <td>116.000000</td>\n",
       "      <td>70.000000</td>\n",
       "      <td>23.000000</td>\n",
       "      <td>36.000000</td>\n",
       "      <td>32.000000</td>\n",
       "      <td>0.383000</td>\n",
       "      <td>29.000000</td>\n",
       "      <td>1.000000</td>\n",
       "    </tr>\n",
       "    <tr>\n",
       "      <th>75%</th>\n",
       "      <td>6.000000</td>\n",
       "      <td>140.000000</td>\n",
       "      <td>80.000000</td>\n",
       "      <td>32.000000</td>\n",
       "      <td>123.500000</td>\n",
       "      <td>36.550000</td>\n",
       "      <td>0.647000</td>\n",
       "      <td>40.000000</td>\n",
       "      <td>1.000000</td>\n",
       "    </tr>\n",
       "    <tr>\n",
       "      <th>max</th>\n",
       "      <td>17.000000</td>\n",
       "      <td>198.000000</td>\n",
       "      <td>122.000000</td>\n",
       "      <td>99.000000</td>\n",
       "      <td>846.000000</td>\n",
       "      <td>67.100000</td>\n",
       "      <td>2.420000</td>\n",
       "      <td>81.000000</td>\n",
       "      <td>1.000000</td>\n",
       "    </tr>\n",
       "  </tbody>\n",
       "</table>\n",
       "</div>"
      ],
      "text/plain": [
       "       Plasma_glucose  Blood_Work_Result_1  Blood_Pressure  \\\n",
       "count      599.000000           599.000000      599.000000   \n",
       "mean         3.824708           120.153589       68.732888   \n",
       "std          3.362839            32.682364       19.335675   \n",
       "min          0.000000             0.000000        0.000000   \n",
       "25%          1.000000            99.000000       64.000000   \n",
       "50%          3.000000           116.000000       70.000000   \n",
       "75%          6.000000           140.000000       80.000000   \n",
       "max         17.000000           198.000000      122.000000   \n",
       "\n",
       "       Blood_Work_Result_2  Blood_Work_Result_3         BMI  \\\n",
       "count           599.000000           599.000000  599.000000   \n",
       "mean             20.562604            79.460768   31.920033   \n",
       "std              16.017622           116.576176    8.008227   \n",
       "min               0.000000             0.000000    0.000000   \n",
       "25%               0.000000             0.000000   27.100000   \n",
       "50%              23.000000            36.000000   32.000000   \n",
       "75%              32.000000           123.500000   36.550000   \n",
       "max              99.000000           846.000000   67.100000   \n",
       "\n",
       "       Blood_Work_Result_4  Patient_age   Insurance  \n",
       "count           599.000000   599.000000  599.000000  \n",
       "mean              0.481187    33.290484    0.686144  \n",
       "std               0.337552    11.828446    0.464447  \n",
       "min               0.078000    21.000000    0.000000  \n",
       "25%               0.248000    24.000000    0.000000  \n",
       "50%               0.383000    29.000000    1.000000  \n",
       "75%               0.647000    40.000000    1.000000  \n",
       "max               2.420000    81.000000    1.000000  "
      ]
     },
     "execution_count": 248,
     "metadata": {},
     "output_type": "execute_result"
    }
   ],
   "source": [
    "data.describe()"
   ]
  },
  {
   "cell_type": "code",
   "execution_count": 279,
   "id": "74f8035d",
   "metadata": {},
   "outputs": [],
   "source": [
    "# Separate the the numerical columns\n",
    "numerical_features = data.select_dtypes(include=[np.number]).columns.tolist()\n",
    "categoric_features = data.select_dtypes(include=['object']).columns.tolist()"
   ]
  },
  {
   "cell_type": "code",
   "execution_count": 249,
   "id": "102c42a1",
   "metadata": {},
   "outputs": [
    {
     "name": "stdout",
     "output_type": "stream",
     "text": [
      "Total count: 599, Zeros_count: 93 Column: Plasma_glucose\n",
      "Total count: 599, Zeros_count: 5 Column: Blood_Work_Result_1\n",
      "Total count: 599, Zeros_count: 28 Column: Blood_Pressure\n",
      "Total count: 599, Zeros_count: 175 Column: Blood_Work_Result_2\n",
      "Total count: 599, Zeros_count: 289 Column: Blood_Work_Result_3\n",
      "Total count: 599, Zeros_count: 9 Column: BMI\n",
      "Total count: 599, Zeros_count: 0 Column: Blood_Work_Result_4\n",
      "Total count: 599, Zeros_count: 0 Column: Patient_age\n",
      "Total count: 599, Zeros_count: 188 Column: Insurance\n"
     ]
    }
   ],
   "source": [
    "# compare the total count for each column with the count of zeros\n",
    "for col in numerical_features:\n",
    "    zeros_count = (data[col] == 0).sum()\n",
    "    total_count = data[col].count()\n",
    "    print(f\"Total count: {total_count}, Zeros_count: {zeros_count} Column: {col}\")"
   ]
  },
  {
   "cell_type": "code",
   "execution_count": 250,
   "id": "0812ff30",
   "metadata": {},
   "outputs": [],
   "source": [
    "# Replace zeros in each column with the median value\n",
    "for col in numerical_features:\n",
    "    data[col].replace(to_replace=0, value=data[col].median(), inplace=True)"
   ]
  },
  {
   "cell_type": "code",
   "execution_count": 251,
   "id": "5a711752",
   "metadata": {},
   "outputs": [
    {
     "data": {
      "text/html": [
       "<div>\n",
       "<style scoped>\n",
       "    .dataframe tbody tr th:only-of-type {\n",
       "        vertical-align: middle;\n",
       "    }\n",
       "\n",
       "    .dataframe tbody tr th {\n",
       "        vertical-align: top;\n",
       "    }\n",
       "\n",
       "    .dataframe thead th {\n",
       "        text-align: right;\n",
       "    }\n",
       "</style>\n",
       "<table border=\"1\" class=\"dataframe\">\n",
       "  <thead>\n",
       "    <tr style=\"text-align: right;\">\n",
       "      <th></th>\n",
       "      <th>Plasma_glucose</th>\n",
       "      <th>Blood_Work_Result_1</th>\n",
       "      <th>Blood_Pressure</th>\n",
       "      <th>Blood_Work_Result_2</th>\n",
       "      <th>Blood_Work_Result_3</th>\n",
       "      <th>BMI</th>\n",
       "      <th>Blood_Work_Result_4</th>\n",
       "      <th>Patient_age</th>\n",
       "      <th>Insurance</th>\n",
       "    </tr>\n",
       "  </thead>\n",
       "  <tbody>\n",
       "    <tr>\n",
       "      <th>count</th>\n",
       "      <td>599.000000</td>\n",
       "      <td>599.00000</td>\n",
       "      <td>599.000000</td>\n",
       "      <td>599.000000</td>\n",
       "      <td>599.000000</td>\n",
       "      <td>599.000000</td>\n",
       "      <td>599.000000</td>\n",
       "      <td>599.000000</td>\n",
       "      <td>599.0</td>\n",
       "    </tr>\n",
       "    <tr>\n",
       "      <th>mean</th>\n",
       "      <td>4.290484</td>\n",
       "      <td>121.12187</td>\n",
       "      <td>72.005008</td>\n",
       "      <td>27.282137</td>\n",
       "      <td>96.829716</td>\n",
       "      <td>32.400835</td>\n",
       "      <td>0.481187</td>\n",
       "      <td>33.290484</td>\n",
       "      <td>1.0</td>\n",
       "    </tr>\n",
       "    <tr>\n",
       "      <th>std</th>\n",
       "      <td>2.987000</td>\n",
       "      <td>30.76739</td>\n",
       "      <td>11.917146</td>\n",
       "      <td>9.451984</td>\n",
       "      <td>105.589923</td>\n",
       "      <td>6.968917</td>\n",
       "      <td>0.337552</td>\n",
       "      <td>11.828446</td>\n",
       "      <td>0.0</td>\n",
       "    </tr>\n",
       "    <tr>\n",
       "      <th>min</th>\n",
       "      <td>1.000000</td>\n",
       "      <td>44.00000</td>\n",
       "      <td>24.000000</td>\n",
       "      <td>7.000000</td>\n",
       "      <td>14.000000</td>\n",
       "      <td>18.200000</td>\n",
       "      <td>0.078000</td>\n",
       "      <td>21.000000</td>\n",
       "      <td>1.0</td>\n",
       "    </tr>\n",
       "    <tr>\n",
       "      <th>25%</th>\n",
       "      <td>2.000000</td>\n",
       "      <td>99.00000</td>\n",
       "      <td>64.000000</td>\n",
       "      <td>23.000000</td>\n",
       "      <td>36.000000</td>\n",
       "      <td>27.400000</td>\n",
       "      <td>0.248000</td>\n",
       "      <td>24.000000</td>\n",
       "      <td>1.0</td>\n",
       "    </tr>\n",
       "    <tr>\n",
       "      <th>50%</th>\n",
       "      <td>3.000000</td>\n",
       "      <td>116.00000</td>\n",
       "      <td>70.000000</td>\n",
       "      <td>23.000000</td>\n",
       "      <td>36.000000</td>\n",
       "      <td>32.000000</td>\n",
       "      <td>0.383000</td>\n",
       "      <td>29.000000</td>\n",
       "      <td>1.0</td>\n",
       "    </tr>\n",
       "    <tr>\n",
       "      <th>75%</th>\n",
       "      <td>6.000000</td>\n",
       "      <td>140.00000</td>\n",
       "      <td>80.000000</td>\n",
       "      <td>32.000000</td>\n",
       "      <td>123.500000</td>\n",
       "      <td>36.550000</td>\n",
       "      <td>0.647000</td>\n",
       "      <td>40.000000</td>\n",
       "      <td>1.0</td>\n",
       "    </tr>\n",
       "    <tr>\n",
       "      <th>max</th>\n",
       "      <td>17.000000</td>\n",
       "      <td>198.00000</td>\n",
       "      <td>122.000000</td>\n",
       "      <td>99.000000</td>\n",
       "      <td>846.000000</td>\n",
       "      <td>67.100000</td>\n",
       "      <td>2.420000</td>\n",
       "      <td>81.000000</td>\n",
       "      <td>1.0</td>\n",
       "    </tr>\n",
       "  </tbody>\n",
       "</table>\n",
       "</div>"
      ],
      "text/plain": [
       "       Plasma_glucose  Blood_Work_Result_1  Blood_Pressure  \\\n",
       "count      599.000000            599.00000      599.000000   \n",
       "mean         4.290484            121.12187       72.005008   \n",
       "std          2.987000             30.76739       11.917146   \n",
       "min          1.000000             44.00000       24.000000   \n",
       "25%          2.000000             99.00000       64.000000   \n",
       "50%          3.000000            116.00000       70.000000   \n",
       "75%          6.000000            140.00000       80.000000   \n",
       "max         17.000000            198.00000      122.000000   \n",
       "\n",
       "       Blood_Work_Result_2  Blood_Work_Result_3         BMI  \\\n",
       "count           599.000000           599.000000  599.000000   \n",
       "mean             27.282137            96.829716   32.400835   \n",
       "std               9.451984           105.589923    6.968917   \n",
       "min               7.000000            14.000000   18.200000   \n",
       "25%              23.000000            36.000000   27.400000   \n",
       "50%              23.000000            36.000000   32.000000   \n",
       "75%              32.000000           123.500000   36.550000   \n",
       "max              99.000000           846.000000   67.100000   \n",
       "\n",
       "       Blood_Work_Result_4  Patient_age  Insurance  \n",
       "count           599.000000   599.000000      599.0  \n",
       "mean              0.481187    33.290484        1.0  \n",
       "std               0.337552    11.828446        0.0  \n",
       "min               0.078000    21.000000        1.0  \n",
       "25%               0.248000    24.000000        1.0  \n",
       "50%               0.383000    29.000000        1.0  \n",
       "75%               0.647000    40.000000        1.0  \n",
       "max               2.420000    81.000000        1.0  "
      ]
     },
     "execution_count": 251,
     "metadata": {},
     "output_type": "execute_result"
    }
   ],
   "source": [
    "data.describe()"
   ]
  },
  {
   "cell_type": "code",
   "execution_count": 252,
   "id": "10f9772f",
   "metadata": {},
   "outputs": [],
   "source": [
    "# def count_zeros(columns)\n",
    "# d = (data['Plasma_glucose']==0).sum()\n",
    "# print(d, (data['Plasma_glucose']!=0).sum())"
   ]
  },
  {
   "attachments": {},
   "cell_type": "markdown",
   "id": "edd3d904",
   "metadata": {},
   "source": [
    "The results above showed there are many outliers\n",
    "\n",
    "To deal with outliers in the dataset, we can use various techniques such as:\n",
    "\n",
    "Winsorization: replace the extreme values with the nearest non-outlier value.\n",
    "Trimming: remove the extreme values from the dataset.\n",
    "Transformation: apply mathematical transformations such as logarithm or square root to the data to make the distribution more symmetric."
   ]
  },
  {
   "cell_type": "code",
   "execution_count": 253,
   "id": "3a7ea634",
   "metadata": {},
   "outputs": [
    {
     "name": "stdout",
     "output_type": "stream",
     "text": [
      "Plasma_glucose is not normally distributed (p-value=4.3931711774501185e-21)\n",
      "Blood_Work_Result_1 is not normally distributed (p-value=5.198173558262909e-10)\n",
      "Blood_Pressure is not normally distributed (p-value=2.782979208859615e-06)\n",
      "Blood_Work_Result_2 is not normally distributed (p-value=2.564007402032404e-18)\n",
      "Blood_Work_Result_3 is not normally distributed (p-value=1.4404240533682491e-33)\n",
      "BMI is not normally distributed (p-value=6.2934994105035e-08)\n",
      "Blood_Work_Result_4 is not normally distributed (p-value=1.4773411337972998e-24)\n",
      "Patient_age is not normally distributed (p-value=1.0750616611191123e-21)\n"
     ]
    }
   ],
   "source": [
    "# drop Insurance from numerical_features since it has no outliers\n",
    "outlier_features = [col for col in numerical_features if col != 'Insurance']\n",
    "\n",
    "for col in outlier_features:\n",
    "    # Perform Shapiro-Wilk test\n",
    "    stat, p = shapiro(data[col])\n",
    "    \n",
    "    # Print the result\n",
    "    if p > 0.05:\n",
    "        print(f\"{col} is normally distributed (p-value={p})\")\n",
    "    else:\n",
    "        print(f\"{col} is not normally distributed (p-value={p})\")"
   ]
  },
  {
   "cell_type": "code",
   "execution_count": 278,
   "id": "1cc50fed",
   "metadata": {},
   "outputs": [
    {
     "data": {
      "text/plain": [
       "Plasma_glucose          True\n",
       "Blood_Work_Result_1    False\n",
       "Blood_Pressure          True\n",
       "Blood_Work_Result_2     True\n",
       "Blood_Work_Result_3     True\n",
       "BMI                     True\n",
       "Blood_Work_Result_4     True\n",
       "Patient_age             True\n",
       "Insurance              False\n",
       "dtype: bool"
      ]
     },
     "execution_count": 278,
     "metadata": {},
     "output_type": "execute_result"
    }
   ],
   "source": [
    "# Check for outliers by applying the IQR method checking\n",
    "df = data[numerical_features]\n",
    "\n",
    "Q1 = df.quantile(0.25)\n",
    "Q3 = df.quantile(0.75)\n",
    "IQR = Q3-Q1\n",
    "IQR\n",
    "((df < (Q1-1.5 * IQR)) | (df > (Q3 + 1.5 * IQR))).any()\n"
   ]
  },
  {
   "attachments": {},
   "cell_type": "markdown",
   "id": "c1247e84",
   "metadata": {},
   "source": [
    "we cannot use winsorization since the data is not normally distributed\n"
   ]
  },
  {
   "cell_type": "code",
   "execution_count": 255,
   "id": "e43f5a5d",
   "metadata": {},
   "outputs": [],
   "source": [
    "# # Define the threshold for identifying outliers\n",
    "# outlier_threshold = 2\n",
    "\n",
    "# # Iterate over each numeric column\n",
    "# for col in outlier_features:\n",
    "#     # Calculate the mode of the column\n",
    "#     col_median = data[col].median()\n",
    "    \n",
    "#     # Identify the outliers based on the threshold\n",
    "#     outliers = data[col] > outlier_threshold\n",
    "    \n",
    "#     # Replace the outliers with the mode value\n",
    "#     data.loc[outliers, col] = col_median"
   ]
  },
  {
   "cell_type": "code",
   "execution_count": 256,
   "id": "52ca66f6",
   "metadata": {},
   "outputs": [],
   "source": [
    "# # Specify the proportion of data to trim from each end (e.g. 3%)\n",
    "# trim_pct = 0.1\n",
    "\n",
    "# # Convert the DataFrame to a NumPy array\n",
    "# data_array = data[outlier_features].to_numpy()\n",
    "\n",
    "# # Apply Winsorization to replace outliers with the mean or median\n",
    "# trimmed_data = mstats.winsorize(data_array, limits=trim_pct)\n",
    "\n",
    "# # Convert the trimmed_data back to a DataFrame\n",
    "# trimmed_df = pd.DataFrame(trimmed_data, columns=data[outlier_features].columns)\n",
    "\n",
    "# # Replace the numerical variables in the original data with the trimmed data\n",
    "# data[outlier_features] = trimmed_df[outlier_features]\n",
    "\n",
    "# # Print the replaced values\n",
    "# print(data)"
   ]
  },
  {
   "cell_type": "code",
   "execution_count": 257,
   "id": "95e4dee3",
   "metadata": {},
   "outputs": [],
   "source": [
    "# # Trim the data using the trim_mean function from scipy.stats\n",
    "# trimmed_data = data[outlier_features].apply(lambda x: trim_mean(x, trim_pct), axis=0)\n",
    "\n",
    "# # replace the numerical features with trimmed data\n",
    "# data[outlier_features] = trimmed_data[outlier_features]"
   ]
  },
  {
   "cell_type": "code",
   "execution_count": 258,
   "id": "11d66d53",
   "metadata": {},
   "outputs": [],
   "source": [
    "# # Specify the proportion of data to trim from each end (e.g. 5%)\n",
    "# trim_pct = 0.03\n",
    "\n",
    "# # Trim the data using the trim_mean function from scipy.stats\n",
    "# trimmed_data = df.apply(lambda x: trim_mean(x, trim_pct), axis=0)\n",
    "\n",
    "# # Compare the trimmed and untrimmed means\n",
    "# print(f\"Untrimmed mean: {data.mean()}\")\n",
    "# print(f\"Trimmed mean: {trimmed_data}\")"
   ]
  },
  {
   "cell_type": "code",
   "execution_count": 259,
   "id": "e81fb0e4",
   "metadata": {},
   "outputs": [
    {
     "data": {
      "text/plain": [
       "Plasma_glucose          True\n",
       "Blood_Work_Result_1    False\n",
       "Blood_Pressure          True\n",
       "Blood_Work_Result_2     True\n",
       "Blood_Work_Result_3     True\n",
       "BMI                     True\n",
       "Blood_Work_Result_4     True\n",
       "Patient_age             True\n",
       "Insurance              False\n",
       "dtype: bool"
      ]
     },
     "execution_count": 259,
     "metadata": {},
     "output_type": "execute_result"
    }
   ],
   "source": [
    "df = data[numerical_features]\n",
    "\n",
    "Q1 = df.quantile(0.25)\n",
    "Q3 = df.quantile(0.75)\n",
    "IQR = Q3-Q1\n",
    "IQR\n",
    "((df < (Q1-1.5 * IQR)) | (df > (Q3 + 1.5 * IQR))).any()"
   ]
  },
  {
   "cell_type": "code",
   "execution_count": 260,
   "id": "a2a9024c",
   "metadata": {},
   "outputs": [
    {
     "data": {
      "text/plain": [
       "<AxesSubplot:>"
      ]
     },
     "execution_count": 260,
     "metadata": {},
     "output_type": "execute_result"
    },
    {
     "data": {
      "image/png": "[encoded data removed]",
      "text/plain": [
       "<Figure size 640x480 with 2 Axes>"
      ]
     },
     "metadata": {},
     "output_type": "display_data"
    }
   ],
   "source": [
    "# Check for multicollinearity between predictor variables\n",
    "corr = data.corr()\n",
    "sns.heatmap(corr, cmap='coolwarm')"
   ]
  },
  {
   "attachments": {},
   "cell_type": "markdown",
   "id": "9a5dc642",
   "metadata": {},
   "source": [
    "## Data Imbalance Check"
   ]
  },
  {
   "cell_type": "code",
   "execution_count": 261,
   "id": "62dd926e",
   "metadata": {},
   "outputs": [
    {
     "data": {
      "text/plain": [
       "<AxesSubplot:xlabel='Target', ylabel='count'>"
      ]
     },
     "execution_count": 261,
     "metadata": {},
     "output_type": "execute_result"
    },
    {
     "data": {
      "image/png": "[encoded data removed]",
      "text/plain": [
       "<Figure size 640x480 with 1 Axes>"
      ]
     },
     "metadata": {},
     "output_type": "display_data"
    }
   ],
   "source": [
    "# Handle imbalanced classes in the target variable\n",
    "sns.countplot(x='Target', data=data)"
   ]
  },
  {
   "attachments": {},
   "cell_type": "markdown",
   "id": "2d01bce4",
   "metadata": {},
   "source": [
    "## Drop Duplicates"
   ]
  },
  {
   "cell_type": "code",
   "execution_count": 262,
   "id": "4c8c8d03",
   "metadata": {},
   "outputs": [
    {
     "data": {
      "text/plain": [
       "0"
      ]
     },
     "execution_count": 262,
     "metadata": {},
     "output_type": "execute_result"
    }
   ],
   "source": [
    "data.duplicated().sum()"
   ]
  },
  {
   "attachments": {},
   "cell_type": "markdown",
   "id": "a104ead9",
   "metadata": {},
   "source": [
    "## Impute Missing Values"
   ]
  },
  {
   "cell_type": "code",
   "execution_count": 266,
   "id": "dada3058",
   "metadata": {},
   "outputs": [
    {
     "data": {
      "text/plain": [
       "ID                     0\n",
       "Plasma_glucose         0\n",
       "Blood_Work_Result_1    0\n",
       "Blood_Pressure         0\n",
       "Blood_Work_Result_2    0\n",
       "Blood_Work_Result_3    0\n",
       "BMI                    0\n",
       "Blood_Work_Result_4    0\n",
       "Patient_age            0\n",
       "Insurance              0\n",
       "Target                 0\n",
       "dtype: int64"
      ]
     },
     "execution_count": 266,
     "metadata": {},
     "output_type": "execute_result"
    }
   ],
   "source": [
    "data.isnull().sum()"
   ]
  },
  {
   "attachments": {},
   "cell_type": "markdown",
   "id": "57ca357f",
   "metadata": {},
   "source": [
    "## Univariate Analysis"
   ]
  },
  {
   "cell_type": "code",
   "execution_count": 285,
   "id": "79bf7c59",
   "metadata": {},
   "outputs": [
    {
     "data": {
      "image/png": "[encoded data removed]",
      "text/plain": [
       "<Figure size 1200x1200 with 9 Axes>"
      ]
     },
     "metadata": {},
     "output_type": "display_data"
    }
   ],
   "source": [
    "# Set the style for the plot\n",
    "sns.set(style=\"ticks\", color_codes=True)\n",
    "\n",
    "# Create a grid of 3 by 3 subplots\n",
    "fig, axes = plt.subplots(3, 3, figsize=(12, 12))\n",
    "\n",
    "# Flatten the axes array\n",
    "axes = axes.flatten()\n",
    "\n",
    "# Plot histograms for each numerical column\n",
    "for i, col in enumerate(numerical_features):\n",
    "    sns.histplot(data=data, x=col, kde=True, bins=10, ax=axes[i])\n",
    "    axes[i].set_title(f'Histogram of {col}')\n",
    "    axes[i].set_xlabel(col)\n",
    "    axes[i].set_ylabel('Count')\n",
    "\n",
    "# Adjust the spacing between subplots\n",
    "plt.tight_layout()\n",
    "\n",
    "# Display the plot\n",
    "plt.show()"
   ]
  },
  {
   "cell_type": "markdown",
   "id": "61e15823",
   "metadata": {},
   "source": [
    "## Bivariate Analysis"
   ]
  },
  {
   "cell_type": "markdown",
   "id": "d836c386",
   "metadata": {},
   "source": [
    "## Multivariate Analysis"
   ]
  },
  {
   "attachments": {},
   "cell_type": "markdown",
   "id": "f5fb96ca",
   "metadata": {},
   "source": [
    "## Hypothesis validation"
   ]
  },
  {
   "cell_type": "markdown",
   "id": "64546a5f",
   "metadata": {},
   "source": [
    "## Anwering Questions"
   ]
  },
  {
   "cell_type": "markdown",
   "id": "1af5142f",
   "metadata": {},
   "source": [
    "## 1. Does longer tenure increase churn?\n",
    "customers with longer tenure have less churn rate."
   ]
  },
  {
   "cell_type": "code",
   "execution_count": 265,
   "id": "b12288c9",
   "metadata": {},
   "outputs": [
    {
     "ename": "KeyError",
     "evalue": "'Churn'",
     "output_type": "error",
     "traceback": [
      "\u001b[1;31m---------------------------------------------------------------------------\u001b[0m",
      "\u001b[1;31mKeyError\u001b[0m                                  Traceback (most recent call last)",
      "\u001b[1;32mc:\\Users\\LENOVO\\anaconda3\\lib\\site-packages\\pandas\\core\\indexes\\base.py\u001b[0m in \u001b[0;36mget_loc\u001b[1;34m(self, key, method, tolerance)\u001b[0m\n\u001b[0;32m   3628\u001b[0m             \u001b[1;32mtry\u001b[0m\u001b[1;33m:\u001b[0m\u001b[1;33m\u001b[0m\u001b[1;33m\u001b[0m\u001b[0m\n\u001b[1;32m-> 3629\u001b[1;33m                 \u001b[1;32mreturn\u001b[0m \u001b[0mself\u001b[0m\u001b[1;33m.\u001b[0m\u001b[0m_engine\u001b[0m\u001b[1;33m.\u001b[0m\u001b[0mget_loc\u001b[0m\u001b[1;33m(\u001b[0m\u001b[0mcasted_key\u001b[0m\u001b[1;33m)\u001b[0m\u001b[1;33m\u001b[0m\u001b[1;33m\u001b[0m\u001b[0m\n\u001b[0m\u001b[0;32m   3630\u001b[0m             \u001b[1;32mexcept\u001b[0m \u001b[0mKeyError\u001b[0m \u001b[1;32mas\u001b[0m \u001b[0merr\u001b[0m\u001b[1;33m:\u001b[0m\u001b[1;33m\u001b[0m\u001b[1;33m\u001b[0m\u001b[0m\n",
      "\u001b[1;32mc:\\Users\\LENOVO\\anaconda3\\lib\\site-packages\\pandas\\_libs\\index.pyx\u001b[0m in \u001b[0;36mpandas._libs.index.IndexEngine.get_loc\u001b[1;34m()\u001b[0m\n",
      "\u001b[1;32mc:\\Users\\LENOVO\\anaconda3\\lib\\site-packages\\pandas\\_libs\\index.pyx\u001b[0m in \u001b[0;36mpandas._libs.index.IndexEngine.get_loc\u001b[1;34m()\u001b[0m\n",
      "\u001b[1;32mpandas\\_libs\\hashtable_class_helper.pxi\u001b[0m in \u001b[0;36mpandas._libs.hashtable.PyObjectHashTable.get_item\u001b[1;34m()\u001b[0m\n",
      "\u001b[1;32mpandas\\_libs\\hashtable_class_helper.pxi\u001b[0m in \u001b[0;36mpandas._libs.hashtable.PyObjectHashTable.get_item\u001b[1;34m()\u001b[0m\n",
      "\u001b[1;31mKeyError\u001b[0m: 'Churn'",
      "\nThe above exception was the direct cause of the following exception:\n",
      "\u001b[1;31mKeyError\u001b[0m                                  Traceback (most recent call last)",
      "\u001b[1;32m~\\AppData\\Local\\Temp\\ipykernel_12876\\2020484146.py\u001b[0m in \u001b[0;36m<module>\u001b[1;34m\u001b[0m\n\u001b[1;32m----> 1\u001b[1;33m \u001b[0msns\u001b[0m\u001b[1;33m.\u001b[0m\u001b[0mpairplot\u001b[0m\u001b[1;33m(\u001b[0m\u001b[0mdata\u001b[0m\u001b[1;33m,\u001b[0m\u001b[0mvars\u001b[0m \u001b[1;33m=\u001b[0m \u001b[1;33m[\u001b[0m\u001b[1;34m'tenure'\u001b[0m\u001b[1;33m,\u001b[0m\u001b[1;34m'MonthlyCharges'\u001b[0m\u001b[1;33m]\u001b[0m\u001b[1;33m,\u001b[0m \u001b[0mhue\u001b[0m\u001b[1;33m=\u001b[0m\u001b[1;34m\"Churn\"\u001b[0m\u001b[1;33m)\u001b[0m\u001b[1;33m\u001b[0m\u001b[1;33m\u001b[0m\u001b[0m\n\u001b[0m",
      "\u001b[1;32mc:\\Users\\LENOVO\\anaconda3\\lib\\site-packages\\seaborn\\_decorators.py\u001b[0m in \u001b[0;36minner_f\u001b[1;34m(*args, **kwargs)\u001b[0m\n\u001b[0;32m     44\u001b[0m             )\n\u001b[0;32m     45\u001b[0m         \u001b[0mkwargs\u001b[0m\u001b[1;33m.\u001b[0m\u001b[0mupdate\u001b[0m\u001b[1;33m(\u001b[0m\u001b[1;33m{\u001b[0m\u001b[0mk\u001b[0m\u001b[1;33m:\u001b[0m \u001b[0marg\u001b[0m \u001b[1;32mfor\u001b[0m \u001b[0mk\u001b[0m\u001b[1;33m,\u001b[0m \u001b[0marg\u001b[0m \u001b[1;32min\u001b[0m \u001b[0mzip\u001b[0m\u001b[1;33m(\u001b[0m\u001b[0msig\u001b[0m\u001b[1;33m.\u001b[0m\u001b[0mparameters\u001b[0m\u001b[1;33m,\u001b[0m \u001b[0margs\u001b[0m\u001b[1;33m)\u001b[0m\u001b[1;33m}\u001b[0m\u001b[1;33m)\u001b[0m\u001b[1;33m\u001b[0m\u001b[1;33m\u001b[0m\u001b[0m\n\u001b[1;32m---> 46\u001b[1;33m         \u001b[1;32mreturn\u001b[0m \u001b[0mf\u001b[0m\u001b[1;33m(\u001b[0m\u001b[1;33m**\u001b[0m\u001b[0mkwargs\u001b[0m\u001b[1;33m)\u001b[0m\u001b[1;33m\u001b[0m\u001b[1;33m\u001b[0m\u001b[0m\n\u001b[0m\u001b[0;32m     47\u001b[0m     \u001b[1;32mreturn\u001b[0m \u001b[0minner_f\u001b[0m\u001b[1;33m\u001b[0m\u001b[1;33m\u001b[0m\u001b[0m\n\u001b[0;32m     48\u001b[0m \u001b[1;33m\u001b[0m\u001b[0m\n",
      "\u001b[1;32mc:\\Users\\LENOVO\\anaconda3\\lib\\site-packages\\seaborn\\axisgrid.py\u001b[0m in \u001b[0;36mpairplot\u001b[1;34m(data, hue, hue_order, palette, vars, x_vars, y_vars, kind, diag_kind, markers, height, aspect, corner, dropna, plot_kws, diag_kws, grid_kws, size)\u001b[0m\n\u001b[0;32m   2094\u001b[0m     \u001b[1;31m# Set up the PairGrid\u001b[0m\u001b[1;33m\u001b[0m\u001b[1;33m\u001b[0m\u001b[0m\n\u001b[0;32m   2095\u001b[0m     \u001b[0mgrid_kws\u001b[0m\u001b[1;33m.\u001b[0m\u001b[0msetdefault\u001b[0m\u001b[1;33m(\u001b[0m\u001b[1;34m\"diag_sharey\"\u001b[0m\u001b[1;33m,\u001b[0m \u001b[0mdiag_kind\u001b[0m \u001b[1;33m==\u001b[0m \u001b[1;34m\"hist\"\u001b[0m\u001b[1;33m)\u001b[0m\u001b[1;33m\u001b[0m\u001b[1;33m\u001b[0m\u001b[0m\n\u001b[1;32m-> 2096\u001b[1;33m     grid = PairGrid(data, vars=vars, x_vars=x_vars, y_vars=y_vars, hue=hue,\n\u001b[0m\u001b[0;32m   2097\u001b[0m                     \u001b[0mhue_order\u001b[0m\u001b[1;33m=\u001b[0m\u001b[0mhue_order\u001b[0m\u001b[1;33m,\u001b[0m \u001b[0mpalette\u001b[0m\u001b[1;33m=\u001b[0m\u001b[0mpalette\u001b[0m\u001b[1;33m,\u001b[0m \u001b[0mcorner\u001b[0m\u001b[1;33m=\u001b[0m\u001b[0mcorner\u001b[0m\u001b[1;33m,\u001b[0m\u001b[1;33m\u001b[0m\u001b[1;33m\u001b[0m\u001b[0m\n\u001b[0;32m   2098\u001b[0m                     height=height, aspect=aspect, dropna=dropna, **grid_kws)\n",
      "\u001b[1;32mc:\\Users\\LENOVO\\anaconda3\\lib\\site-packages\\seaborn\\_decorators.py\u001b[0m in \u001b[0;36minner_f\u001b[1;34m(*args, **kwargs)\u001b[0m\n\u001b[0;32m     44\u001b[0m             )\n\u001b[0;32m     45\u001b[0m         \u001b[0mkwargs\u001b[0m\u001b[1;33m.\u001b[0m\u001b[0mupdate\u001b[0m\u001b[1;33m(\u001b[0m\u001b[1;33m{\u001b[0m\u001b[0mk\u001b[0m\u001b[1;33m:\u001b[0m \u001b[0marg\u001b[0m \u001b[1;32mfor\u001b[0m \u001b[0mk\u001b[0m\u001b[1;33m,\u001b[0m \u001b[0marg\u001b[0m \u001b[1;32min\u001b[0m \u001b[0mzip\u001b[0m\u001b[1;33m(\u001b[0m\u001b[0msig\u001b[0m\u001b[1;33m.\u001b[0m\u001b[0mparameters\u001b[0m\u001b[1;33m,\u001b[0m \u001b[0margs\u001b[0m\u001b[1;33m)\u001b[0m\u001b[1;33m}\u001b[0m\u001b[1;33m)\u001b[0m\u001b[1;33m\u001b[0m\u001b[1;33m\u001b[0m\u001b[0m\n\u001b[1;32m---> 46\u001b[1;33m         \u001b[1;32mreturn\u001b[0m \u001b[0mf\u001b[0m\u001b[1;33m(\u001b[0m\u001b[1;33m**\u001b[0m\u001b[0mkwargs\u001b[0m\u001b[1;33m)\u001b[0m\u001b[1;33m\u001b[0m\u001b[1;33m\u001b[0m\u001b[0m\n\u001b[0m\u001b[0;32m     47\u001b[0m     \u001b[1;32mreturn\u001b[0m \u001b[0minner_f\u001b[0m\u001b[1;33m\u001b[0m\u001b[1;33m\u001b[0m\u001b[0m\n\u001b[0;32m     48\u001b[0m \u001b[1;33m\u001b[0m\u001b[0m\n",
      "\u001b[1;32mc:\\Users\\LENOVO\\anaconda3\\lib\\site-packages\\seaborn\\axisgrid.py\u001b[0m in \u001b[0;36m__init__\u001b[1;34m(self, data, hue, hue_order, palette, hue_kws, vars, x_vars, y_vars, corner, diag_sharey, height, aspect, layout_pad, despine, dropna, size)\u001b[0m\n\u001b[0;32m   1287\u001b[0m             \u001b[1;31m# to the axes-level functions, while always handling legend creation.\u001b[0m\u001b[1;33m\u001b[0m\u001b[1;33m\u001b[0m\u001b[0m\n\u001b[0;32m   1288\u001b[0m             \u001b[1;31m# See GH2307\u001b[0m\u001b[1;33m\u001b[0m\u001b[1;33m\u001b[0m\u001b[0m\n\u001b[1;32m-> 1289\u001b[1;33m             \u001b[0mhue_names\u001b[0m \u001b[1;33m=\u001b[0m \u001b[0mhue_order\u001b[0m \u001b[1;33m=\u001b[0m \u001b[0mcategorical_order\u001b[0m\u001b[1;33m(\u001b[0m\u001b[0mdata\u001b[0m\u001b[1;33m[\u001b[0m\u001b[0mhue\u001b[0m\u001b[1;33m]\u001b[0m\u001b[1;33m,\u001b[0m \u001b[0mhue_order\u001b[0m\u001b[1;33m)\u001b[0m\u001b[1;33m\u001b[0m\u001b[1;33m\u001b[0m\u001b[0m\n\u001b[0m\u001b[0;32m   1290\u001b[0m             \u001b[1;32mif\u001b[0m \u001b[0mdropna\u001b[0m\u001b[1;33m:\u001b[0m\u001b[1;33m\u001b[0m\u001b[1;33m\u001b[0m\u001b[0m\n\u001b[0;32m   1291\u001b[0m                 \u001b[1;31m# Filter NA from the list of unique hue names\u001b[0m\u001b[1;33m\u001b[0m\u001b[1;33m\u001b[0m\u001b[0m\n",
      "\u001b[1;32mc:\\Users\\LENOVO\\anaconda3\\lib\\site-packages\\pandas\\core\\frame.py\u001b[0m in \u001b[0;36m__getitem__\u001b[1;34m(self, key)\u001b[0m\n\u001b[0;32m   3503\u001b[0m             \u001b[1;32mif\u001b[0m \u001b[0mself\u001b[0m\u001b[1;33m.\u001b[0m\u001b[0mcolumns\u001b[0m\u001b[1;33m.\u001b[0m\u001b[0mnlevels\u001b[0m \u001b[1;33m>\u001b[0m \u001b[1;36m1\u001b[0m\u001b[1;33m:\u001b[0m\u001b[1;33m\u001b[0m\u001b[1;33m\u001b[0m\u001b[0m\n\u001b[0;32m   3504\u001b[0m                 \u001b[1;32mreturn\u001b[0m \u001b[0mself\u001b[0m\u001b[1;33m.\u001b[0m\u001b[0m_getitem_multilevel\u001b[0m\u001b[1;33m(\u001b[0m\u001b[0mkey\u001b[0m\u001b[1;33m)\u001b[0m\u001b[1;33m\u001b[0m\u001b[1;33m\u001b[0m\u001b[0m\n\u001b[1;32m-> 3505\u001b[1;33m             \u001b[0mindexer\u001b[0m \u001b[1;33m=\u001b[0m \u001b[0mself\u001b[0m\u001b[1;33m.\u001b[0m\u001b[0mcolumns\u001b[0m\u001b[1;33m.\u001b[0m\u001b[0mget_loc\u001b[0m\u001b[1;33m(\u001b[0m\u001b[0mkey\u001b[0m\u001b[1;33m)\u001b[0m\u001b[1;33m\u001b[0m\u001b[1;33m\u001b[0m\u001b[0m\n\u001b[0m\u001b[0;32m   3506\u001b[0m             \u001b[1;32mif\u001b[0m \u001b[0mis_integer\u001b[0m\u001b[1;33m(\u001b[0m\u001b[0mindexer\u001b[0m\u001b[1;33m)\u001b[0m\u001b[1;33m:\u001b[0m\u001b[1;33m\u001b[0m\u001b[1;33m\u001b[0m\u001b[0m\n\u001b[0;32m   3507\u001b[0m                 \u001b[0mindexer\u001b[0m \u001b[1;33m=\u001b[0m \u001b[1;33m[\u001b[0m\u001b[0mindexer\u001b[0m\u001b[1;33m]\u001b[0m\u001b[1;33m\u001b[0m\u001b[1;33m\u001b[0m\u001b[0m\n",
      "\u001b[1;32mc:\\Users\\LENOVO\\anaconda3\\lib\\site-packages\\pandas\\core\\indexes\\base.py\u001b[0m in \u001b[0;36mget_loc\u001b[1;34m(self, key, method, tolerance)\u001b[0m\n\u001b[0;32m   3629\u001b[0m                 \u001b[1;32mreturn\u001b[0m \u001b[0mself\u001b[0m\u001b[1;33m.\u001b[0m\u001b[0m_engine\u001b[0m\u001b[1;33m.\u001b[0m\u001b[0mget_loc\u001b[0m\u001b[1;33m(\u001b[0m\u001b[0mcasted_key\u001b[0m\u001b[1;33m)\u001b[0m\u001b[1;33m\u001b[0m\u001b[1;33m\u001b[0m\u001b[0m\n\u001b[0;32m   3630\u001b[0m             \u001b[1;32mexcept\u001b[0m \u001b[0mKeyError\u001b[0m \u001b[1;32mas\u001b[0m \u001b[0merr\u001b[0m\u001b[1;33m:\u001b[0m\u001b[1;33m\u001b[0m\u001b[1;33m\u001b[0m\u001b[0m\n\u001b[1;32m-> 3631\u001b[1;33m                 \u001b[1;32mraise\u001b[0m \u001b[0mKeyError\u001b[0m\u001b[1;33m(\u001b[0m\u001b[0mkey\u001b[0m\u001b[1;33m)\u001b[0m \u001b[1;32mfrom\u001b[0m \u001b[0merr\u001b[0m\u001b[1;33m\u001b[0m\u001b[1;33m\u001b[0m\u001b[0m\n\u001b[0m\u001b[0;32m   3632\u001b[0m             \u001b[1;32mexcept\u001b[0m \u001b[0mTypeError\u001b[0m\u001b[1;33m:\u001b[0m\u001b[1;33m\u001b[0m\u001b[1;33m\u001b[0m\u001b[0m\n\u001b[0;32m   3633\u001b[0m                 \u001b[1;31m# If we have a listlike key, _check_indexing_error will raise\u001b[0m\u001b[1;33m\u001b[0m\u001b[1;33m\u001b[0m\u001b[0m\n",
      "\u001b[1;31mKeyError\u001b[0m: 'Churn'"
     ]
    },
    {
     "data": {
      "image/png": "[encoded data removed]",
      "text/plain": [
       "<Figure size 500x500 with 4 Axes>"
      ]
     },
     "metadata": {},
     "output_type": "display_data"
    }
   ],
   "source": [
    "sns.pairplot(data,vars = ['tenure','MonthlyCharges'], hue=\"Churn\")"
   ]
  },
  {
   "cell_type": "markdown",
   "id": "efdaa6cc",
   "metadata": {},
   "source": [
    "## 2. Is there any pattern in Customer Churn based on gender?\n",
    "The plot below shows that churn for both genders is very similar."
   ]
  },
  {
   "cell_type": "code",
   "execution_count": null,
   "id": "19cf8e63",
   "metadata": {},
   "outputs": [
    {
     "data": {
      "image/png": "[encoded data removed]",
      "text/plain": [
       "<Figure size 640x480 with 1 Axes>"
      ]
     },
     "metadata": {},
     "output_type": "display_data"
    }
   ],
   "source": [
    "sns.countplot(data = data, \n",
    "              x = 'gender', \n",
    "              hue = 'Churn')\n",
    "plt.show()"
   ]
  },
  {
   "cell_type": "markdown",
   "id": "7e9bcdbd",
   "metadata": {},
   "source": [
    "## 3. Which type of contract keeps more customers?\n",
    "Churn rate for month-to-month contracts much higher that for other contract durations."
   ]
  },
  {
   "cell_type": "code",
   "execution_count": null,
   "id": "3e106dcf",
   "metadata": {},
   "outputs": [
    {
     "data": {
      "image/png": "[encoded data removed]",
      "text/plain": [
       "<Figure size 640x480 with 1 Axes>"
      ]
     },
     "metadata": {},
     "output_type": "display_data"
    }
   ],
   "source": [
    "sns.countplot(data = data, \n",
    "              x = 'Contract', \n",
    "              hue = 'Churn')\n",
    "plt.show()"
   ]
  },
  {
   "cell_type": "markdown",
   "id": "e3c44ab2",
   "metadata": {},
   "source": [
    "## 4. What's the most profitable Internetservice type\n",
    "FiberOptic InternetService keeps more customers"
   ]
  },
  {
   "cell_type": "code",
   "execution_count": null,
   "id": "3ba72e8d",
   "metadata": {},
   "outputs": [
    {
     "data": {
      "image/png": "[encoded data removed]",
      "text/plain": [
       "<Figure size 640x480 with 1 Axes>"
      ]
     },
     "metadata": {},
     "output_type": "display_data"
    }
   ],
   "source": [
    "sns.countplot(data = data, \n",
    "              x = 'InternetService', \n",
    "              hue = 'Churn')\n",
    "plt.show()"
   ]
  },
  {
   "cell_type": "markdown",
   "id": "16fca39d",
   "metadata": {},
   "source": [
    "# Feature Processing & Engineering"
   ]
  },
  {
   "cell_type": "markdown",
   "id": "214c2134",
   "metadata": {},
   "source": [
    "## Creating new features\n",
    "Some columns are related to each other, so we'll add them together to avoid having unnecessary features"
   ]
  },
  {
   "cell_type": "code",
   "execution_count": null,
   "id": "0b3b1dfa",
   "metadata": {},
   "outputs": [
    {
     "data": {
      "text/plain": [
       "array(['Nope', 'SingleLine', 'MultipleLines'], dtype=object)"
      ]
     },
     "execution_count": 133,
     "metadata": {},
     "output_type": "execute_result"
    }
   ],
   "source": [
    "data[\"PhoneService\"] = data.apply(lambda x: \n",
    "                                  \"MultipleLines\" \n",
    "                                  if x['MultipleLines'] == 'Yes' and x['PhoneService'] == 'Yes'\n",
    "                                  else \n",
    "                                  \"SingleLine\" \n",
    "                                  if x['MultipleLines'] == 'No' and x['PhoneService'] == 'Yes'\n",
    "                                  else \n",
    "                                  \"Nope\", \n",
    "                                  axis=1\n",
    "                                  )\n",
    "data['PhoneService'].unique()"
   ]
  },
  {
   "cell_type": "code",
   "execution_count": null,
   "id": "f301acb7",
   "metadata": {},
   "outputs": [
    {
     "data": {
      "text/plain": [
       "array(['Nope', 'FullService', 'TV', 'Movies'], dtype=object)"
      ]
     },
     "execution_count": 134,
     "metadata": {},
     "output_type": "execute_result"
    }
   ],
   "source": [
    "data[\"StreamingService\"] = data.apply(lambda x: \n",
    "                                  \"FullService\" \n",
    "                                  if x['StreamingTV'] == 'Yes' and x['StreamingMovies'] == 'Yes'\n",
    "                                  else \n",
    "                                  \"TV\" \n",
    "                                  if x['StreamingTV'] == 'Yes' and x['StreamingMovies'] == 'No'\n",
    "                                  else \n",
    "                                  \"Movies\" \n",
    "                                  if x['StreamingTV'] == 'No' and x['StreamingMovies'] == 'Yes'\n",
    "                                  else \n",
    "                                  \"Nope\", \n",
    "                                  axis=1\n",
    "                                  )\n",
    "data[\"StreamingService\"].unique()"
   ]
  },
  {
   "cell_type": "code",
   "execution_count": null,
   "id": "7921c9bc",
   "metadata": {},
   "outputs": [
    {
     "data": {
      "text/plain": [
       "array(['Nope', 'FullSecurity', 'OnlineSecurity', 'DeviceProtection'],\n",
       "      dtype=object)"
      ]
     },
     "execution_count": 135,
     "metadata": {},
     "output_type": "execute_result"
    }
   ],
   "source": [
    "data[\"SecurityService\"] = data.apply(lambda x: \n",
    "                                  \"FullSecurity\" \n",
    "                                  if x['OnlineSecurity'] == 'Yes' and x['DeviceProtection'] == 'Yes'\n",
    "                                  else \n",
    "                                  \"OnlineSecurity\" \n",
    "                                  if x['OnlineSecurity'] == 'Yes' and x['DeviceProtection'] == 'No'\n",
    "                                  else \n",
    "                                  \"DeviceProtection\" \n",
    "                                  if x['OnlineSecurity'] == 'No' and x['DeviceProtection'] == 'Yes'\n",
    "                                  else\n",
    "                                  \"Nope\", \n",
    "                                  axis=1\n",
    "                                  )\n",
    "data[\"SecurityService\"].unique()"
   ]
  },
  {
   "attachments": {},
   "cell_type": "markdown",
   "id": "7aa81efa",
   "metadata": {},
   "source": [
    "the SeniorCitizen column is 0 or 1 instead of No or Yes, so we change the category names accordingly"
   ]
  },
  {
   "cell_type": "code",
   "execution_count": null,
   "id": "925a416a",
   "metadata": {},
   "outputs": [],
   "source": [
    "data['SeniorCitizen'] = data['SeniorCitizen'].replace({0: 'No', 1: 'Yes'})"
   ]
  },
  {
   "cell_type": "code",
   "execution_count": null,
   "id": "f0fcf664",
   "metadata": {},
   "outputs": [],
   "source": [
    "#drop the original features\n",
    "drop_features = ['MultipleLines', 'StreamingTV', 'StreamingMovies', 'OnlineSecurity', 'DeviceProtection']\n",
    "data.drop(drop_features, axis=1, inplace=True)"
   ]
  },
  {
   "cell_type": "markdown",
   "id": "6c25b640",
   "metadata": {},
   "source": [
    "## Impute Missing Values"
   ]
  },
  {
   "cell_type": "code",
   "execution_count": null,
   "id": "10ce28b3",
   "metadata": {},
   "outputs": [],
   "source": [
    "# Drop the missing rows\n",
    "data = data.dropna(subset = ['TotalCharges'])"
   ]
  },
  {
   "cell_type": "code",
   "execution_count": null,
   "id": "9c0f4abd",
   "metadata": {},
   "outputs": [
    {
     "data": {
      "text/plain": [
       "gender              0\n",
       "SeniorCitizen       0\n",
       "Partner             0\n",
       "Dependents          0\n",
       "tenure              0\n",
       "PhoneService        0\n",
       "InternetService     0\n",
       "OnlineBackup        0\n",
       "TechSupport         0\n",
       "Contract            0\n",
       "PaperlessBilling    0\n",
       "PaymentMethod       0\n",
       "MonthlyCharges      0\n",
       "TotalCharges        0\n",
       "Churn               0\n",
       "StreamingService    0\n",
       "SecurityService     0\n",
       "dtype: int64"
      ]
     },
     "execution_count": 139,
     "metadata": {},
     "output_type": "execute_result"
    }
   ],
   "source": [
    "data.isnull().sum()"
   ]
  },
  {
   "cell_type": "code",
   "execution_count": null,
   "id": "2baed49f",
   "metadata": {},
   "outputs": [],
   "source": [
    "le = LabelEncoder()\n",
    "df=data\n",
    "df[['Target']] = df[['Target']].apply(le.fit_transform) # Applying LabelEncoder to 'Target' column\n",
    "\n",
    "X = df.drop('Churn', axis=1)\n",
    "y = df['Churn']"
   ]
  },
  {
   "cell_type": "markdown",
   "id": "749f6179",
   "metadata": {},
   "source": [
    "## Data Imbalance Check"
   ]
  },
  {
   "cell_type": "code",
   "execution_count": null,
   "id": "20ee6680",
   "metadata": {},
   "outputs": [
    {
     "data": {
      "text/plain": [
       "<AxesSubplot:xlabel='Target', ylabel='count'>"
      ]
     },
     "execution_count": 28,
     "metadata": {},
     "output_type": "execute_result"
    },
    {
     "data": {
      "image/png": "[encoded data removed]",
      "text/plain": [
       "<Figure size 640x480 with 1 Axes>"
      ]
     },
     "metadata": {},
     "output_type": "display_data"
    }
   ],
   "source": []
  },
  {
   "cell_type": "markdown",
   "id": "99d79363",
   "metadata": {},
   "source": [
    "Dataset is imbalanced with almost 1:4 ratio. but it's still significant.\n",
    "\n",
    "This means that a blind guess (on \"Not-Churn\") would give us accuracy of 73,51%\n",
    "\n",
    "Therefore, we can't use Accuracy Score to choose our model\n",
    "\n",
    "what to do to solve this issue:\n",
    "\n",
    "1. We could use stratified splitting during train-test split (split the dataset in a way that preserves the same proportions of examples in each class.)\n",
    "2. We could be extra careful when dealing with outliers (we can delete meaningull information).\n",
    "3. Resampling Techniques — Oversample minority class or Undersample majority class."
   ]
  },
  {
   "cell_type": "code",
   "execution_count": null,
   "id": "507a4a64",
   "metadata": {},
   "outputs": [
    {
     "name": "stdout",
     "output_type": "stream",
     "text": [
      "After Random Over Sampling Of Minor Class Total Samples are : 10306\n",
      "Original dataset shape Counter({0: 5153, 1: 1857})\n",
      "Resampled dataset shape Counter({0: 5153, 1: 5153})\n"
     ]
    }
   ],
   "source": [
    "#Oversampling the minority class (the churn customers)\n",
    "ros = RandomOverSampler(random_state=0)\n",
    "X_new,y_new= ros.fit_resample(X, y)\n",
    "\n",
    "print(\"After Random Over Sampling Of Minor Class Total Samples are :\", len(y_new))\n",
    "print('Original dataset shape {}'.format(Counter(y)))\n",
    "print('Resampled dataset shape {}'.format(Counter(y_new)))"
   ]
  },
  {
   "cell_type": "markdown",
   "id": "3c00a094",
   "metadata": {},
   "source": [
    "Now our data is balanced"
   ]
  },
  {
   "cell_type": "code",
   "execution_count": null,
   "id": "61100e2e",
   "metadata": {},
   "outputs": [
    {
     "data": {
      "text/html": [
       "<div>\n",
       "<style scoped>\n",
       "    .dataframe tbody tr th:only-of-type {\n",
       "        vertical-align: middle;\n",
       "    }\n",
       "\n",
       "    .dataframe tbody tr th {\n",
       "        vertical-align: top;\n",
       "    }\n",
       "\n",
       "    .dataframe thead th {\n",
       "        text-align: right;\n",
       "    }\n",
       "</style>\n",
       "<table border=\"1\" class=\"dataframe\">\n",
       "  <thead>\n",
       "    <tr style=\"text-align: right;\">\n",
       "      <th></th>\n",
       "      <th>gender</th>\n",
       "      <th>SeniorCitizen</th>\n",
       "      <th>Partner</th>\n",
       "      <th>Dependents</th>\n",
       "      <th>tenure</th>\n",
       "      <th>PhoneService</th>\n",
       "      <th>InternetService</th>\n",
       "      <th>OnlineBackup</th>\n",
       "      <th>TechSupport</th>\n",
       "      <th>Contract</th>\n",
       "      <th>PaperlessBilling</th>\n",
       "      <th>PaymentMethod</th>\n",
       "      <th>MonthlyCharges</th>\n",
       "      <th>TotalCharges</th>\n",
       "      <th>StreamingService</th>\n",
       "      <th>SecurityService</th>\n",
       "    </tr>\n",
       "  </thead>\n",
       "  <tbody>\n",
       "    <tr>\n",
       "      <th>0</th>\n",
       "      <td>Female</td>\n",
       "      <td>No</td>\n",
       "      <td>Yes</td>\n",
       "      <td>No</td>\n",
       "      <td>1</td>\n",
       "      <td>Nope</td>\n",
       "      <td>DSL</td>\n",
       "      <td>Yes</td>\n",
       "      <td>No</td>\n",
       "      <td>Month-to-month</td>\n",
       "      <td>Yes</td>\n",
       "      <td>Electronic check</td>\n",
       "      <td>29.85</td>\n",
       "      <td>29.85</td>\n",
       "      <td>Nope</td>\n",
       "      <td>Nope</td>\n",
       "    </tr>\n",
       "    <tr>\n",
       "      <th>1</th>\n",
       "      <td>Male</td>\n",
       "      <td>No</td>\n",
       "      <td>No</td>\n",
       "      <td>No</td>\n",
       "      <td>34</td>\n",
       "      <td>SingleLine</td>\n",
       "      <td>DSL</td>\n",
       "      <td>No</td>\n",
       "      <td>No</td>\n",
       "      <td>One year</td>\n",
       "      <td>No</td>\n",
       "      <td>Mailed check</td>\n",
       "      <td>56.95</td>\n",
       "      <td>1889.50</td>\n",
       "      <td>Nope</td>\n",
       "      <td>FullSecurity</td>\n",
       "    </tr>\n",
       "    <tr>\n",
       "      <th>2</th>\n",
       "      <td>Male</td>\n",
       "      <td>No</td>\n",
       "      <td>No</td>\n",
       "      <td>No</td>\n",
       "      <td>2</td>\n",
       "      <td>SingleLine</td>\n",
       "      <td>DSL</td>\n",
       "      <td>Yes</td>\n",
       "      <td>No</td>\n",
       "      <td>Month-to-month</td>\n",
       "      <td>Yes</td>\n",
       "      <td>Mailed check</td>\n",
       "      <td>53.85</td>\n",
       "      <td>108.15</td>\n",
       "      <td>Nope</td>\n",
       "      <td>OnlineSecurity</td>\n",
       "    </tr>\n",
       "    <tr>\n",
       "      <th>3</th>\n",
       "      <td>Male</td>\n",
       "      <td>No</td>\n",
       "      <td>No</td>\n",
       "      <td>No</td>\n",
       "      <td>45</td>\n",
       "      <td>Nope</td>\n",
       "      <td>DSL</td>\n",
       "      <td>No</td>\n",
       "      <td>Yes</td>\n",
       "      <td>One year</td>\n",
       "      <td>No</td>\n",
       "      <td>Bank transfer (automatic)</td>\n",
       "      <td>42.30</td>\n",
       "      <td>1840.75</td>\n",
       "      <td>Nope</td>\n",
       "      <td>FullSecurity</td>\n",
       "    </tr>\n",
       "    <tr>\n",
       "      <th>4</th>\n",
       "      <td>Female</td>\n",
       "      <td>No</td>\n",
       "      <td>No</td>\n",
       "      <td>No</td>\n",
       "      <td>2</td>\n",
       "      <td>SingleLine</td>\n",
       "      <td>Fiber optic</td>\n",
       "      <td>No</td>\n",
       "      <td>No</td>\n",
       "      <td>Month-to-month</td>\n",
       "      <td>Yes</td>\n",
       "      <td>Electronic check</td>\n",
       "      <td>70.70</td>\n",
       "      <td>151.65</td>\n",
       "      <td>Nope</td>\n",
       "      <td>Nope</td>\n",
       "    </tr>\n",
       "    <tr>\n",
       "      <th>...</th>\n",
       "      <td>...</td>\n",
       "      <td>...</td>\n",
       "      <td>...</td>\n",
       "      <td>...</td>\n",
       "      <td>...</td>\n",
       "      <td>...</td>\n",
       "      <td>...</td>\n",
       "      <td>...</td>\n",
       "      <td>...</td>\n",
       "      <td>...</td>\n",
       "      <td>...</td>\n",
       "      <td>...</td>\n",
       "      <td>...</td>\n",
       "      <td>...</td>\n",
       "      <td>...</td>\n",
       "      <td>...</td>\n",
       "    </tr>\n",
       "    <tr>\n",
       "      <th>10301</th>\n",
       "      <td>Male</td>\n",
       "      <td>Yes</td>\n",
       "      <td>No</td>\n",
       "      <td>No</td>\n",
       "      <td>37</td>\n",
       "      <td>MultipleLines</td>\n",
       "      <td>Fiber optic</td>\n",
       "      <td>No</td>\n",
       "      <td>No</td>\n",
       "      <td>Month-to-month</td>\n",
       "      <td>Yes</td>\n",
       "      <td>Electronic check</td>\n",
       "      <td>101.10</td>\n",
       "      <td>3744.05</td>\n",
       "      <td>FullService</td>\n",
       "      <td>DeviceProtection</td>\n",
       "    </tr>\n",
       "    <tr>\n",
       "      <th>10302</th>\n",
       "      <td>Female</td>\n",
       "      <td>Yes</td>\n",
       "      <td>No</td>\n",
       "      <td>No</td>\n",
       "      <td>54</td>\n",
       "      <td>MultipleLines</td>\n",
       "      <td>DSL</td>\n",
       "      <td>Yes</td>\n",
       "      <td>Yes</td>\n",
       "      <td>One year</td>\n",
       "      <td>No</td>\n",
       "      <td>Bank transfer (automatic)</td>\n",
       "      <td>82.45</td>\n",
       "      <td>4350.10</td>\n",
       "      <td>FullService</td>\n",
       "      <td>OnlineSecurity</td>\n",
       "    </tr>\n",
       "    <tr>\n",
       "      <th>10303</th>\n",
       "      <td>Female</td>\n",
       "      <td>Yes</td>\n",
       "      <td>No</td>\n",
       "      <td>No</td>\n",
       "      <td>16</td>\n",
       "      <td>MultipleLines</td>\n",
       "      <td>Fiber optic</td>\n",
       "      <td>No</td>\n",
       "      <td>No</td>\n",
       "      <td>Month-to-month</td>\n",
       "      <td>Yes</td>\n",
       "      <td>Electronic check</td>\n",
       "      <td>84.75</td>\n",
       "      <td>1350.15</td>\n",
       "      <td>TV</td>\n",
       "      <td>Nope</td>\n",
       "    </tr>\n",
       "    <tr>\n",
       "      <th>10304</th>\n",
       "      <td>Female</td>\n",
       "      <td>Yes</td>\n",
       "      <td>No</td>\n",
       "      <td>No</td>\n",
       "      <td>47</td>\n",
       "      <td>MultipleLines</td>\n",
       "      <td>Fiber optic</td>\n",
       "      <td>Yes</td>\n",
       "      <td>Yes</td>\n",
       "      <td>Month-to-month</td>\n",
       "      <td>Yes</td>\n",
       "      <td>Electronic check</td>\n",
       "      <td>95.05</td>\n",
       "      <td>4504.55</td>\n",
       "      <td>TV</td>\n",
       "      <td>Nope</td>\n",
       "    </tr>\n",
       "    <tr>\n",
       "      <th>10305</th>\n",
       "      <td>Female</td>\n",
       "      <td>No</td>\n",
       "      <td>No</td>\n",
       "      <td>No</td>\n",
       "      <td>61</td>\n",
       "      <td>MultipleLines</td>\n",
       "      <td>Fiber optic</td>\n",
       "      <td>No</td>\n",
       "      <td>Yes</td>\n",
       "      <td>Two year</td>\n",
       "      <td>Yes</td>\n",
       "      <td>Electronic check</td>\n",
       "      <td>106.60</td>\n",
       "      <td>6428.40</td>\n",
       "      <td>FullService</td>\n",
       "      <td>DeviceProtection</td>\n",
       "    </tr>\n",
       "  </tbody>\n",
       "</table>\n",
       "<p>10306 rows × 16 columns</p>\n",
       "</div>"
      ],
      "text/plain": [
       "       gender SeniorCitizen Partner Dependents  tenure   PhoneService  \\\n",
       "0      Female            No     Yes         No       1           Nope   \n",
       "1        Male            No      No         No      34     SingleLine   \n",
       "2        Male            No      No         No       2     SingleLine   \n",
       "3        Male            No      No         No      45           Nope   \n",
       "4      Female            No      No         No       2     SingleLine   \n",
       "...       ...           ...     ...        ...     ...            ...   \n",
       "10301    Male           Yes      No         No      37  MultipleLines   \n",
       "10302  Female           Yes      No         No      54  MultipleLines   \n",
       "10303  Female           Yes      No         No      16  MultipleLines   \n",
       "10304  Female           Yes      No         No      47  MultipleLines   \n",
       "10305  Female            No      No         No      61  MultipleLines   \n",
       "\n",
       "      InternetService OnlineBackup TechSupport        Contract  \\\n",
       "0                 DSL          Yes          No  Month-to-month   \n",
       "1                 DSL           No          No        One year   \n",
       "2                 DSL          Yes          No  Month-to-month   \n",
       "3                 DSL           No         Yes        One year   \n",
       "4         Fiber optic           No          No  Month-to-month   \n",
       "...               ...          ...         ...             ...   \n",
       "10301     Fiber optic           No          No  Month-to-month   \n",
       "10302             DSL          Yes         Yes        One year   \n",
       "10303     Fiber optic           No          No  Month-to-month   \n",
       "10304     Fiber optic          Yes         Yes  Month-to-month   \n",
       "10305     Fiber optic           No         Yes        Two year   \n",
       "\n",
       "      PaperlessBilling              PaymentMethod  MonthlyCharges  \\\n",
       "0                  Yes           Electronic check           29.85   \n",
       "1                   No               Mailed check           56.95   \n",
       "2                  Yes               Mailed check           53.85   \n",
       "3                   No  Bank transfer (automatic)           42.30   \n",
       "4                  Yes           Electronic check           70.70   \n",
       "...                ...                        ...             ...   \n",
       "10301              Yes           Electronic check          101.10   \n",
       "10302               No  Bank transfer (automatic)           82.45   \n",
       "10303              Yes           Electronic check           84.75   \n",
       "10304              Yes           Electronic check           95.05   \n",
       "10305              Yes           Electronic check          106.60   \n",
       "\n",
       "       TotalCharges StreamingService   SecurityService  \n",
       "0             29.85             Nope              Nope  \n",
       "1           1889.50             Nope      FullSecurity  \n",
       "2            108.15             Nope    OnlineSecurity  \n",
       "3           1840.75             Nope      FullSecurity  \n",
       "4            151.65             Nope              Nope  \n",
       "...             ...              ...               ...  \n",
       "10301       3744.05      FullService  DeviceProtection  \n",
       "10302       4350.10      FullService    OnlineSecurity  \n",
       "10303       1350.15               TV              Nope  \n",
       "10304       4504.55               TV              Nope  \n",
       "10305       6428.40      FullService  DeviceProtection  \n",
       "\n",
       "[10306 rows x 16 columns]"
      ]
     },
     "execution_count": 143,
     "metadata": {},
     "output_type": "execute_result"
    }
   ],
   "source": [
    "X_new"
   ]
  },
  {
   "cell_type": "code",
   "execution_count": null,
   "id": "d420a172",
   "metadata": {},
   "outputs": [
    {
     "data": {
      "text/html": [
       "<div>\n",
       "<style scoped>\n",
       "    .dataframe tbody tr th:only-of-type {\n",
       "        vertical-align: middle;\n",
       "    }\n",
       "\n",
       "    .dataframe tbody tr th {\n",
       "        vertical-align: top;\n",
       "    }\n",
       "\n",
       "    .dataframe thead th {\n",
       "        text-align: right;\n",
       "    }\n",
       "</style>\n",
       "<table border=\"1\" class=\"dataframe\">\n",
       "  <thead>\n",
       "    <tr style=\"text-align: right;\">\n",
       "      <th></th>\n",
       "      <th>tenure</th>\n",
       "      <th>MonthlyCharges</th>\n",
       "      <th>TotalCharges</th>\n",
       "    </tr>\n",
       "  </thead>\n",
       "  <tbody>\n",
       "    <tr>\n",
       "      <th>count</th>\n",
       "      <td>10306.000000</td>\n",
       "      <td>10306.000000</td>\n",
       "      <td>10306.000000</td>\n",
       "    </tr>\n",
       "    <tr>\n",
       "      <th>mean</th>\n",
       "      <td>27.890355</td>\n",
       "      <td>67.799554</td>\n",
       "      <td>2045.909004</td>\n",
       "    </tr>\n",
       "    <tr>\n",
       "      <th>std</th>\n",
       "      <td>23.957560</td>\n",
       "      <td>28.742633</td>\n",
       "      <td>2177.657455</td>\n",
       "    </tr>\n",
       "    <tr>\n",
       "      <th>min</th>\n",
       "      <td>1.000000</td>\n",
       "      <td>18.250000</td>\n",
       "      <td>18.800000</td>\n",
       "    </tr>\n",
       "    <tr>\n",
       "      <th>25%</th>\n",
       "      <td>5.000000</td>\n",
       "      <td>45.462500</td>\n",
       "      <td>292.800000</td>\n",
       "    </tr>\n",
       "    <tr>\n",
       "      <th>50%</th>\n",
       "      <td>21.000000</td>\n",
       "      <td>74.500000</td>\n",
       "      <td>1164.300000</td>\n",
       "    </tr>\n",
       "    <tr>\n",
       "      <th>75%</th>\n",
       "      <td>49.000000</td>\n",
       "      <td>90.600000</td>\n",
       "      <td>3248.937500</td>\n",
       "    </tr>\n",
       "    <tr>\n",
       "      <th>max</th>\n",
       "      <td>72.000000</td>\n",
       "      <td>118.750000</td>\n",
       "      <td>8684.800000</td>\n",
       "    </tr>\n",
       "  </tbody>\n",
       "</table>\n",
       "</div>"
      ],
      "text/plain": [
       "             tenure  MonthlyCharges  TotalCharges\n",
       "count  10306.000000    10306.000000  10306.000000\n",
       "mean      27.890355       67.799554   2045.909004\n",
       "std       23.957560       28.742633   2177.657455\n",
       "min        1.000000       18.250000     18.800000\n",
       "25%        5.000000       45.462500    292.800000\n",
       "50%       21.000000       74.500000   1164.300000\n",
       "75%       49.000000       90.600000   3248.937500\n",
       "max       72.000000      118.750000   8684.800000"
      ]
     },
     "execution_count": 144,
     "metadata": {},
     "output_type": "execute_result"
    }
   ],
   "source": [
    "X_new.describe()"
   ]
  },
  {
   "cell_type": "markdown",
   "id": "e154be43",
   "metadata": {},
   "source": [
    "# Dataset Splitting"
   ]
  },
  {
   "cell_type": "code",
   "execution_count": null,
   "id": "c135237d",
   "metadata": {},
   "outputs": [],
   "source": [
    "X_train, X_test, y_train, y_test = train_test_split(X_new, y_new, test_size = 0.20, random_state = 42)"
   ]
  },
  {
   "cell_type": "code",
   "execution_count": null,
   "id": "9adedbf5",
   "metadata": {},
   "outputs": [
    {
     "data": {
      "text/plain": [
       "((8244, 16), (2062, 16), (8244,), (2062,))"
      ]
     },
     "execution_count": 146,
     "metadata": {},
     "output_type": "execute_result"
    }
   ],
   "source": [
    "X_train.shape, X_test.shape , y_train.shape, y_test.shape"
   ]
  },
  {
   "cell_type": "markdown",
   "id": "8a05b294",
   "metadata": {},
   "source": [
    "# Features Encoding"
   ]
  },
  {
   "cell_type": "code",
   "execution_count": null,
   "id": "4aa0e048",
   "metadata": {},
   "outputs": [],
   "source": [
    "# Create both numerical and categorical columns\n",
    "columns = list(df.columns)\n",
    "\n",
    "categoric_columns = df.select_dtypes(include=['object']).columns.tolist()\n",
    "numeric_columns = df.select_dtypes(include=['int', 'float']).columns.tolist()\n",
    "\n",
    "\n",
    "numeric_columns.remove('Churn') # Excluding 'Churn'"
   ]
  },
  {
   "cell_type": "code",
   "execution_count": null,
   "id": "39975762",
   "metadata": {},
   "outputs": [
    {
     "name": "stdout",
     "output_type": "stream",
     "text": [
      "Index(['gender', 'SeniorCitizen', 'Partner', 'Dependents', 'tenure',\n",
      "       'PhoneService', 'InternetService', 'OnlineBackup', 'TechSupport',\n",
      "       'Contract', 'PaperlessBilling', 'PaymentMethod', 'MonthlyCharges',\n",
      "       'TotalCharges', 'Churn', 'StreamingService', 'SecurityService'],\n",
      "      dtype='object')\n"
     ]
    }
   ],
   "source": [
    "print(df.columns)"
   ]
  },
  {
   "cell_type": "code",
   "execution_count": null,
   "id": "b86c2d1e",
   "metadata": {},
   "outputs": [
    {
     "name": "stdout",
     "output_type": "stream",
     "text": [
      "['gender', 'SeniorCitizen', 'Partner', 'Dependents', 'PhoneService', 'InternetService', 'OnlineBackup', 'TechSupport', 'Contract', 'PaperlessBilling', 'PaymentMethod', 'StreamingService', 'SecurityService']\n",
      "['tenure', 'MonthlyCharges', 'TotalCharges']\n"
     ]
    }
   ],
   "source": [
    "print(categoric_columns)\n",
    "print(numeric_columns)"
   ]
  },
  {
   "cell_type": "markdown",
   "id": "217e9b77",
   "metadata": {},
   "source": [
    "Let's use OneHotEncoder to encode the categorical columns except churn for which we already used labelEncoder\n",
    "\n",
    "use drop='first' to handle multicollinearity that we mentioned earlier"
   ]
  },
  {
   "cell_type": "markdown",
   "id": "fe52cfb4",
   "metadata": {},
   "source": [
    "we want our output to be a DataFrame instead of setting it manually (sklearn version 1.2.1)"
   ]
  },
  {
   "cell_type": "code",
   "execution_count": null,
   "id": "3be04590",
   "metadata": {},
   "outputs": [],
   "source": [
    "# calling our encoder\n",
    "encoder = OneHotEncoder(handle_unknown='ignore', sparse=False, drop=\"first\")\n",
    "# setting output to DataFrame\n",
    "encoder.set_output(transform=\"pandas\")\n",
    "# encoding our data\n",
    "X_catEncoded_train = encoder.fit_transform(X_train[categoric_columns])"
   ]
  },
  {
   "cell_type": "markdown",
   "id": "46d19e8b",
   "metadata": {},
   "source": [
    "Encoding our test data with the same steps"
   ]
  },
  {
   "cell_type": "code",
   "execution_count": null,
   "id": "8d9830b5",
   "metadata": {},
   "outputs": [],
   "source": [
    "# encoding our test data\n",
    "X_catEncoded_test = encoder.transform(X_test[categoric_columns])"
   ]
  },
  {
   "cell_type": "markdown",
   "id": "3e31fb85",
   "metadata": {},
   "source": [
    "# Features Scaling\n"
   ]
  },
  {
   "cell_type": "code",
   "execution_count": null,
   "id": "0e91caaa",
   "metadata": {},
   "outputs": [
    {
     "data": {
      "text/plain": [
       "Index(['tenure', 'MonthlyCharges', 'TotalCharges'], dtype='object')"
      ]
     },
     "execution_count": 153,
     "metadata": {},
     "output_type": "execute_result"
    }
   ],
   "source": [
    "X_train[numeric_columns].columns"
   ]
  },
  {
   "cell_type": "code",
   "execution_count": null,
   "id": "a04f761f",
   "metadata": {},
   "outputs": [],
   "source": [
    "Scaler = StandardScaler().fit(X_train[numeric_columns]).set_output(transform=\"pandas\")\n",
    "\n",
    "X_numScaled_train = Scaler.transform(X_train[numeric_columns])\n",
    "X_numScaled_test = Scaler.transform(X_test[numeric_columns])"
   ]
  },
  {
   "cell_type": "markdown",
   "id": "f2a292a1",
   "metadata": {},
   "source": [
    "joining cat with num"
   ]
  },
  {
   "cell_type": "code",
   "execution_count": null,
   "id": "d985d730",
   "metadata": {},
   "outputs": [],
   "source": [
    "X_train = pd.concat([X_numScaled_train, X_catEncoded_train], axis=1)\n",
    "X_test = pd.concat([X_numScaled_test, X_catEncoded_test], axis=1)"
   ]
  },
  {
   "cell_type": "code",
   "execution_count": null,
   "id": "4f2666a9",
   "metadata": {},
   "outputs": [
    {
     "data": {
      "text/html": [
       "<div>\n",
       "<style scoped>\n",
       "    .dataframe tbody tr th:only-of-type {\n",
       "        vertical-align: middle;\n",
       "    }\n",
       "\n",
       "    .dataframe tbody tr th {\n",
       "        vertical-align: top;\n",
       "    }\n",
       "\n",
       "    .dataframe thead th {\n",
       "        text-align: right;\n",
       "    }\n",
       "</style>\n",
       "<table border=\"1\" class=\"dataframe\">\n",
       "  <thead>\n",
       "    <tr style=\"text-align: right;\">\n",
       "      <th></th>\n",
       "      <th>tenure</th>\n",
       "      <th>MonthlyCharges</th>\n",
       "      <th>TotalCharges</th>\n",
       "      <th>gender_Male</th>\n",
       "      <th>SeniorCitizen_Yes</th>\n",
       "      <th>Partner_Yes</th>\n",
       "      <th>Dependents_Yes</th>\n",
       "      <th>PhoneService_Nope</th>\n",
       "      <th>PhoneService_SingleLine</th>\n",
       "      <th>InternetService_Fiber optic</th>\n",
       "      <th>...</th>\n",
       "      <th>PaperlessBilling_Yes</th>\n",
       "      <th>PaymentMethod_Credit card (automatic)</th>\n",
       "      <th>PaymentMethod_Electronic check</th>\n",
       "      <th>PaymentMethod_Mailed check</th>\n",
       "      <th>StreamingService_Movies</th>\n",
       "      <th>StreamingService_Nope</th>\n",
       "      <th>StreamingService_TV</th>\n",
       "      <th>SecurityService_FullSecurity</th>\n",
       "      <th>SecurityService_Nope</th>\n",
       "      <th>SecurityService_OnlineSecurity</th>\n",
       "    </tr>\n",
       "  </thead>\n",
       "  <tbody>\n",
       "    <tr>\n",
       "      <th>591</th>\n",
       "      <td>1.472798</td>\n",
       "      <td>0.546970</td>\n",
       "      <td>1.564017</td>\n",
       "      <td>1.0</td>\n",
       "      <td>0.0</td>\n",
       "      <td>1.0</td>\n",
       "      <td>1.0</td>\n",
       "      <td>0.0</td>\n",
       "      <td>0.0</td>\n",
       "      <td>0.0</td>\n",
       "      <td>...</td>\n",
       "      <td>0.0</td>\n",
       "      <td>1.0</td>\n",
       "      <td>0.0</td>\n",
       "      <td>0.0</td>\n",
       "      <td>0.0</td>\n",
       "      <td>0.0</td>\n",
       "      <td>0.0</td>\n",
       "      <td>1.0</td>\n",
       "      <td>0.0</td>\n",
       "      <td>0.0</td>\n",
       "    </tr>\n",
       "    <tr>\n",
       "      <th>221</th>\n",
       "      <td>1.807796</td>\n",
       "      <td>-1.499351</td>\n",
       "      <td>-0.093879</td>\n",
       "      <td>0.0</td>\n",
       "      <td>0.0</td>\n",
       "      <td>1.0</td>\n",
       "      <td>0.0</td>\n",
       "      <td>0.0</td>\n",
       "      <td>0.0</td>\n",
       "      <td>0.0</td>\n",
       "      <td>...</td>\n",
       "      <td>0.0</td>\n",
       "      <td>0.0</td>\n",
       "      <td>0.0</td>\n",
       "      <td>0.0</td>\n",
       "      <td>0.0</td>\n",
       "      <td>1.0</td>\n",
       "      <td>0.0</td>\n",
       "      <td>0.0</td>\n",
       "      <td>1.0</td>\n",
       "      <td>0.0</td>\n",
       "    </tr>\n",
       "    <tr>\n",
       "      <th>8288</th>\n",
       "      <td>-0.997811</td>\n",
       "      <td>-0.783574</td>\n",
       "      <td>-0.849518</td>\n",
       "      <td>0.0</td>\n",
       "      <td>0.0</td>\n",
       "      <td>0.0</td>\n",
       "      <td>0.0</td>\n",
       "      <td>0.0</td>\n",
       "      <td>1.0</td>\n",
       "      <td>0.0</td>\n",
       "      <td>...</td>\n",
       "      <td>1.0</td>\n",
       "      <td>0.0</td>\n",
       "      <td>0.0</td>\n",
       "      <td>1.0</td>\n",
       "      <td>0.0</td>\n",
       "      <td>1.0</td>\n",
       "      <td>0.0</td>\n",
       "      <td>0.0</td>\n",
       "      <td>1.0</td>\n",
       "      <td>0.0</td>\n",
       "    </tr>\n",
       "    <tr>\n",
       "      <th>7897</th>\n",
       "      <td>-0.704688</td>\n",
       "      <td>-1.666539</td>\n",
       "      <td>-0.841317</td>\n",
       "      <td>1.0</td>\n",
       "      <td>1.0</td>\n",
       "      <td>1.0</td>\n",
       "      <td>0.0</td>\n",
       "      <td>0.0</td>\n",
       "      <td>1.0</td>\n",
       "      <td>0.0</td>\n",
       "      <td>...</td>\n",
       "      <td>0.0</td>\n",
       "      <td>0.0</td>\n",
       "      <td>0.0</td>\n",
       "      <td>1.0</td>\n",
       "      <td>0.0</td>\n",
       "      <td>1.0</td>\n",
       "      <td>0.0</td>\n",
       "      <td>0.0</td>\n",
       "      <td>1.0</td>\n",
       "      <td>0.0</td>\n",
       "    </tr>\n",
       "    <tr>\n",
       "      <th>7467</th>\n",
       "      <td>-1.081561</td>\n",
       "      <td>-0.633801</td>\n",
       "      <td>-0.887417</td>\n",
       "      <td>0.0</td>\n",
       "      <td>0.0</td>\n",
       "      <td>0.0</td>\n",
       "      <td>0.0</td>\n",
       "      <td>0.0</td>\n",
       "      <td>1.0</td>\n",
       "      <td>0.0</td>\n",
       "      <td>...</td>\n",
       "      <td>1.0</td>\n",
       "      <td>0.0</td>\n",
       "      <td>0.0</td>\n",
       "      <td>1.0</td>\n",
       "      <td>0.0</td>\n",
       "      <td>1.0</td>\n",
       "      <td>0.0</td>\n",
       "      <td>0.0</td>\n",
       "      <td>1.0</td>\n",
       "      <td>0.0</td>\n",
       "    </tr>\n",
       "    <tr>\n",
       "      <th>...</th>\n",
       "      <td>...</td>\n",
       "      <td>...</td>\n",
       "      <td>...</td>\n",
       "      <td>...</td>\n",
       "      <td>...</td>\n",
       "      <td>...</td>\n",
       "      <td>...</td>\n",
       "      <td>...</td>\n",
       "      <td>...</td>\n",
       "      <td>...</td>\n",
       "      <td>...</td>\n",
       "      <td>...</td>\n",
       "      <td>...</td>\n",
       "      <td>...</td>\n",
       "      <td>...</td>\n",
       "      <td>...</td>\n",
       "      <td>...</td>\n",
       "      <td>...</td>\n",
       "      <td>...</td>\n",
       "      <td>...</td>\n",
       "      <td>...</td>\n",
       "    </tr>\n",
       "    <tr>\n",
       "      <th>5734</th>\n",
       "      <td>1.054051</td>\n",
       "      <td>-1.670023</td>\n",
       "      <td>-0.456643</td>\n",
       "      <td>0.0</td>\n",
       "      <td>0.0</td>\n",
       "      <td>0.0</td>\n",
       "      <td>0.0</td>\n",
       "      <td>0.0</td>\n",
       "      <td>1.0</td>\n",
       "      <td>0.0</td>\n",
       "      <td>...</td>\n",
       "      <td>0.0</td>\n",
       "      <td>1.0</td>\n",
       "      <td>0.0</td>\n",
       "      <td>0.0</td>\n",
       "      <td>0.0</td>\n",
       "      <td>1.0</td>\n",
       "      <td>0.0</td>\n",
       "      <td>0.0</td>\n",
       "      <td>1.0</td>\n",
       "      <td>0.0</td>\n",
       "    </tr>\n",
       "    <tr>\n",
       "      <th>5191</th>\n",
       "      <td>1.054051</td>\n",
       "      <td>-0.255885</td>\n",
       "      <td>0.526939</td>\n",
       "      <td>1.0</td>\n",
       "      <td>0.0</td>\n",
       "      <td>1.0</td>\n",
       "      <td>0.0</td>\n",
       "      <td>1.0</td>\n",
       "      <td>0.0</td>\n",
       "      <td>0.0</td>\n",
       "      <td>...</td>\n",
       "      <td>1.0</td>\n",
       "      <td>0.0</td>\n",
       "      <td>1.0</td>\n",
       "      <td>0.0</td>\n",
       "      <td>0.0</td>\n",
       "      <td>0.0</td>\n",
       "      <td>0.0</td>\n",
       "      <td>0.0</td>\n",
       "      <td>0.0</td>\n",
       "      <td>0.0</td>\n",
       "    </tr>\n",
       "    <tr>\n",
       "      <th>5390</th>\n",
       "      <td>1.514673</td>\n",
       "      <td>1.086850</td>\n",
       "      <td>1.997509</td>\n",
       "      <td>0.0</td>\n",
       "      <td>0.0</td>\n",
       "      <td>1.0</td>\n",
       "      <td>0.0</td>\n",
       "      <td>0.0</td>\n",
       "      <td>1.0</td>\n",
       "      <td>1.0</td>\n",
       "      <td>...</td>\n",
       "      <td>1.0</td>\n",
       "      <td>0.0</td>\n",
       "      <td>0.0</td>\n",
       "      <td>0.0</td>\n",
       "      <td>0.0</td>\n",
       "      <td>0.0</td>\n",
       "      <td>0.0</td>\n",
       "      <td>1.0</td>\n",
       "      <td>0.0</td>\n",
       "      <td>0.0</td>\n",
       "    </tr>\n",
       "    <tr>\n",
       "      <th>860</th>\n",
       "      <td>-0.327816</td>\n",
       "      <td>0.203884</td>\n",
       "      <td>-0.265930</td>\n",
       "      <td>1.0</td>\n",
       "      <td>1.0</td>\n",
       "      <td>1.0</td>\n",
       "      <td>0.0</td>\n",
       "      <td>0.0</td>\n",
       "      <td>1.0</td>\n",
       "      <td>1.0</td>\n",
       "      <td>...</td>\n",
       "      <td>1.0</td>\n",
       "      <td>0.0</td>\n",
       "      <td>1.0</td>\n",
       "      <td>0.0</td>\n",
       "      <td>0.0</td>\n",
       "      <td>1.0</td>\n",
       "      <td>0.0</td>\n",
       "      <td>0.0</td>\n",
       "      <td>1.0</td>\n",
       "      <td>0.0</td>\n",
       "    </tr>\n",
       "    <tr>\n",
       "      <th>7270</th>\n",
       "      <td>-1.123436</td>\n",
       "      <td>0.299670</td>\n",
       "      <td>-0.905064</td>\n",
       "      <td>0.0</td>\n",
       "      <td>1.0</td>\n",
       "      <td>1.0</td>\n",
       "      <td>0.0</td>\n",
       "      <td>0.0</td>\n",
       "      <td>1.0</td>\n",
       "      <td>1.0</td>\n",
       "      <td>...</td>\n",
       "      <td>1.0</td>\n",
       "      <td>0.0</td>\n",
       "      <td>0.0</td>\n",
       "      <td>1.0</td>\n",
       "      <td>0.0</td>\n",
       "      <td>1.0</td>\n",
       "      <td>0.0</td>\n",
       "      <td>0.0</td>\n",
       "      <td>1.0</td>\n",
       "      <td>0.0</td>\n",
       "    </tr>\n",
       "  </tbody>\n",
       "</table>\n",
       "<p>8244 rows × 27 columns</p>\n",
       "</div>"
      ],
      "text/plain": [
       "        tenure  MonthlyCharges  TotalCharges  gender_Male  SeniorCitizen_Yes  \\\n",
       "591   1.472798        0.546970      1.564017          1.0                0.0   \n",
       "221   1.807796       -1.499351     -0.093879          0.0                0.0   \n",
       "8288 -0.997811       -0.783574     -0.849518          0.0                0.0   \n",
       "7897 -0.704688       -1.666539     -0.841317          1.0                1.0   \n",
       "7467 -1.081561       -0.633801     -0.887417          0.0                0.0   \n",
       "...        ...             ...           ...          ...                ...   \n",
       "5734  1.054051       -1.670023     -0.456643          0.0                0.0   \n",
       "5191  1.054051       -0.255885      0.526939          1.0                0.0   \n",
       "5390  1.514673        1.086850      1.997509          0.0                0.0   \n",
       "860  -0.327816        0.203884     -0.265930          1.0                1.0   \n",
       "7270 -1.123436        0.299670     -0.905064          0.0                1.0   \n",
       "\n",
       "      Partner_Yes  Dependents_Yes  PhoneService_Nope  PhoneService_SingleLine  \\\n",
       "591           1.0             1.0                0.0                      0.0   \n",
       "221           1.0             0.0                0.0                      0.0   \n",
       "8288          0.0             0.0                0.0                      1.0   \n",
       "7897          1.0             0.0                0.0                      1.0   \n",
       "7467          0.0             0.0                0.0                      1.0   \n",
       "...           ...             ...                ...                      ...   \n",
       "5734          0.0             0.0                0.0                      1.0   \n",
       "5191          1.0             0.0                1.0                      0.0   \n",
       "5390          1.0             0.0                0.0                      1.0   \n",
       "860           1.0             0.0                0.0                      1.0   \n",
       "7270          1.0             0.0                0.0                      1.0   \n",
       "\n",
       "      InternetService_Fiber optic  ...  PaperlessBilling_Yes  \\\n",
       "591                           0.0  ...                   0.0   \n",
       "221                           0.0  ...                   0.0   \n",
       "8288                          0.0  ...                   1.0   \n",
       "7897                          0.0  ...                   0.0   \n",
       "7467                          0.0  ...                   1.0   \n",
       "...                           ...  ...                   ...   \n",
       "5734                          0.0  ...                   0.0   \n",
       "5191                          0.0  ...                   1.0   \n",
       "5390                          1.0  ...                   1.0   \n",
       "860                           1.0  ...                   1.0   \n",
       "7270                          1.0  ...                   1.0   \n",
       "\n",
       "      PaymentMethod_Credit card (automatic)  PaymentMethod_Electronic check  \\\n",
       "591                                     1.0                             0.0   \n",
       "221                                     0.0                             0.0   \n",
       "8288                                    0.0                             0.0   \n",
       "7897                                    0.0                             0.0   \n",
       "7467                                    0.0                             0.0   \n",
       "...                                     ...                             ...   \n",
       "5734                                    1.0                             0.0   \n",
       "5191                                    0.0                             1.0   \n",
       "5390                                    0.0                             0.0   \n",
       "860                                     0.0                             1.0   \n",
       "7270                                    0.0                             0.0   \n",
       "\n",
       "      PaymentMethod_Mailed check  StreamingService_Movies  \\\n",
       "591                          0.0                      0.0   \n",
       "221                          0.0                      0.0   \n",
       "8288                         1.0                      0.0   \n",
       "7897                         1.0                      0.0   \n",
       "7467                         1.0                      0.0   \n",
       "...                          ...                      ...   \n",
       "5734                         0.0                      0.0   \n",
       "5191                         0.0                      0.0   \n",
       "5390                         0.0                      0.0   \n",
       "860                          0.0                      0.0   \n",
       "7270                         1.0                      0.0   \n",
       "\n",
       "      StreamingService_Nope  StreamingService_TV  \\\n",
       "591                     0.0                  0.0   \n",
       "221                     1.0                  0.0   \n",
       "8288                    1.0                  0.0   \n",
       "7897                    1.0                  0.0   \n",
       "7467                    1.0                  0.0   \n",
       "...                     ...                  ...   \n",
       "5734                    1.0                  0.0   \n",
       "5191                    0.0                  0.0   \n",
       "5390                    0.0                  0.0   \n",
       "860                     1.0                  0.0   \n",
       "7270                    1.0                  0.0   \n",
       "\n",
       "      SecurityService_FullSecurity  SecurityService_Nope  \\\n",
       "591                            1.0                   0.0   \n",
       "221                            0.0                   1.0   \n",
       "8288                           0.0                   1.0   \n",
       "7897                           0.0                   1.0   \n",
       "7467                           0.0                   1.0   \n",
       "...                            ...                   ...   \n",
       "5734                           0.0                   1.0   \n",
       "5191                           0.0                   0.0   \n",
       "5390                           1.0                   0.0   \n",
       "860                            0.0                   1.0   \n",
       "7270                           0.0                   1.0   \n",
       "\n",
       "      SecurityService_OnlineSecurity  \n",
       "591                              0.0  \n",
       "221                              0.0  \n",
       "8288                             0.0  \n",
       "7897                             0.0  \n",
       "7467                             0.0  \n",
       "...                              ...  \n",
       "5734                             0.0  \n",
       "5191                             0.0  \n",
       "5390                             0.0  \n",
       "860                              0.0  \n",
       "7270                             0.0  \n",
       "\n",
       "[8244 rows x 27 columns]"
      ]
     },
     "execution_count": 58,
     "metadata": {},
     "output_type": "execute_result"
    }
   ],
   "source": [
    "X_train"
   ]
  },
  {
   "cell_type": "markdown",
   "id": "65fbefef",
   "metadata": {},
   "source": [
    "# Machine Learning Modeling\n",
    "\n",
    "1. Logistic Regression\n",
    "2. RandomForest Classifier\n",
    "3. XGBoost Classifier\n",
    "4. K Nearest Neighbors\n",
    "5. Support Vector Machines \n",
    "6. DecisionTreeClassifier\n"
   ]
  },
  {
   "cell_type": "markdown",
   "id": "7825e6ca",
   "metadata": {},
   "source": [
    "## 1.  Logistic Regression"
   ]
  },
  {
   "cell_type": "markdown",
   "id": "e09d87c9",
   "metadata": {},
   "source": [
    "### Create the Model"
   ]
  },
  {
   "cell_type": "code",
   "execution_count": null,
   "id": "c16aab19",
   "metadata": {},
   "outputs": [],
   "source": [
    "model= LogisticRegression()"
   ]
  },
  {
   "cell_type": "markdown",
   "id": "ff2e829a",
   "metadata": {},
   "source": [
    "### Train the Model"
   ]
  },
  {
   "cell_type": "code",
   "execution_count": null,
   "id": "2f75a90b",
   "metadata": {},
   "outputs": [],
   "source": [
    "model=model.fit(X_train, y_train)\n"
   ]
  },
  {
   "cell_type": "markdown",
   "id": "82707b0a",
   "metadata": {},
   "source": [
    "###  Predict on the test dataset"
   ]
  },
  {
   "cell_type": "code",
   "execution_count": null,
   "id": "473c43df",
   "metadata": {},
   "outputs": [],
   "source": [
    "pred = model.predict(X_test)\n",
    "prob = model.predict_proba(X_test)[:,1]\n"
   ]
  },
  {
   "cell_type": "markdown",
   "id": "dc806a2a",
   "metadata": {},
   "source": [
    "### Model Evaluation"
   ]
  },
  {
   "cell_type": "code",
   "execution_count": null,
   "id": "914a2976",
   "metadata": {},
   "outputs": [
    {
     "name": "stdout",
     "output_type": "stream",
     "text": [
      "recall_score :  0.7933723196881092\n",
      "precision_score : 0.7427007299270073\n",
      "f1_score : 0.767200754005655\n",
      "f2_score : 0.7826923076923078\n",
      "accuracy_score : 0.7604267701260912\n",
      "ROC_AUC Score: 0.76161951610222\n"
     ]
    }
   ],
   "source": [
    "r_lgt= recall_score(y_test, pred)\n",
    "print(\"recall_score : \", r_lgt)\n",
    "\n",
    "p_lgt= precision_score(y_test, pred)\n",
    "print(\"precision_score :\",p_lgt)\n",
    "\n",
    "f1_lgt= f1_score(y_test, pred)\n",
    "print(\"f1_score :\", f1_lgt)\n",
    "\n",
    "f2_lgt = fbeta_score(y_test, pred, beta=2, average='binary')\n",
    "print(\"f2_score :\", f2_lgt)\n",
    "\n",
    "A_lgt= accuracy_score(pred, y_test)\n",
    "print(\"accuracy_score :\",A_lgt)\n",
    "\n",
    "acu_lgt = roc_auc_score(pred, y_test)\n",
    "print(\"ROC_AUC Score:\",acu_lgt)\n",
    "     "
   ]
  },
  {
   "cell_type": "code",
   "execution_count": null,
   "id": "899a2476",
   "metadata": {},
   "outputs": [
    {
     "data": {
      "image/png": "[encoded data removed]",
      "text/plain": [
       "<Figure size 1000x700 with 1 Axes>"
      ]
     },
     "metadata": {},
     "output_type": "display_data"
    }
   ],
   "source": [
    "# plot the model evaluation\n",
    "fpr, tpr, _ = roc_curve(y_test, prob)\n",
    "fig, ax = plt.subplots(figsize=(10,7))\n",
    "plt.title('Logistic Regression ROC curve')\n",
    "plt.xlabel(\"False Positive Rate\")\n",
    "plt.ylabel(\"True Positive Rate\")\n",
    "plt.plot(fpr,tpr)\n",
    "plt.plot((0,1), linestyle=\"--\",color='black')\n",
    "plt.show()"
   ]
  },
  {
   "cell_type": "markdown",
   "id": "7e054103",
   "metadata": {},
   "source": [
    "## 2. RandomForest Classifier"
   ]
  },
  {
   "cell_type": "markdown",
   "id": "d45e4e7e",
   "metadata": {},
   "source": [
    "### Create the Model"
   ]
  },
  {
   "cell_type": "code",
   "execution_count": null,
   "id": "2f49ca2e",
   "metadata": {},
   "outputs": [],
   "source": [
    "RF_model= RandomForestClassifier()"
   ]
  },
  {
   "cell_type": "markdown",
   "id": "0f9866ba",
   "metadata": {},
   "source": [
    "### Train the Model"
   ]
  },
  {
   "cell_type": "code",
   "execution_count": null,
   "id": "d60beaba",
   "metadata": {},
   "outputs": [],
   "source": [
    "RF_model= RF_model.fit(X_train, y_train)"
   ]
  },
  {
   "cell_type": "markdown",
   "id": "50872b47",
   "metadata": {},
   "source": [
    "### Predict on the test dataset"
   ]
  },
  {
   "cell_type": "code",
   "execution_count": null,
   "id": "1a64e259",
   "metadata": {},
   "outputs": [],
   "source": [
    "rf_pred= RF_model.predict(X_test)\n",
    "rf_proba= RF_model.predict_proba(X_test)[:,1]"
   ]
  },
  {
   "cell_type": "markdown",
   "id": "2ff076e8",
   "metadata": {},
   "source": [
    "### Model Evaluation"
   ]
  },
  {
   "cell_type": "code",
   "execution_count": null,
   "id": "85244e25",
   "metadata": {},
   "outputs": [
    {
     "name": "stdout",
     "output_type": "stream",
     "text": [
      "recall_score :  0.9522417153996101\n",
      "precision_score : 0.8585237258347979\n",
      "f1_score : 0.9029574861367836\n",
      "f2_score : 0.9318962228157193\n",
      "accuracy_score : 0.8981571290009699\n",
      "ROC_AUC Score: 0.9027467114022475\n"
     ]
    }
   ],
   "source": [
    "r_rf=  recall_score(y_test, rf_pred)\n",
    "print(\"recall_score : \", r_rf)\n",
    "\n",
    "p_rf= precision_score(y_test, rf_pred)\n",
    "print(\"precision_score :\",p_rf)\n",
    "\n",
    "f1_rf= f1_score(y_test, rf_pred)\n",
    "print(\"f1_score :\", f1_rf)\n",
    "\n",
    "\n",
    "f2_rf = fbeta_score(y_test, rf_pred, beta=2, average='binary')\n",
    "print(\"f2_score :\", f2_rf)\n",
    "\n",
    "A_rf= accuracy_score(y_test, rf_pred)\n",
    "print(\"accuracy_score :\",A_rf)\n",
    "\n",
    "acu_rf = roc_auc_score(rf_pred, y_test)\n",
    "print(\"ROC_AUC Score:\",acu_rf)\n",
    "     "
   ]
  },
  {
   "cell_type": "code",
   "execution_count": null,
   "id": "9cc32833",
   "metadata": {},
   "outputs": [
    {
     "data": {
      "image/png": "[encoded data removed]",
      "text/plain": [
       "<Figure size 1000x700 with 1 Axes>"
      ]
     },
     "metadata": {},
     "output_type": "display_data"
    }
   ],
   "source": [
    "# plot the model evaluation\n",
    "fig, ax = plt.subplots(figsize=(10,7))\n",
    "fpr, tpr, _ = roc_curve(y_test, rf_proba)\n",
    "\n",
    "plt.title('Random Forest ROC curve')\n",
    "plt.xlabel(\"False Positive Rate\")\n",
    "plt.ylabel(\"True Positive Rate\")\n",
    "plt.plot(fpr,tpr)\n",
    "plt.plot((0,1), linestyle=\"--\",color='black')\n",
    "plt.show()"
   ]
  },
  {
   "cell_type": "markdown",
   "id": "55006580",
   "metadata": {},
   "source": [
    "## 3. XGBoost Classifier"
   ]
  },
  {
   "cell_type": "markdown",
   "id": "74beedfa",
   "metadata": {},
   "source": [
    "### Create the Model"
   ]
  },
  {
   "cell_type": "code",
   "execution_count": null,
   "id": "8ff6b746",
   "metadata": {},
   "outputs": [],
   "source": [
    "XG_model= XGBClassifier()"
   ]
  },
  {
   "cell_type": "markdown",
   "id": "2a776eb2",
   "metadata": {},
   "source": [
    "### Train the Model"
   ]
  },
  {
   "cell_type": "code",
   "execution_count": null,
   "id": "5e3400b1",
   "metadata": {},
   "outputs": [],
   "source": [
    "XG_model= XG_model.fit(X_train, y_train)"
   ]
  },
  {
   "cell_type": "markdown",
   "id": "c0763132",
   "metadata": {},
   "source": [
    "### Predict on the test dataset"
   ]
  },
  {
   "cell_type": "code",
   "execution_count": null,
   "id": "52e61bdc",
   "metadata": {},
   "outputs": [],
   "source": [
    "XG_pred = XG_model.predict(X_test)\n",
    "XG_prob = XG_model.predict_proba(X_test)[:,1]"
   ]
  },
  {
   "cell_type": "markdown",
   "id": "de6b728d",
   "metadata": {},
   "source": [
    "### Model Evaluation"
   ]
  },
  {
   "cell_type": "code",
   "execution_count": null,
   "id": "a88758c3",
   "metadata": {},
   "outputs": [
    {
     "name": "stdout",
     "output_type": "stream",
     "text": [
      "recall_score :  0.928849902534113\n",
      "precision_score : 0.8145299145299145\n",
      "f1_score : 0.8679417122040073\n",
      "f2_score : 0.903488813045127\n",
      "accuracy_score : 0.8593598448108632\n",
      "ROC_AUC Score: 0.8663456747537465\n"
     ]
    }
   ],
   "source": [
    "r_XG= recall_score(y_test, XG_pred)\n",
    "print(\"recall_score : \", r_XG)\n",
    "\n",
    "p_XG= precision_score(y_test, XG_pred)\n",
    "print(\"precision_score :\",p_XG)\n",
    "\n",
    "f1_XG= f1_score(y_test, XG_pred)\n",
    "print(\"f1_score :\", f1_XG)\n",
    "\n",
    "f2_XG = fbeta_score(y_test, XG_pred, beta=2, average='binary')\n",
    "print(\"f2_score :\", f2_XG)\n",
    "\n",
    "\n",
    "A_XG= accuracy_score( y_test, XG_pred)\n",
    "print(\"accuracy_score :\",A_XG)\n",
    "\n",
    "acu_XG = roc_auc_score(XG_pred, y_test)\n",
    "print(\"ROC_AUC Score:\",acu_XG)\n",
    "     "
   ]
  },
  {
   "cell_type": "code",
   "execution_count": null,
   "id": "92b3e2c8",
   "metadata": {},
   "outputs": [
    {
     "data": {
      "image/png": "[encoded data removed]",
      "text/plain": [
       "<Figure size 1000x700 with 1 Axes>"
      ]
     },
     "metadata": {},
     "output_type": "display_data"
    }
   ],
   "source": [
    "#  plot the model evaluation\n",
    "fpr, tpr, _ = roc_curve(y_test, XG_prob)\n",
    "fig, ax = plt.subplots(figsize=(10,7))\n",
    "plt.title('XGBoost ROC curve')\n",
    "plt.xlabel(\"False Positive Rate\")\n",
    "plt.ylabel(\"True Positive Rate\")\n",
    "plt.plot(fpr,tpr)\n",
    "plt.plot((0,1), linestyle=\"--\",color='black')\n",
    "plt.show()"
   ]
  },
  {
   "cell_type": "markdown",
   "id": "37390b3c",
   "metadata": {},
   "source": [
    "## 4. K Nearest Neighbors\n"
   ]
  },
  {
   "cell_type": "markdown",
   "id": "1a20bf47",
   "metadata": {},
   "source": [
    "### Create the Model"
   ]
  },
  {
   "cell_type": "code",
   "execution_count": null,
   "id": "3d2ebeec",
   "metadata": {},
   "outputs": [],
   "source": [
    "KNN_model = KNeighborsClassifier()\n"
   ]
  },
  {
   "cell_type": "markdown",
   "id": "190b7fcb",
   "metadata": {},
   "source": [
    "### Train the Model"
   ]
  },
  {
   "cell_type": "code",
   "execution_count": null,
   "id": "bf0ec58e",
   "metadata": {},
   "outputs": [],
   "source": [
    "KNN_model = KNN_model.fit(X_train, y_train)"
   ]
  },
  {
   "cell_type": "markdown",
   "id": "48e09e60",
   "metadata": {},
   "source": [
    "### Predict on the test dataset"
   ]
  },
  {
   "cell_type": "code",
   "execution_count": null,
   "id": "1934dae2",
   "metadata": {},
   "outputs": [],
   "source": [
    "KNN_pred = KNN_model.predict(X_test)\n",
    "KNN_prob = KNN_model.predict_proba(X_test)[:,1]"
   ]
  },
  {
   "cell_type": "markdown",
   "id": "74f070dd",
   "metadata": {},
   "source": [
    "### Model Evaluation"
   ]
  },
  {
   "cell_type": "code",
   "execution_count": null,
   "id": "5227cb0f",
   "metadata": {},
   "outputs": [
    {
     "name": "stdout",
     "output_type": "stream",
     "text": [
      "recall_score :  0.8645224171539961\n",
      "precision_score : 0.7354892205638475\n",
      "f1_score : 0.7948028673835126\n",
      "f2_score : 0.8352165725047082\n",
      "accuracy_score : 0.7778855480116392\n",
      "ROC_AUC Score: 0.786553021496877\n"
     ]
    }
   ],
   "source": [
    "r_KNN= recall_score(y_test, KNN_pred)\n",
    "print(\"recall_score : \", r_KNN)\n",
    "\n",
    "p_KNN= precision_score(y_test, KNN_pred)\n",
    "print(\"precision_score :\",p_KNN)\n",
    "\n",
    "f1_KNN= f1_score(y_test, KNN_pred)\n",
    "print(\"f1_score :\", f1_KNN)\n",
    "\n",
    "f2_KNN = fbeta_score(y_test, KNN_pred, beta=2, average='binary')\n",
    "print(\"f2_score :\", f2_KNN)\n",
    "\n",
    "\n",
    "A_KNN= accuracy_score( y_test, KNN_pred)\n",
    "print(\"accuracy_score :\", A_KNN)\n",
    "\n",
    "acu_KNN = roc_auc_score(KNN_pred, y_test)\n",
    "print(\"ROC_AUC Score:\",acu_KNN)"
   ]
  },
  {
   "cell_type": "code",
   "execution_count": null,
   "id": "5d0b301d",
   "metadata": {},
   "outputs": [
    {
     "data": {
      "image/png": "[encoded data removed]",
      "text/plain": [
       "<Figure size 1000x700 with 1 Axes>"
      ]
     },
     "metadata": {},
     "output_type": "display_data"
    }
   ],
   "source": [
    "#  plot the model evaluation\n",
    "fpr, tpr, _ = roc_curve(y_test, KNN_prob)\n",
    "fig, ax = plt.subplots(figsize=(10,7))\n",
    "plt.title('KNN ROC curve')\n",
    "plt.xlabel(\"False Positive Rate\")\n",
    "plt.ylabel(\"True Positive Rate\")\n",
    "plt.plot(fpr,tpr)\n",
    "plt.plot((0,1), linestyle=\"--\",color='black')\n",
    "plt.show()"
   ]
  },
  {
   "cell_type": "markdown",
   "id": "24df35ff",
   "metadata": {},
   "source": [
    "## 5. Support Vector Machines"
   ]
  },
  {
   "cell_type": "markdown",
   "id": "4f57b66c",
   "metadata": {},
   "source": [
    "### Create the Model"
   ]
  },
  {
   "cell_type": "code",
   "execution_count": null,
   "id": "13d3d87a",
   "metadata": {},
   "outputs": [],
   "source": [
    "SVC_model = SVC(kernel='rbf',\n",
    "                C=51,\n",
    "                gamma=1,\n",
    "                probability=True)"
   ]
  },
  {
   "cell_type": "markdown",
   "id": "615b9957",
   "metadata": {},
   "source": [
    "### Train the Model"
   ]
  },
  {
   "cell_type": "code",
   "execution_count": null,
   "id": "9d1fb424",
   "metadata": {},
   "outputs": [],
   "source": [
    "SVC_model = SVC_model.fit(X_train, y_train)"
   ]
  },
  {
   "cell_type": "markdown",
   "id": "b3ef8062",
   "metadata": {},
   "source": [
    "### Predict on the test dataset"
   ]
  },
  {
   "cell_type": "code",
   "execution_count": null,
   "id": "145115fb",
   "metadata": {},
   "outputs": [],
   "source": [
    "SVC_pred = SVC_model.predict(X_test)\n",
    "SVC_prob = SVC_model.predict_proba(X_test)[:,1]"
   ]
  },
  {
   "cell_type": "markdown",
   "id": "d4669b4a",
   "metadata": {},
   "source": [
    "### Model Evaluation"
   ]
  },
  {
   "cell_type": "code",
   "execution_count": null,
   "id": "ec2d3a1a",
   "metadata": {},
   "outputs": [
    {
     "name": "stdout",
     "output_type": "stream",
     "text": [
      "recall_score :  0.9230019493177388\n",
      "precision_score : 0.8616924476797089\n",
      "f1_score : 0.8912941176470588\n",
      "f2_score : 0.9100518931385738\n",
      "accuracy_score : 0.887972841901067\n",
      "ROC_AUC Score: 0.8898285706726686\n"
     ]
    }
   ],
   "source": [
    "r_SVC= recall_score(y_test, SVC_pred)\n",
    "print(\"recall_score : \", r_SVC)\n",
    "\n",
    "p_SVC= precision_score(y_test, SVC_pred)\n",
    "print(\"precision_score :\",p_SVC)\n",
    "\n",
    "f1_SVC= f1_score(y_test, SVC_pred)\n",
    "print(\"f1_score :\", f1_SVC)\n",
    "\n",
    "f2_SVC = fbeta_score(y_test, SVC_pred, beta=2, average='binary')\n",
    "print(\"f2_score :\", f2_SVC)\n",
    "\n",
    "\n",
    "A_SVC= accuracy_score( y_test, SVC_pred)\n",
    "print(\"accuracy_score :\", A_SVC)\n",
    "\n",
    "acu_SVC = roc_auc_score(SVC_pred, y_test)\n",
    "print(\"ROC_AUC Score:\",acu_SVC)"
   ]
  },
  {
   "cell_type": "code",
   "execution_count": null,
   "id": "daa321f7",
   "metadata": {},
   "outputs": [
    {
     "data": {
      "image/png": "[encoded data removed]",
      "text/plain": [
       "<Figure size 1000x700 with 1 Axes>"
      ]
     },
     "metadata": {},
     "output_type": "display_data"
    }
   ],
   "source": [
    "#  plot the model evaluation\n",
    "fpr, tpr, _ = roc_curve(y_test, SVC_prob)\n",
    "fig, ax = plt.subplots(figsize=(10,7))\n",
    "plt.title('SVC ROC curve')\n",
    "plt.xlabel(\"False Positive Rate\")\n",
    "plt.ylabel(\"True Positive Rate\")\n",
    "plt.plot(fpr,tpr)\n",
    "plt.plot((0,1), linestyle=\"--\",color='black')\n",
    "plt.show()"
   ]
  },
  {
   "cell_type": "markdown",
   "id": "007fd0a2",
   "metadata": {},
   "source": [
    "##  6. DecisionTreeClassifier"
   ]
  },
  {
   "cell_type": "markdown",
   "id": "351c86b0",
   "metadata": {},
   "source": [
    "### Create the Model"
   ]
  },
  {
   "cell_type": "code",
   "execution_count": null,
   "id": "57c57da1",
   "metadata": {},
   "outputs": [],
   "source": [
    "dtmodel = DecisionTreeClassifier()"
   ]
  },
  {
   "cell_type": "markdown",
   "id": "7f325e42",
   "metadata": {},
   "source": [
    "### Train the Model"
   ]
  },
  {
   "cell_type": "code",
   "execution_count": null,
   "id": "a1dd314a",
   "metadata": {},
   "outputs": [],
   "source": [
    "dtmodel = dtmodel.fit(X_train, y_train)"
   ]
  },
  {
   "cell_type": "markdown",
   "id": "561524af",
   "metadata": {},
   "source": [
    "### Predict on the test dataset"
   ]
  },
  {
   "cell_type": "code",
   "execution_count": null,
   "id": "13171444",
   "metadata": {},
   "outputs": [],
   "source": [
    "dt_pred = dtmodel.predict(X_test)\n",
    "dt_prob = dtmodel.predict_proba(X_test)[:,1]"
   ]
  },
  {
   "cell_type": "markdown",
   "id": "3918c978",
   "metadata": {},
   "source": [
    "### Model Evaluation"
   ]
  },
  {
   "cell_type": "code",
   "execution_count": null,
   "id": "7c818cd3",
   "metadata": {},
   "outputs": [
    {
     "name": "stdout",
     "output_type": "stream",
     "text": [
      "recall_score :  0.9444444444444444\n",
      "precision_score : 0.8177215189873418\n",
      "f1_score : 0.8765264586160109\n",
      "f2_score : 0.9160521837776519\n",
      "accuracy_score : 0.8676042677012609\n",
      "ROC_AUC Score: 0.8763636101208088\n"
     ]
    }
   ],
   "source": [
    "r_dt= recall_score(y_test, dt_pred)\n",
    "print(\"recall_score : \", r_dt)\n",
    "\n",
    "p_dt= precision_score(y_test, dt_pred)\n",
    "print(\"precision_score :\",p_dt)\n",
    "\n",
    "f1_dt= f1_score(y_test, dt_pred)\n",
    "print(\"f1_score :\", f1_dt)\n",
    "\n",
    "f2_dt = fbeta_score(y_test, dt_pred, beta=2, average='binary')\n",
    "print(\"f2_score :\", f2_dt)\n",
    "\n",
    "\n",
    "A_dt= accuracy_score( y_test, dt_pred)\n",
    "print(\"accuracy_score :\", A_dt)\n",
    "\n",
    "acu_dt = roc_auc_score(dt_pred, y_test)\n",
    "print(\"ROC_AUC Score:\",acu_dt)"
   ]
  },
  {
   "cell_type": "markdown",
   "id": "c286dfb6",
   "metadata": {},
   "source": [
    "# Models comparison"
   ]
  },
  {
   "cell_type": "code",
   "execution_count": null,
   "id": "4906e4f5",
   "metadata": {},
   "outputs": [
    {
     "data": {
      "text/html": [
       "<div>\n",
       "<style scoped>\n",
       "    .dataframe tbody tr th:only-of-type {\n",
       "        vertical-align: middle;\n",
       "    }\n",
       "\n",
       "    .dataframe tbody tr th {\n",
       "        vertical-align: top;\n",
       "    }\n",
       "\n",
       "    .dataframe thead th {\n",
       "        text-align: right;\n",
       "    }\n",
       "</style>\n",
       "<table border=\"1\" class=\"dataframe\">\n",
       "  <thead>\n",
       "    <tr style=\"text-align: right;\">\n",
       "      <th></th>\n",
       "      <th>Accuracy</th>\n",
       "      <th>Recall</th>\n",
       "      <th>Precision</th>\n",
       "      <th>f1_score</th>\n",
       "      <th>f2_score</th>\n",
       "      <th>ROC_AUC</th>\n",
       "      <th>Description</th>\n",
       "    </tr>\n",
       "  </thead>\n",
       "  <tbody>\n",
       "    <tr>\n",
       "      <th>Logistic Regression</th>\n",
       "      <td>0.760427</td>\n",
       "      <td>0.793372</td>\n",
       "      <td>0.742701</td>\n",
       "      <td>0.767201</td>\n",
       "      <td>0.782692</td>\n",
       "      <td>0.761620</td>\n",
       "      <td></td>\n",
       "    </tr>\n",
       "    <tr>\n",
       "      <th>Randomforest</th>\n",
       "      <td>0.898157</td>\n",
       "      <td>0.952242</td>\n",
       "      <td>0.858524</td>\n",
       "      <td>0.902957</td>\n",
       "      <td>0.931896</td>\n",
       "      <td>0.902747</td>\n",
       "      <td>best model</td>\n",
       "    </tr>\n",
       "    <tr>\n",
       "      <th>XGBClassifier</th>\n",
       "      <td>0.859360</td>\n",
       "      <td>0.928850</td>\n",
       "      <td>0.814530</td>\n",
       "      <td>0.867942</td>\n",
       "      <td>0.903489</td>\n",
       "      <td>0.866346</td>\n",
       "      <td></td>\n",
       "    </tr>\n",
       "    <tr>\n",
       "      <th>K Nearest Neighbors</th>\n",
       "      <td>0.777886</td>\n",
       "      <td>0.864522</td>\n",
       "      <td>0.735489</td>\n",
       "      <td>0.794803</td>\n",
       "      <td>0.835217</td>\n",
       "      <td>0.786553</td>\n",
       "      <td></td>\n",
       "    </tr>\n",
       "    <tr>\n",
       "      <th>Support Vector Machines</th>\n",
       "      <td>0.887973</td>\n",
       "      <td>0.923002</td>\n",
       "      <td>0.861692</td>\n",
       "      <td>0.891294</td>\n",
       "      <td>0.910052</td>\n",
       "      <td>0.889829</td>\n",
       "      <td></td>\n",
       "    </tr>\n",
       "    <tr>\n",
       "      <th>DecisionTreeClassifier</th>\n",
       "      <td>0.867604</td>\n",
       "      <td>0.944444</td>\n",
       "      <td>0.817722</td>\n",
       "      <td>0.876526</td>\n",
       "      <td>0.916052</td>\n",
       "      <td>0.876364</td>\n",
       "      <td></td>\n",
       "    </tr>\n",
       "  </tbody>\n",
       "</table>\n",
       "</div>"
      ],
      "text/plain": [
       "                         Accuracy    Recall  Precision  f1_score  f2_score  \\\n",
       "Logistic Regression      0.760427  0.793372   0.742701  0.767201  0.782692   \n",
       "Randomforest             0.898157  0.952242   0.858524  0.902957  0.931896   \n",
       "XGBClassifier            0.859360  0.928850   0.814530  0.867942  0.903489   \n",
       "K Nearest Neighbors      0.777886  0.864522   0.735489  0.794803  0.835217   \n",
       "Support Vector Machines  0.887973  0.923002   0.861692  0.891294  0.910052   \n",
       "DecisionTreeClassifier   0.867604  0.944444   0.817722  0.876526  0.916052   \n",
       "\n",
       "                          ROC_AUC Description  \n",
       "Logistic Regression      0.761620              \n",
       "Randomforest             0.902747  best model  \n",
       "XGBClassifier            0.866346              \n",
       "K Nearest Neighbors      0.786553              \n",
       "Support Vector Machines  0.889829              \n",
       "DecisionTreeClassifier   0.876364              "
      ]
     },
     "execution_count": 88,
     "metadata": {},
     "output_type": "execute_result"
    }
   ],
   "source": [
    "compare_models = ['Logistic Regression','Randomforest','XGBClassifier','K Nearest Neighbors','Support Vector Machines','DecisionTreeClassifier']\n",
    "\n",
    "data={'Accuracy':[A_lgt,A_rf,A_XG,A_KNN,A_SVC,A_dt],'Recall':[r_lgt,r_rf, r_XG,r_KNN,r_SVC,r_dt],'Precision':[p_lgt, p_rf, p_XG,p_KNN,p_SVC,p_dt], 'f1_score':[f1_lgt, f1_rf, f1_XG,f1_KNN,f1_SVC,f1_dt], 'f2_score':[f2_lgt,f2_rf,f2_XG,f2_KNN,f2_SVC,f2_dt],'ROC_AUC':[acu_lgt, acu_rf, acu_XG,acu_KNN,acu_SVC,acu_dt],'Description':['','best model','','','','']}\n",
    "result=pd.DataFrame(data=data, index=compare_models)\n",
    "result"
   ]
  },
  {
   "cell_type": "markdown",
   "id": "81ca799a",
   "metadata": {},
   "source": [
    "After train split test the best model is Randomforest. But that won't be the conclusion for the best model unless after cross validation."
   ]
  },
  {
   "cell_type": "markdown",
   "id": "c229ba53",
   "metadata": {},
   "source": [
    "# k-Fold cross validation \n",
    "\n",
    "## 1. Logistic Regression"
   ]
  },
  {
   "cell_type": "markdown",
   "id": "927edfdc",
   "metadata": {},
   "source": [
    "## 2. RandomForest Classifier (Best Model)"
   ]
  },
  {
   "cell_type": "code",
   "execution_count": null,
   "id": "ad86389f",
   "metadata": {},
   "outputs": [
    {
     "name": "stdout",
     "output_type": "stream",
     "text": [
      "Cross Validation f1 scores are: [0.88617886 0.88323188 0.89162273 0.88377445 0.87016734]\n",
      "Average Cross Validation f1 score:  0.8829950522059136\n",
      "Cross Validation f1 standard deviation:  0.007902329117110772\n"
     ]
    }
   ],
   "source": [
    "kf_RF = KFold(n_splits = 5,shuffle=True)\n",
    "score = cross_val_score(RF_model, X_train, y_train, cv=kf_RF, scoring='f1', error_score=\"raise\")\n",
    "RF_cv_score = score.mean()\n",
    "RF_cv_stdev = stdev(score)\n",
    "print('Cross Validation f1 scores are: {}'.format(score))\n",
    "print('Average Cross Validation f1 score: ', RF_cv_score)\n",
    "print('Cross Validation f1 standard deviation: ', RF_cv_stdev)"
   ]
  },
  {
   "cell_type": "markdown",
   "id": "aa1f2899",
   "metadata": {},
   "source": [
    "# Model Improvement\n",
    "\n",
    "# Hyperparameters tuning\n",
    "\n",
    "# TOP 3 MODELS\n",
    "\n",
    "1. RandomForerestClassifier\n",
    "2. Support Vector Machine\n",
    "3. DecisionTree Classifier\n",
    "\n"
   ]
  },
  {
   "cell_type": "markdown",
   "id": "9f0b8c0a",
   "metadata": {},
   "source": [
    "## 1. RandomForest Classifier"
   ]
  },
  {
   "cell_type": "code",
   "execution_count": null,
   "id": "0a6dc8d9",
   "metadata": {},
   "outputs": [],
   "source": [
    "# Number of trees in random forest\n",
    "n_estimators = [int(x) for x in np.linspace(start = 15, stop = 80, num = 10)]\n",
    "\n",
    "# Number of features to consider at every split\n",
    "max_features = ['auto', 'sqrt', 'log2']\n",
    "\n",
    "# maximum number of levels in tree\n",
    "max_depth = [2,4,10, None]\n",
    " \n",
    "# minimum number of samples required to split a node\n",
    "min_samples_split = [2,5]\n",
    "\n",
    "# minimum number of samples required at each leaf node\n",
    "min_samples_leaf = [1,2]\n",
    "\n",
    "# Method of selecting Samples for training each tree\n",
    "bootstrap = [True]"
   ]
  },
  {
   "cell_type": "code",
   "execution_count": null,
   "id": "a594fe84",
   "metadata": {},
   "outputs": [
    {
     "name": "stdout",
     "output_type": "stream",
     "text": [
      "{'n_estimators': [15, 22, 29, 36, 43, 51, 58, 65, 72, 80], 'max_features': ['auto', 'sqrt', 'log2'], 'max_depth': [2, 4, 10, None], 'min_samples_split': [2, 5], 'min_samples_leaf': [1, 2], 'bootstrap': [True]}\n"
     ]
    }
   ],
   "source": [
    "# create param grid\n",
    "\n",
    "param_grid = {'n_estimators':n_estimators,\n",
    "              'max_features':max_features,\n",
    "              'max_depth':max_depth,\n",
    "              'min_samples_split':min_samples_split,\n",
    "              'min_samples_leaf':min_samples_leaf,\n",
    "              'bootstrap':bootstrap}\n",
    "print(param_grid)"
   ]
  },
  {
   "cell_type": "code",
   "execution_count": null,
   "id": "d958e870",
   "metadata": {},
   "outputs": [],
   "source": [
    "# make GridSearchCV object\n",
    "rf_Grid = GridSearchCV(estimator = RF_model, param_grid = param_grid, cv = kf_RF, verbose = 2 , n_jobs = -1, scoring='f1')"
   ]
  },
  {
   "cell_type": "code",
   "execution_count": null,
   "id": "017cea9a",
   "metadata": {},
   "outputs": [
    {
     "name": "stdout",
     "output_type": "stream",
     "text": [
      "Fitting 5 folds for each of 480 candidates, totalling 2400 fits\n"
     ]
    },
    {
     "data": {
      "text/html": [
       "<style>#sk-container-id-1 {color: black;background-color: white;}#sk-container-id-1 pre{padding: 0;}#sk-container-id-1 div.sk-toggleable {background-color: white;}#sk-container-id-1 label.sk-toggleable__label {cursor: pointer;display: block;width: 100%;margin-bottom: 0;padding: 0.3em;box-sizing: border-box;text-align: center;}#sk-container-id-1 label.sk-toggleable__label-arrow:before {content: \"▸\";float: left;margin-right: 0.25em;color: #696969;}#sk-container-id-1 label.sk-toggleable__label-arrow:hover:before {color: black;}#sk-container-id-1 div.sk-estimator:hover label.sk-toggleable__label-arrow:before {color: black;}#sk-container-id-1 div.sk-toggleable__content {max-height: 0;max-width: 0;overflow: hidden;text-align: left;background-color: #f0f8ff;}#sk-container-id-1 div.sk-toggleable__content pre {margin: 0.2em;color: black;border-radius: 0.25em;background-color: #f0f8ff;}#sk-container-id-1 input.sk-toggleable__control:checked~div.sk-toggleable__content {max-height: 200px;max-width: 100%;overflow: auto;}#sk-container-id-1 input.sk-toggleable__control:checked~label.sk-toggleable__label-arrow:before {content: \"▾\";}#sk-container-id-1 div.sk-estimator input.sk-toggleable__control:checked~label.sk-toggleable__label {background-color: #d4ebff;}#sk-container-id-1 div.sk-label input.sk-toggleable__control:checked~label.sk-toggleable__label {background-color: #d4ebff;}#sk-container-id-1 input.sk-hidden--visually {border: 0;clip: rect(1px 1px 1px 1px);clip: rect(1px, 1px, 1px, 1px);height: 1px;margin: -1px;overflow: hidden;padding: 0;position: absolute;width: 1px;}#sk-container-id-1 div.sk-estimator {font-family: monospace;background-color: #f0f8ff;border: 1px dotted black;border-radius: 0.25em;box-sizing: border-box;margin-bottom: 0.5em;}#sk-container-id-1 div.sk-estimator:hover {background-color: #d4ebff;}#sk-container-id-1 div.sk-parallel-item::after {content: \"\";width: 100%;border-bottom: 1px solid gray;flex-grow: 1;}#sk-container-id-1 div.sk-label:hover label.sk-toggleable__label {background-color: #d4ebff;}#sk-container-id-1 div.sk-serial::before {content: \"\";position: absolute;border-left: 1px solid gray;box-sizing: border-box;top: 0;bottom: 0;left: 50%;z-index: 0;}#sk-container-id-1 div.sk-serial {display: flex;flex-direction: column;align-items: center;background-color: white;padding-right: 0.2em;padding-left: 0.2em;position: relative;}#sk-container-id-1 div.sk-item {position: relative;z-index: 1;}#sk-container-id-1 div.sk-parallel {display: flex;align-items: stretch;justify-content: center;background-color: white;position: relative;}#sk-container-id-1 div.sk-item::before, #sk-container-id-1 div.sk-parallel-item::before {content: \"\";position: absolute;border-left: 1px solid gray;box-sizing: border-box;top: 0;bottom: 0;left: 50%;z-index: -1;}#sk-container-id-1 div.sk-parallel-item {display: flex;flex-direction: column;z-index: 1;position: relative;background-color: white;}#sk-container-id-1 div.sk-parallel-item:first-child::after {align-self: flex-end;width: 50%;}#sk-container-id-1 div.sk-parallel-item:last-child::after {align-self: flex-start;width: 50%;}#sk-container-id-1 div.sk-parallel-item:only-child::after {width: 0;}#sk-container-id-1 div.sk-dashed-wrapped {border: 1px dashed gray;margin: 0 0.4em 0.5em 0.4em;box-sizing: border-box;padding-bottom: 0.4em;background-color: white;}#sk-container-id-1 div.sk-label label {font-family: monospace;font-weight: bold;display: inline-block;line-height: 1.2em;}#sk-container-id-1 div.sk-label-container {text-align: center;}#sk-container-id-1 div.sk-container {/* jupyter's `normalize.less` sets `[hidden] { display: none; }` but bootstrap.min.css set `[hidden] { display: none !important; }` so we also need the `!important` here to be able to override the default hidden behavior on the sphinx rendered scikit-learn.org. See: https://github.com/scikit-learn/scikit-learn/issues/21755 */display: inline-block !important;position: relative;}#sk-container-id-1 div.sk-text-repr-fallback {display: none;}</style><div id=\"sk-container-id-1\" class=\"sk-top-container\"><div class=\"sk-text-repr-fallback\"><pre>GridSearchCV(cv=KFold(n_splits=5, random_state=None, shuffle=True),\n",
       "             estimator=RandomForestClassifier(), n_jobs=-1,\n",
       "             param_grid={&#x27;bootstrap&#x27;: [True], &#x27;max_depth&#x27;: [2, 4, 10, None],\n",
       "                         &#x27;max_features&#x27;: [&#x27;auto&#x27;, &#x27;sqrt&#x27;, &#x27;log2&#x27;],\n",
       "                         &#x27;min_samples_leaf&#x27;: [1, 2],\n",
       "                         &#x27;min_samples_split&#x27;: [2, 5],\n",
       "                         &#x27;n_estimators&#x27;: [15, 22, 29, 36, 43, 51, 58, 65, 72,\n",
       "                                          80]},\n",
       "             scoring=&#x27;f1&#x27;, verbose=2)</pre><b>In a Jupyter environment, please rerun this cell to show the HTML representation or trust the notebook. <br />On GitHub, the HTML representation is unable to render, please try loading this page with nbviewer.org.</b></div><div class=\"sk-container\" hidden><div class=\"sk-item sk-dashed-wrapped\"><div class=\"sk-label-container\"><div class=\"sk-label sk-toggleable\"><input class=\"sk-toggleable__control sk-hidden--visually\" id=\"sk-estimator-id-1\" type=\"checkbox\" ><label for=\"sk-estimator-id-1\" class=\"sk-toggleable__label sk-toggleable__label-arrow\">GridSearchCV</label><div class=\"sk-toggleable__content\"><pre>GridSearchCV(cv=KFold(n_splits=5, random_state=None, shuffle=True),\n",
       "             estimator=RandomForestClassifier(), n_jobs=-1,\n",
       "             param_grid={&#x27;bootstrap&#x27;: [True], &#x27;max_depth&#x27;: [2, 4, 10, None],\n",
       "                         &#x27;max_features&#x27;: [&#x27;auto&#x27;, &#x27;sqrt&#x27;, &#x27;log2&#x27;],\n",
       "                         &#x27;min_samples_leaf&#x27;: [1, 2],\n",
       "                         &#x27;min_samples_split&#x27;: [2, 5],\n",
       "                         &#x27;n_estimators&#x27;: [15, 22, 29, 36, 43, 51, 58, 65, 72,\n",
       "                                          80]},\n",
       "             scoring=&#x27;f1&#x27;, verbose=2)</pre></div></div></div><div class=\"sk-parallel\"><div class=\"sk-parallel-item\"><div class=\"sk-item\"><div class=\"sk-label-container\"><div class=\"sk-label sk-toggleable\"><input class=\"sk-toggleable__control sk-hidden--visually\" id=\"sk-estimator-id-2\" type=\"checkbox\" ><label for=\"sk-estimator-id-2\" class=\"sk-toggleable__label sk-toggleable__label-arrow\">estimator: RandomForestClassifier</label><div class=\"sk-toggleable__content\"><pre>RandomForestClassifier()</pre></div></div></div><div class=\"sk-serial\"><div class=\"sk-item\"><div class=\"sk-estimator sk-toggleable\"><input class=\"sk-toggleable__control sk-hidden--visually\" id=\"sk-estimator-id-3\" type=\"checkbox\" ><label for=\"sk-estimator-id-3\" class=\"sk-toggleable__label sk-toggleable__label-arrow\">RandomForestClassifier</label><div class=\"sk-toggleable__content\"><pre>RandomForestClassifier()</pre></div></div></div></div></div></div></div></div></div></div>"
      ],
      "text/plain": [
       "GridSearchCV(cv=KFold(n_splits=5, random_state=None, shuffle=True),\n",
       "             estimator=RandomForestClassifier(), n_jobs=-1,\n",
       "             param_grid={'bootstrap': [True], 'max_depth': [2, 4, 10, None],\n",
       "                         'max_features': ['auto', 'sqrt', 'log2'],\n",
       "                         'min_samples_leaf': [1, 2],\n",
       "                         'min_samples_split': [2, 5],\n",
       "                         'n_estimators': [15, 22, 29, 36, 43, 51, 58, 65, 72,\n",
       "                                          80]},\n",
       "             scoring='f1', verbose=2)"
      ]
     },
     "execution_count": 93,
     "metadata": {},
     "output_type": "execute_result"
    }
   ],
   "source": [
    "rf_Grid.fit(X_train,y_train)"
   ]
  },
  {
   "cell_type": "code",
   "execution_count": null,
   "id": "cd013e4d",
   "metadata": {},
   "outputs": [
    {
     "data": {
      "text/plain": [
       "{'bootstrap': True,\n",
       " 'max_depth': None,\n",
       " 'max_features': 'sqrt',\n",
       " 'min_samples_leaf': 1,\n",
       " 'min_samples_split': 2,\n",
       " 'n_estimators': 72}"
      ]
     },
     "execution_count": 94,
     "metadata": {},
     "output_type": "execute_result"
    }
   ],
   "source": [
    "rf_Grid.best_params_"
   ]
  },
  {
   "cell_type": "code",
   "execution_count": null,
   "id": "30a480cf",
   "metadata": {},
   "outputs": [],
   "source": [
    "RF_model_tuned = RandomForestClassifier(bootstrap = True,\n",
    "                                    max_depth = None,\n",
    "                                    max_features = 'auto',\n",
    "                                    min_samples_leaf = 1,\n",
    "                                    min_samples_split =  2,\n",
    "                                    n_estimators = 22)\n",
    "# RF_model_tuned = RandomForestClassifier()"
   ]
  },
  {
   "cell_type": "code",
   "execution_count": null,
   "id": "2c4d40df",
   "metadata": {},
   "outputs": [
    {
     "name": "stdout",
     "output_type": "stream",
     "text": [
      "              precision    recall  f1-score   support\n",
      "\n",
      "           0       0.84      0.94      0.89       921\n",
      "           1       0.95      0.85      0.90      1141\n",
      "\n",
      "    accuracy                           0.89      2062\n",
      "   macro avg       0.89      0.90      0.89      2062\n",
      "weighted avg       0.90      0.89      0.89      2062\n",
      "\n"
     ]
    }
   ],
   "source": [
    "# performance evaluation the test data\n",
    "\n",
    "RF_model_tuned.fit(X_train, y_train)\n",
    "y_pred_grid = RF_model_tuned.predict(X_test)\n",
    "print(classification_report(y_pred_grid, y_test))"
   ]
  },
  {
   "cell_type": "markdown",
   "id": "31337368",
   "metadata": {},
   "source": [
    "There is not much difference in the model performance after hyperparameter tuning"
   ]
  },
  {
   "cell_type": "code",
   "execution_count": null,
   "id": "98323e4d",
   "metadata": {},
   "outputs": [],
   "source": [
    "with open('model.pkl', 'wb') as f:\n",
    "    pickle.dump(RF_model_tuned, f)"
   ]
  },
  {
   "cell_type": "code",
   "execution_count": null,
   "id": "e551d87b",
   "metadata": {},
   "outputs": [],
   "source": [
    "X_new.to_csv('data.csv', index=False)"
   ]
  },
  {
   "cell_type": "code",
   "execution_count": null,
   "id": "f771314a",
   "metadata": {},
   "outputs": [],
   "source": [
    "import pickle\n",
    "\n",
    "with open('encoder.pkl', 'wb') as f:\n",
    "    pickle.dump(encoder, f)\n",
    "\n",
    "with open('scaler.pkl', 'wb') as f:\n",
    "    pickle.dump(Scaler, f)"
   ]
  },
  {
   "cell_type": "markdown",
   "id": "282e344f",
   "metadata": {},
   "source": [
    "# 2. Support Vector Machine"
   ]
  },
  {
   "cell_type": "code",
   "execution_count": null,
   "id": "8fed37dd",
   "metadata": {},
   "outputs": [],
   "source": [
    "# create param grid\n",
    "param_grid = {'C': [0.1,1, 10, 100], \n",
    "              'gamma': [1,0.1,0.01,0.001]} "
   ]
  },
  {
   "cell_type": "code",
   "execution_count": null,
   "id": "e6db0039",
   "metadata": {},
   "outputs": [
    {
     "name": "stdout",
     "output_type": "stream",
     "text": [
      "Fitting 5 folds for each of 16 candidates, totalling 80 fits\n",
      "[CV] END .....................................C=0.1, gamma=1; total time=  44.5s\n",
      "[CV] END .....................................C=0.1, gamma=1; total time=  43.7s\n",
      "[CV] END .....................................C=0.1, gamma=1; total time=  44.0s\n",
      "[CV] END .....................................C=0.1, gamma=1; total time=  43.1s\n",
      "[CV] END .....................................C=0.1, gamma=1; total time=  44.7s\n",
      "[CV] END ...................................C=0.1, gamma=0.1; total time=  27.9s\n",
      "[CV] END ...................................C=0.1, gamma=0.1; total time=  29.0s\n",
      "[CV] END ...................................C=0.1, gamma=0.1; total time=  30.0s\n",
      "[CV] END ...................................C=0.1, gamma=0.1; total time=  31.6s\n",
      "[CV] END ...................................C=0.1, gamma=0.1; total time=  28.8s\n",
      "[CV] END ..................................C=0.1, gamma=0.01; total time=  31.4s\n",
      "[CV] END ..................................C=0.1, gamma=0.01; total time=  32.3s\n",
      "[CV] END ..................................C=0.1, gamma=0.01; total time=  30.6s\n",
      "[CV] END ..................................C=0.1, gamma=0.01; total time=  31.3s\n",
      "[CV] END ..................................C=0.1, gamma=0.01; total time=  29.8s\n",
      "[CV] END .................................C=0.1, gamma=0.001; total time=  40.9s\n",
      "[CV] END .................................C=0.1, gamma=0.001; total time=  45.1s\n",
      "[CV] END .................................C=0.1, gamma=0.001; total time=  46.0s\n",
      "[CV] END .................................C=0.1, gamma=0.001; total time=  46.0s\n",
      "[CV] END .................................C=0.1, gamma=0.001; total time=  43.5s\n",
      "[CV] END .......................................C=1, gamma=1; total time=  37.4s\n",
      "[CV] END .......................................C=1, gamma=1; total time=  43.8s\n",
      "[CV] END .......................................C=1, gamma=1; total time=  40.5s\n",
      "[CV] END .......................................C=1, gamma=1; total time=  38.3s\n",
      "[CV] END .......................................C=1, gamma=1; total time=  37.9s\n",
      "[CV] END .....................................C=1, gamma=0.1; total time=  30.0s\n",
      "[CV] END .....................................C=1, gamma=0.1; total time=  27.4s\n",
      "[CV] END .....................................C=1, gamma=0.1; total time=  27.1s\n",
      "[CV] END .....................................C=1, gamma=0.1; total time=  27.0s\n",
      "[CV] END .....................................C=1, gamma=0.1; total time=  27.9s\n",
      "[CV] END ....................................C=1, gamma=0.01; total time=  28.3s\n",
      "[CV] END ....................................C=1, gamma=0.01; total time=  27.2s\n",
      "[CV] END ....................................C=1, gamma=0.01; total time=  30.8s\n",
      "[CV] END ....................................C=1, gamma=0.01; total time=  28.7s\n",
      "[CV] END ....................................C=1, gamma=0.01; total time=  27.9s\n",
      "[CV] END ...................................C=1, gamma=0.001; total time=  32.4s\n",
      "[CV] END ...................................C=1, gamma=0.001; total time=  30.4s\n",
      "[CV] END ...................................C=1, gamma=0.001; total time=  33.3s\n",
      "[CV] END ...................................C=1, gamma=0.001; total time=  33.4s\n",
      "[CV] END ...................................C=1, gamma=0.001; total time=  32.7s\n",
      "[CV] END ......................................C=10, gamma=1; total time=  40.7s\n",
      "[CV] END ......................................C=10, gamma=1; total time=  40.8s\n",
      "[CV] END ......................................C=10, gamma=1; total time=  35.6s\n",
      "[CV] END ......................................C=10, gamma=1; total time=  34.7s\n",
      "[CV] END ......................................C=10, gamma=1; total time=  37.0s\n",
      "[CV] END ....................................C=10, gamma=0.1; total time=  30.2s\n",
      "[CV] END ....................................C=10, gamma=0.1; total time=  27.6s\n",
      "[CV] END ....................................C=10, gamma=0.1; total time=  27.3s\n",
      "[CV] END ....................................C=10, gamma=0.1; total time=  28.2s\n",
      "[CV] END ....................................C=10, gamma=0.1; total time=  29.9s\n",
      "[CV] END ...................................C=10, gamma=0.01; total time=  27.0s\n",
      "[CV] END ...................................C=10, gamma=0.01; total time=  31.5s\n",
      "[CV] END ...................................C=10, gamma=0.01; total time=  27.3s\n",
      "[CV] END ...................................C=10, gamma=0.01; total time=  26.9s\n",
      "[CV] END ...................................C=10, gamma=0.01; total time=  29.3s\n",
      "[CV] END ..................................C=10, gamma=0.001; total time=  26.4s\n",
      "[CV] END ..................................C=10, gamma=0.001; total time=  28.6s\n",
      "[CV] END ..................................C=10, gamma=0.001; total time=  26.9s\n",
      "[CV] END ..................................C=10, gamma=0.001; total time=  27.0s\n",
      "[CV] END ..................................C=10, gamma=0.001; total time=  26.9s\n",
      "[CV] END .....................................C=100, gamma=1; total time=  36.6s\n",
      "[CV] END .....................................C=100, gamma=1; total time=  34.6s\n",
      "[CV] END .....................................C=100, gamma=1; total time=  36.6s\n",
      "[CV] END .....................................C=100, gamma=1; total time=  35.3s\n",
      "[CV] END .....................................C=100, gamma=1; total time=  34.4s\n",
      "[CV] END ...................................C=100, gamma=0.1; total time=  36.7s\n",
      "[CV] END ...................................C=100, gamma=0.1; total time=  37.1s\n",
      "[CV] END ...................................C=100, gamma=0.1; total time=  37.2s\n",
      "[CV] END ...................................C=100, gamma=0.1; total time=  37.0s\n",
      "[CV] END ...................................C=100, gamma=0.1; total time=  36.9s\n",
      "[CV] END ..................................C=100, gamma=0.01; total time=  29.4s\n",
      "[CV] END ..................................C=100, gamma=0.01; total time=  29.5s\n",
      "[CV] END ..................................C=100, gamma=0.01; total time=  32.0s\n",
      "[CV] END ..................................C=100, gamma=0.01; total time=  34.6s\n",
      "[CV] END ..................................C=100, gamma=0.01; total time=  30.3s\n",
      "[CV] END .................................C=100, gamma=0.001; total time=  25.6s\n",
      "[CV] END .................................C=100, gamma=0.001; total time=  25.8s\n",
      "[CV] END .................................C=100, gamma=0.001; total time=  25.8s\n",
      "[CV] END .................................C=100, gamma=0.001; total time=  26.0s\n",
      "[CV] END .................................C=100, gamma=0.001; total time=  26.3s\n"
     ]
    },
    {
     "data": {
      "text/html": [
       "<style>#sk-container-id-6 {color: black;background-color: white;}#sk-container-id-6 pre{padding: 0;}#sk-container-id-6 div.sk-toggleable {background-color: white;}#sk-container-id-6 label.sk-toggleable__label {cursor: pointer;display: block;width: 100%;margin-bottom: 0;padding: 0.3em;box-sizing: border-box;text-align: center;}#sk-container-id-6 label.sk-toggleable__label-arrow:before {content: \"▸\";float: left;margin-right: 0.25em;color: #696969;}#sk-container-id-6 label.sk-toggleable__label-arrow:hover:before {color: black;}#sk-container-id-6 div.sk-estimator:hover label.sk-toggleable__label-arrow:before {color: black;}#sk-container-id-6 div.sk-toggleable__content {max-height: 0;max-width: 0;overflow: hidden;text-align: left;background-color: #f0f8ff;}#sk-container-id-6 div.sk-toggleable__content pre {margin: 0.2em;color: black;border-radius: 0.25em;background-color: #f0f8ff;}#sk-container-id-6 input.sk-toggleable__control:checked~div.sk-toggleable__content {max-height: 200px;max-width: 100%;overflow: auto;}#sk-container-id-6 input.sk-toggleable__control:checked~label.sk-toggleable__label-arrow:before {content: \"▾\";}#sk-container-id-6 div.sk-estimator input.sk-toggleable__control:checked~label.sk-toggleable__label {background-color: #d4ebff;}#sk-container-id-6 div.sk-label input.sk-toggleable__control:checked~label.sk-toggleable__label {background-color: #d4ebff;}#sk-container-id-6 input.sk-hidden--visually {border: 0;clip: rect(1px 1px 1px 1px);clip: rect(1px, 1px, 1px, 1px);height: 1px;margin: -1px;overflow: hidden;padding: 0;position: absolute;width: 1px;}#sk-container-id-6 div.sk-estimator {font-family: monospace;background-color: #f0f8ff;border: 1px dotted black;border-radius: 0.25em;box-sizing: border-box;margin-bottom: 0.5em;}#sk-container-id-6 div.sk-estimator:hover {background-color: #d4ebff;}#sk-container-id-6 div.sk-parallel-item::after {content: \"\";width: 100%;border-bottom: 1px solid gray;flex-grow: 1;}#sk-container-id-6 div.sk-label:hover label.sk-toggleable__label {background-color: #d4ebff;}#sk-container-id-6 div.sk-serial::before {content: \"\";position: absolute;border-left: 1px solid gray;box-sizing: border-box;top: 0;bottom: 0;left: 50%;z-index: 0;}#sk-container-id-6 div.sk-serial {display: flex;flex-direction: column;align-items: center;background-color: white;padding-right: 0.2em;padding-left: 0.2em;position: relative;}#sk-container-id-6 div.sk-item {position: relative;z-index: 1;}#sk-container-id-6 div.sk-parallel {display: flex;align-items: stretch;justify-content: center;background-color: white;position: relative;}#sk-container-id-6 div.sk-item::before, #sk-container-id-6 div.sk-parallel-item::before {content: \"\";position: absolute;border-left: 1px solid gray;box-sizing: border-box;top: 0;bottom: 0;left: 50%;z-index: -1;}#sk-container-id-6 div.sk-parallel-item {display: flex;flex-direction: column;z-index: 1;position: relative;background-color: white;}#sk-container-id-6 div.sk-parallel-item:first-child::after {align-self: flex-end;width: 50%;}#sk-container-id-6 div.sk-parallel-item:last-child::after {align-self: flex-start;width: 50%;}#sk-container-id-6 div.sk-parallel-item:only-child::after {width: 0;}#sk-container-id-6 div.sk-dashed-wrapped {border: 1px dashed gray;margin: 0 0.4em 0.5em 0.4em;box-sizing: border-box;padding-bottom: 0.4em;background-color: white;}#sk-container-id-6 div.sk-label label {font-family: monospace;font-weight: bold;display: inline-block;line-height: 1.2em;}#sk-container-id-6 div.sk-label-container {text-align: center;}#sk-container-id-6 div.sk-container {/* jupyter's `normalize.less` sets `[hidden] { display: none; }` but bootstrap.min.css set `[hidden] { display: none !important; }` so we also need the `!important` here to be able to override the default hidden behavior on the sphinx rendered scikit-learn.org. See: https://github.com/scikit-learn/scikit-learn/issues/21755 */display: inline-block !important;position: relative;}#sk-container-id-6 div.sk-text-repr-fallback {display: none;}</style><div id=\"sk-container-id-6\" class=\"sk-top-container\"><div class=\"sk-text-repr-fallback\"><pre>GridSearchCV(cv=KFold(n_splits=5, random_state=None, shuffle=True),\n",
       "             estimator=SVC(C=51, gamma=1, probability=True),\n",
       "             param_grid={&#x27;C&#x27;: [0.1, 1, 10, 100],\n",
       "                         &#x27;gamma&#x27;: [1, 0.1, 0.01, 0.001]},\n",
       "             scoring=&#x27;f1&#x27;, verbose=2)</pre><b>In a Jupyter environment, please rerun this cell to show the HTML representation or trust the notebook. <br />On GitHub, the HTML representation is unable to render, please try loading this page with nbviewer.org.</b></div><div class=\"sk-container\" hidden><div class=\"sk-item sk-dashed-wrapped\"><div class=\"sk-label-container\"><div class=\"sk-label sk-toggleable\"><input class=\"sk-toggleable__control sk-hidden--visually\" id=\"sk-estimator-id-14\" type=\"checkbox\" ><label for=\"sk-estimator-id-14\" class=\"sk-toggleable__label sk-toggleable__label-arrow\">GridSearchCV</label><div class=\"sk-toggleable__content\"><pre>GridSearchCV(cv=KFold(n_splits=5, random_state=None, shuffle=True),\n",
       "             estimator=SVC(C=51, gamma=1, probability=True),\n",
       "             param_grid={&#x27;C&#x27;: [0.1, 1, 10, 100],\n",
       "                         &#x27;gamma&#x27;: [1, 0.1, 0.01, 0.001]},\n",
       "             scoring=&#x27;f1&#x27;, verbose=2)</pre></div></div></div><div class=\"sk-parallel\"><div class=\"sk-parallel-item\"><div class=\"sk-item\"><div class=\"sk-label-container\"><div class=\"sk-label sk-toggleable\"><input class=\"sk-toggleable__control sk-hidden--visually\" id=\"sk-estimator-id-15\" type=\"checkbox\" ><label for=\"sk-estimator-id-15\" class=\"sk-toggleable__label sk-toggleable__label-arrow\">estimator: SVC</label><div class=\"sk-toggleable__content\"><pre>SVC(C=51, gamma=1, probability=True)</pre></div></div></div><div class=\"sk-serial\"><div class=\"sk-item\"><div class=\"sk-estimator sk-toggleable\"><input class=\"sk-toggleable__control sk-hidden--visually\" id=\"sk-estimator-id-16\" type=\"checkbox\" ><label for=\"sk-estimator-id-16\" class=\"sk-toggleable__label sk-toggleable__label-arrow\">SVC</label><div class=\"sk-toggleable__content\"><pre>SVC(C=51, gamma=1, probability=True)</pre></div></div></div></div></div></div></div></div></div></div>"
      ],
      "text/plain": [
       "GridSearchCV(cv=KFold(n_splits=5, random_state=None, shuffle=True),\n",
       "             estimator=SVC(C=51, gamma=1, probability=True),\n",
       "             param_grid={'C': [0.1, 1, 10, 100],\n",
       "                         'gamma': [1, 0.1, 0.01, 0.001]},\n",
       "             scoring='f1', verbose=2)"
      ]
     },
     "execution_count": 173,
     "metadata": {},
     "output_type": "execute_result"
    }
   ],
   "source": [
    "# make  GridSearchCV object\n",
    "grid = GridSearchCV(SVC_model,\n",
    "                    param_grid,\n",
    "                    cv = kf_SVC,\n",
    "                    refit=True,verbose=2,scoring = 'f1')\n",
    "grid.fit(X_train,y_train)"
   ]
  },
  {
   "cell_type": "code",
   "execution_count": null,
   "id": "cb042b2c",
   "metadata": {},
   "outputs": [
    {
     "name": "stdout",
     "output_type": "stream",
     "text": [
      "SVC(C=10, gamma=1, probability=True)\n"
     ]
    }
   ],
   "source": [
    "print(grid.best_estimator_) "
   ]
  },
  {
   "cell_type": "code",
   "execution_count": null,
   "id": "5c0f4395",
   "metadata": {},
   "outputs": [],
   "source": [
    "grid_predictions = grid.predict(X_test)"
   ]
  },
  {
   "cell_type": "code",
   "execution_count": null,
   "id": "1e5ad4e7",
   "metadata": {},
   "outputs": [
    {
     "name": "stdout",
     "output_type": "stream",
     "text": [
      "              precision    recall  f1-score   support\n",
      "\n",
      "           0       0.92      0.85      0.88      1036\n",
      "           1       0.86      0.92      0.89      1026\n",
      "\n",
      "    accuracy                           0.89      2062\n",
      "   macro avg       0.89      0.89      0.89      2062\n",
      "weighted avg       0.89      0.89      0.89      2062\n",
      "\n"
     ]
    }
   ],
   "source": [
    "# performance evaluation on test data\n",
    "print(classification_report(y_test,grid_predictions))"
   ]
  },
  {
   "cell_type": "markdown",
   "id": "ec2b7c17",
   "metadata": {},
   "source": [
    "There is not much difference in the model performance after hyperparameter tuning"
   ]
  },
  {
   "cell_type": "markdown",
   "id": "7e0dcc70",
   "metadata": {},
   "source": [
    "# 3. DecisionTree Classifier"
   ]
  },
  {
   "cell_type": "code",
   "execution_count": null,
   "id": "8cb4413a",
   "metadata": {},
   "outputs": [],
   "source": [
    "depth = np.arange(1,50)\n",
    "leaves = [1,2,4,5,10,20,30,40,80,150]"
   ]
  },
  {
   "cell_type": "code",
   "execution_count": null,
   "id": "695852ab",
   "metadata": {},
   "outputs": [],
   "source": [
    "# create the parameter grid\n",
    "\n",
    "params = {\n",
    "          'max_depth':depth,\n",
    "          'min_samples_leaf':leaves,\n",
    "          'min_samples_split':[2,3,4,5],\n",
    "          'criterion':['gini','entropy'] \n",
    "}"
   ]
  },
  {
   "cell_type": "code",
   "execution_count": null,
   "id": "1aa61f91",
   "metadata": {},
   "outputs": [],
   "source": [
    "# make  GridSearchCV object\n",
    "grid_search = GridSearchCV(estimator = dtmodel, \n",
    "                           param_grid = params, \n",
    "                           cv = kf_dt, verbose = 1, scoring = 'f1', n_jobs = -1)"
   ]
  },
  {
   "cell_type": "code",
   "execution_count": null,
   "id": "9605064a",
   "metadata": {},
   "outputs": [
    {
     "name": "stdout",
     "output_type": "stream",
     "text": [
      "Fitting 5 folds for each of 3920 candidates, totalling 19600 fits\n"
     ]
    },
    {
     "data": {
      "text/html": [
       "<style>#sk-container-id-7 {color: black;background-color: white;}#sk-container-id-7 pre{padding: 0;}#sk-container-id-7 div.sk-toggleable {background-color: white;}#sk-container-id-7 label.sk-toggleable__label {cursor: pointer;display: block;width: 100%;margin-bottom: 0;padding: 0.3em;box-sizing: border-box;text-align: center;}#sk-container-id-7 label.sk-toggleable__label-arrow:before {content: \"▸\";float: left;margin-right: 0.25em;color: #696969;}#sk-container-id-7 label.sk-toggleable__label-arrow:hover:before {color: black;}#sk-container-id-7 div.sk-estimator:hover label.sk-toggleable__label-arrow:before {color: black;}#sk-container-id-7 div.sk-toggleable__content {max-height: 0;max-width: 0;overflow: hidden;text-align: left;background-color: #f0f8ff;}#sk-container-id-7 div.sk-toggleable__content pre {margin: 0.2em;color: black;border-radius: 0.25em;background-color: #f0f8ff;}#sk-container-id-7 input.sk-toggleable__control:checked~div.sk-toggleable__content {max-height: 200px;max-width: 100%;overflow: auto;}#sk-container-id-7 input.sk-toggleable__control:checked~label.sk-toggleable__label-arrow:before {content: \"▾\";}#sk-container-id-7 div.sk-estimator input.sk-toggleable__control:checked~label.sk-toggleable__label {background-color: #d4ebff;}#sk-container-id-7 div.sk-label input.sk-toggleable__control:checked~label.sk-toggleable__label {background-color: #d4ebff;}#sk-container-id-7 input.sk-hidden--visually {border: 0;clip: rect(1px 1px 1px 1px);clip: rect(1px, 1px, 1px, 1px);height: 1px;margin: -1px;overflow: hidden;padding: 0;position: absolute;width: 1px;}#sk-container-id-7 div.sk-estimator {font-family: monospace;background-color: #f0f8ff;border: 1px dotted black;border-radius: 0.25em;box-sizing: border-box;margin-bottom: 0.5em;}#sk-container-id-7 div.sk-estimator:hover {background-color: #d4ebff;}#sk-container-id-7 div.sk-parallel-item::after {content: \"\";width: 100%;border-bottom: 1px solid gray;flex-grow: 1;}#sk-container-id-7 div.sk-label:hover label.sk-toggleable__label {background-color: #d4ebff;}#sk-container-id-7 div.sk-serial::before {content: \"\";position: absolute;border-left: 1px solid gray;box-sizing: border-box;top: 0;bottom: 0;left: 50%;z-index: 0;}#sk-container-id-7 div.sk-serial {display: flex;flex-direction: column;align-items: center;background-color: white;padding-right: 0.2em;padding-left: 0.2em;position: relative;}#sk-container-id-7 div.sk-item {position: relative;z-index: 1;}#sk-container-id-7 div.sk-parallel {display: flex;align-items: stretch;justify-content: center;background-color: white;position: relative;}#sk-container-id-7 div.sk-item::before, #sk-container-id-7 div.sk-parallel-item::before {content: \"\";position: absolute;border-left: 1px solid gray;box-sizing: border-box;top: 0;bottom: 0;left: 50%;z-index: -1;}#sk-container-id-7 div.sk-parallel-item {display: flex;flex-direction: column;z-index: 1;position: relative;background-color: white;}#sk-container-id-7 div.sk-parallel-item:first-child::after {align-self: flex-end;width: 50%;}#sk-container-id-7 div.sk-parallel-item:last-child::after {align-self: flex-start;width: 50%;}#sk-container-id-7 div.sk-parallel-item:only-child::after {width: 0;}#sk-container-id-7 div.sk-dashed-wrapped {border: 1px dashed gray;margin: 0 0.4em 0.5em 0.4em;box-sizing: border-box;padding-bottom: 0.4em;background-color: white;}#sk-container-id-7 div.sk-label label {font-family: monospace;font-weight: bold;display: inline-block;line-height: 1.2em;}#sk-container-id-7 div.sk-label-container {text-align: center;}#sk-container-id-7 div.sk-container {/* jupyter's `normalize.less` sets `[hidden] { display: none; }` but bootstrap.min.css set `[hidden] { display: none !important; }` so we also need the `!important` here to be able to override the default hidden behavior on the sphinx rendered scikit-learn.org. See: https://github.com/scikit-learn/scikit-learn/issues/21755 */display: inline-block !important;position: relative;}#sk-container-id-7 div.sk-text-repr-fallback {display: none;}</style><div id=\"sk-container-id-7\" class=\"sk-top-container\"><div class=\"sk-text-repr-fallback\"><pre>GridSearchCV(cv=KFold(n_splits=5, random_state=None, shuffle=True),\n",
       "             estimator=DecisionTreeClassifier(), n_jobs=-1,\n",
       "             param_grid={&#x27;criterion&#x27;: [&#x27;gini&#x27;, &#x27;entropy&#x27;],\n",
       "                         &#x27;max_depth&#x27;: array([ 1,  2,  3,  4,  5,  6,  7,  8,  9, 10, 11, 12, 13, 14, 15, 16, 17,\n",
       "       18, 19, 20, 21, 22, 23, 24, 25, 26, 27, 28, 29, 30, 31, 32, 33, 34,\n",
       "       35, 36, 37, 38, 39, 40, 41, 42, 43, 44, 45, 46, 47, 48, 49]),\n",
       "                         &#x27;min_samples_leaf&#x27;: [1, 2, 4, 5, 10, 20, 30, 40, 80,\n",
       "                                              150],\n",
       "                         &#x27;min_samples_split&#x27;: [2, 3, 4, 5]},\n",
       "             scoring=&#x27;f1&#x27;, verbose=1)</pre><b>In a Jupyter environment, please rerun this cell to show the HTML representation or trust the notebook. <br />On GitHub, the HTML representation is unable to render, please try loading this page with nbviewer.org.</b></div><div class=\"sk-container\" hidden><div class=\"sk-item sk-dashed-wrapped\"><div class=\"sk-label-container\"><div class=\"sk-label sk-toggleable\"><input class=\"sk-toggleable__control sk-hidden--visually\" id=\"sk-estimator-id-17\" type=\"checkbox\" ><label for=\"sk-estimator-id-17\" class=\"sk-toggleable__label sk-toggleable__label-arrow\">GridSearchCV</label><div class=\"sk-toggleable__content\"><pre>GridSearchCV(cv=KFold(n_splits=5, random_state=None, shuffle=True),\n",
       "             estimator=DecisionTreeClassifier(), n_jobs=-1,\n",
       "             param_grid={&#x27;criterion&#x27;: [&#x27;gini&#x27;, &#x27;entropy&#x27;],\n",
       "                         &#x27;max_depth&#x27;: array([ 1,  2,  3,  4,  5,  6,  7,  8,  9, 10, 11, 12, 13, 14, 15, 16, 17,\n",
       "       18, 19, 20, 21, 22, 23, 24, 25, 26, 27, 28, 29, 30, 31, 32, 33, 34,\n",
       "       35, 36, 37, 38, 39, 40, 41, 42, 43, 44, 45, 46, 47, 48, 49]),\n",
       "                         &#x27;min_samples_leaf&#x27;: [1, 2, 4, 5, 10, 20, 30, 40, 80,\n",
       "                                              150],\n",
       "                         &#x27;min_samples_split&#x27;: [2, 3, 4, 5]},\n",
       "             scoring=&#x27;f1&#x27;, verbose=1)</pre></div></div></div><div class=\"sk-parallel\"><div class=\"sk-parallel-item\"><div class=\"sk-item\"><div class=\"sk-label-container\"><div class=\"sk-label sk-toggleable\"><input class=\"sk-toggleable__control sk-hidden--visually\" id=\"sk-estimator-id-18\" type=\"checkbox\" ><label for=\"sk-estimator-id-18\" class=\"sk-toggleable__label sk-toggleable__label-arrow\">estimator: DecisionTreeClassifier</label><div class=\"sk-toggleable__content\"><pre>DecisionTreeClassifier()</pre></div></div></div><div class=\"sk-serial\"><div class=\"sk-item\"><div class=\"sk-estimator sk-toggleable\"><input class=\"sk-toggleable__control sk-hidden--visually\" id=\"sk-estimator-id-19\" type=\"checkbox\" ><label for=\"sk-estimator-id-19\" class=\"sk-toggleable__label sk-toggleable__label-arrow\">DecisionTreeClassifier</label><div class=\"sk-toggleable__content\"><pre>DecisionTreeClassifier()</pre></div></div></div></div></div></div></div></div></div></div>"
      ],
      "text/plain": [
       "GridSearchCV(cv=KFold(n_splits=5, random_state=None, shuffle=True),\n",
       "             estimator=DecisionTreeClassifier(), n_jobs=-1,\n",
       "             param_grid={'criterion': ['gini', 'entropy'],\n",
       "                         'max_depth': array([ 1,  2,  3,  4,  5,  6,  7,  8,  9, 10, 11, 12, 13, 14, 15, 16, 17,\n",
       "       18, 19, 20, 21, 22, 23, 24, 25, 26, 27, 28, 29, 30, 31, 32, 33, 34,\n",
       "       35, 36, 37, 38, 39, 40, 41, 42, 43, 44, 45, 46, 47, 48, 49]),\n",
       "                         'min_samples_leaf': [1, 2, 4, 5, 10, 20, 30, 40, 80,\n",
       "                                              150],\n",
       "                         'min_samples_split': [2, 3, 4, 5]},\n",
       "             scoring='f1', verbose=1)"
      ]
     },
     "execution_count": 180,
     "metadata": {},
     "output_type": "execute_result"
    }
   ],
   "source": [
    "grid_search.fit(X_train,y_train)"
   ]
  },
  {
   "cell_type": "code",
   "execution_count": null,
   "id": "54ee7d4f",
   "metadata": {},
   "outputs": [
    {
     "data": {
      "text/html": [
       "<div>\n",
       "<style scoped>\n",
       "    .dataframe tbody tr th:only-of-type {\n",
       "        vertical-align: middle;\n",
       "    }\n",
       "\n",
       "    .dataframe tbody tr th {\n",
       "        vertical-align: top;\n",
       "    }\n",
       "\n",
       "    .dataframe thead th {\n",
       "        text-align: right;\n",
       "    }\n",
       "</style>\n",
       "<table border=\"1\" class=\"dataframe\">\n",
       "  <thead>\n",
       "    <tr style=\"text-align: right;\">\n",
       "      <th></th>\n",
       "      <th>mean_fit_time</th>\n",
       "      <th>std_fit_time</th>\n",
       "      <th>mean_score_time</th>\n",
       "      <th>std_score_time</th>\n",
       "      <th>param_criterion</th>\n",
       "      <th>param_max_depth</th>\n",
       "      <th>param_min_samples_leaf</th>\n",
       "      <th>param_min_samples_split</th>\n",
       "      <th>params</th>\n",
       "      <th>split0_test_score</th>\n",
       "      <th>split1_test_score</th>\n",
       "      <th>split2_test_score</th>\n",
       "      <th>split3_test_score</th>\n",
       "      <th>split4_test_score</th>\n",
       "      <th>mean_test_score</th>\n",
       "      <th>std_test_score</th>\n",
       "      <th>rank_test_score</th>\n",
       "    </tr>\n",
       "  </thead>\n",
       "  <tbody>\n",
       "    <tr>\n",
       "      <th>0</th>\n",
       "      <td>0.018145</td>\n",
       "      <td>0.003082</td>\n",
       "      <td>0.006437</td>\n",
       "      <td>0.004473</td>\n",
       "      <td>gini</td>\n",
       "      <td>1</td>\n",
       "      <td>1</td>\n",
       "      <td>2</td>\n",
       "      <td>{'criterion': 'gini', 'max_depth': 1, 'min_sam...</td>\n",
       "      <td>0.723714</td>\n",
       "      <td>0.735361</td>\n",
       "      <td>0.731532</td>\n",
       "      <td>0.728271</td>\n",
       "      <td>0.742334</td>\n",
       "      <td>0.732242</td>\n",
       "      <td>0.006334</td>\n",
       "      <td>3841</td>\n",
       "    </tr>\n",
       "    <tr>\n",
       "      <th>1</th>\n",
       "      <td>0.016104</td>\n",
       "      <td>0.004215</td>\n",
       "      <td>0.008044</td>\n",
       "      <td>0.003113</td>\n",
       "      <td>gini</td>\n",
       "      <td>1</td>\n",
       "      <td>1</td>\n",
       "      <td>3</td>\n",
       "      <td>{'criterion': 'gini', 'max_depth': 1, 'min_sam...</td>\n",
       "      <td>0.723714</td>\n",
       "      <td>0.735361</td>\n",
       "      <td>0.731532</td>\n",
       "      <td>0.728271</td>\n",
       "      <td>0.742334</td>\n",
       "      <td>0.732242</td>\n",
       "      <td>0.006334</td>\n",
       "      <td>3841</td>\n",
       "    </tr>\n",
       "    <tr>\n",
       "      <th>2</th>\n",
       "      <td>0.016022</td>\n",
       "      <td>0.002726</td>\n",
       "      <td>0.007312</td>\n",
       "      <td>0.004687</td>\n",
       "      <td>gini</td>\n",
       "      <td>1</td>\n",
       "      <td>1</td>\n",
       "      <td>4</td>\n",
       "      <td>{'criterion': 'gini', 'max_depth': 1, 'min_sam...</td>\n",
       "      <td>0.723714</td>\n",
       "      <td>0.735361</td>\n",
       "      <td>0.731532</td>\n",
       "      <td>0.728271</td>\n",
       "      <td>0.742334</td>\n",
       "      <td>0.732242</td>\n",
       "      <td>0.006334</td>\n",
       "      <td>3841</td>\n",
       "    </tr>\n",
       "    <tr>\n",
       "      <th>3</th>\n",
       "      <td>0.015316</td>\n",
       "      <td>0.004491</td>\n",
       "      <td>0.009657</td>\n",
       "      <td>0.000814</td>\n",
       "      <td>gini</td>\n",
       "      <td>1</td>\n",
       "      <td>1</td>\n",
       "      <td>5</td>\n",
       "      <td>{'criterion': 'gini', 'max_depth': 1, 'min_sam...</td>\n",
       "      <td>0.723714</td>\n",
       "      <td>0.735361</td>\n",
       "      <td>0.731532</td>\n",
       "      <td>0.728271</td>\n",
       "      <td>0.742334</td>\n",
       "      <td>0.732242</td>\n",
       "      <td>0.006334</td>\n",
       "      <td>3841</td>\n",
       "    </tr>\n",
       "    <tr>\n",
       "      <th>4</th>\n",
       "      <td>0.012120</td>\n",
       "      <td>0.003164</td>\n",
       "      <td>0.008080</td>\n",
       "      <td>0.003132</td>\n",
       "      <td>gini</td>\n",
       "      <td>1</td>\n",
       "      <td>2</td>\n",
       "      <td>2</td>\n",
       "      <td>{'criterion': 'gini', 'max_depth': 1, 'min_sam...</td>\n",
       "      <td>0.723714</td>\n",
       "      <td>0.735361</td>\n",
       "      <td>0.731532</td>\n",
       "      <td>0.728271</td>\n",
       "      <td>0.742334</td>\n",
       "      <td>0.732242</td>\n",
       "      <td>0.006334</td>\n",
       "      <td>3841</td>\n",
       "    </tr>\n",
       "    <tr>\n",
       "      <th>...</th>\n",
       "      <td>...</td>\n",
       "      <td>...</td>\n",
       "      <td>...</td>\n",
       "      <td>...</td>\n",
       "      <td>...</td>\n",
       "      <td>...</td>\n",
       "      <td>...</td>\n",
       "      <td>...</td>\n",
       "      <td>...</td>\n",
       "      <td>...</td>\n",
       "      <td>...</td>\n",
       "      <td>...</td>\n",
       "      <td>...</td>\n",
       "      <td>...</td>\n",
       "      <td>...</td>\n",
       "      <td>...</td>\n",
       "      <td>...</td>\n",
       "    </tr>\n",
       "    <tr>\n",
       "      <th>3915</th>\n",
       "      <td>0.043918</td>\n",
       "      <td>0.004503</td>\n",
       "      <td>0.008473</td>\n",
       "      <td>0.003218</td>\n",
       "      <td>entropy</td>\n",
       "      <td>49</td>\n",
       "      <td>80</td>\n",
       "      <td>5</td>\n",
       "      <td>{'criterion': 'entropy', 'max_depth': 49, 'min...</td>\n",
       "      <td>0.787429</td>\n",
       "      <td>0.788304</td>\n",
       "      <td>0.738012</td>\n",
       "      <td>0.779904</td>\n",
       "      <td>0.783019</td>\n",
       "      <td>0.775334</td>\n",
       "      <td>0.018907</td>\n",
       "      <td>1754</td>\n",
       "    </tr>\n",
       "    <tr>\n",
       "      <th>3916</th>\n",
       "      <td>0.041942</td>\n",
       "      <td>0.004282</td>\n",
       "      <td>0.004448</td>\n",
       "      <td>0.004677</td>\n",
       "      <td>entropy</td>\n",
       "      <td>49</td>\n",
       "      <td>150</td>\n",
       "      <td>2</td>\n",
       "      <td>{'criterion': 'entropy', 'max_depth': 49, 'min...</td>\n",
       "      <td>0.771891</td>\n",
       "      <td>0.778291</td>\n",
       "      <td>0.741806</td>\n",
       "      <td>0.781358</td>\n",
       "      <td>0.778157</td>\n",
       "      <td>0.770300</td>\n",
       "      <td>0.014576</td>\n",
       "      <td>2555</td>\n",
       "    </tr>\n",
       "    <tr>\n",
       "      <th>3917</th>\n",
       "      <td>0.039950</td>\n",
       "      <td>0.000862</td>\n",
       "      <td>0.006051</td>\n",
       "      <td>0.004220</td>\n",
       "      <td>entropy</td>\n",
       "      <td>49</td>\n",
       "      <td>150</td>\n",
       "      <td>3</td>\n",
       "      <td>{'criterion': 'entropy', 'max_depth': 49, 'min...</td>\n",
       "      <td>0.771891</td>\n",
       "      <td>0.778291</td>\n",
       "      <td>0.741806</td>\n",
       "      <td>0.781358</td>\n",
       "      <td>0.778157</td>\n",
       "      <td>0.770300</td>\n",
       "      <td>0.014576</td>\n",
       "      <td>2555</td>\n",
       "    </tr>\n",
       "    <tr>\n",
       "      <th>3918</th>\n",
       "      <td>0.038494</td>\n",
       "      <td>0.003405</td>\n",
       "      <td>0.006608</td>\n",
       "      <td>0.001875</td>\n",
       "      <td>entropy</td>\n",
       "      <td>49</td>\n",
       "      <td>150</td>\n",
       "      <td>4</td>\n",
       "      <td>{'criterion': 'entropy', 'max_depth': 49, 'min...</td>\n",
       "      <td>0.771891</td>\n",
       "      <td>0.778291</td>\n",
       "      <td>0.741806</td>\n",
       "      <td>0.781358</td>\n",
       "      <td>0.778157</td>\n",
       "      <td>0.770300</td>\n",
       "      <td>0.014576</td>\n",
       "      <td>2555</td>\n",
       "    </tr>\n",
       "    <tr>\n",
       "      <th>3919</th>\n",
       "      <td>0.037246</td>\n",
       "      <td>0.004145</td>\n",
       "      <td>0.007646</td>\n",
       "      <td>0.003902</td>\n",
       "      <td>entropy</td>\n",
       "      <td>49</td>\n",
       "      <td>150</td>\n",
       "      <td>5</td>\n",
       "      <td>{'criterion': 'entropy', 'max_depth': 49, 'min...</td>\n",
       "      <td>0.771891</td>\n",
       "      <td>0.778291</td>\n",
       "      <td>0.741806</td>\n",
       "      <td>0.781358</td>\n",
       "      <td>0.778157</td>\n",
       "      <td>0.770300</td>\n",
       "      <td>0.014576</td>\n",
       "      <td>2555</td>\n",
       "    </tr>\n",
       "  </tbody>\n",
       "</table>\n",
       "<p>3920 rows × 17 columns</p>\n",
       "</div>"
      ],
      "text/plain": [
       "      mean_fit_time  std_fit_time  mean_score_time  std_score_time  \\\n",
       "0          0.018145      0.003082         0.006437        0.004473   \n",
       "1          0.016104      0.004215         0.008044        0.003113   \n",
       "2          0.016022      0.002726         0.007312        0.004687   \n",
       "3          0.015316      0.004491         0.009657        0.000814   \n",
       "4          0.012120      0.003164         0.008080        0.003132   \n",
       "...             ...           ...              ...             ...   \n",
       "3915       0.043918      0.004503         0.008473        0.003218   \n",
       "3916       0.041942      0.004282         0.004448        0.004677   \n",
       "3917       0.039950      0.000862         0.006051        0.004220   \n",
       "3918       0.038494      0.003405         0.006608        0.001875   \n",
       "3919       0.037246      0.004145         0.007646        0.003902   \n",
       "\n",
       "     param_criterion param_max_depth param_min_samples_leaf  \\\n",
       "0               gini               1                      1   \n",
       "1               gini               1                      1   \n",
       "2               gini               1                      1   \n",
       "3               gini               1                      1   \n",
       "4               gini               1                      2   \n",
       "...              ...             ...                    ...   \n",
       "3915         entropy              49                     80   \n",
       "3916         entropy              49                    150   \n",
       "3917         entropy              49                    150   \n",
       "3918         entropy              49                    150   \n",
       "3919         entropy              49                    150   \n",
       "\n",
       "     param_min_samples_split  \\\n",
       "0                          2   \n",
       "1                          3   \n",
       "2                          4   \n",
       "3                          5   \n",
       "4                          2   \n",
       "...                      ...   \n",
       "3915                       5   \n",
       "3916                       2   \n",
       "3917                       3   \n",
       "3918                       4   \n",
       "3919                       5   \n",
       "\n",
       "                                                 params  split0_test_score  \\\n",
       "0     {'criterion': 'gini', 'max_depth': 1, 'min_sam...           0.723714   \n",
       "1     {'criterion': 'gini', 'max_depth': 1, 'min_sam...           0.723714   \n",
       "2     {'criterion': 'gini', 'max_depth': 1, 'min_sam...           0.723714   \n",
       "3     {'criterion': 'gini', 'max_depth': 1, 'min_sam...           0.723714   \n",
       "4     {'criterion': 'gini', 'max_depth': 1, 'min_sam...           0.723714   \n",
       "...                                                 ...                ...   \n",
       "3915  {'criterion': 'entropy', 'max_depth': 49, 'min...           0.787429   \n",
       "3916  {'criterion': 'entropy', 'max_depth': 49, 'min...           0.771891   \n",
       "3917  {'criterion': 'entropy', 'max_depth': 49, 'min...           0.771891   \n",
       "3918  {'criterion': 'entropy', 'max_depth': 49, 'min...           0.771891   \n",
       "3919  {'criterion': 'entropy', 'max_depth': 49, 'min...           0.771891   \n",
       "\n",
       "      split1_test_score  split2_test_score  split3_test_score  \\\n",
       "0              0.735361           0.731532           0.728271   \n",
       "1              0.735361           0.731532           0.728271   \n",
       "2              0.735361           0.731532           0.728271   \n",
       "3              0.735361           0.731532           0.728271   \n",
       "4              0.735361           0.731532           0.728271   \n",
       "...                 ...                ...                ...   \n",
       "3915           0.788304           0.738012           0.779904   \n",
       "3916           0.778291           0.741806           0.781358   \n",
       "3917           0.778291           0.741806           0.781358   \n",
       "3918           0.778291           0.741806           0.781358   \n",
       "3919           0.778291           0.741806           0.781358   \n",
       "\n",
       "      split4_test_score  mean_test_score  std_test_score  rank_test_score  \n",
       "0              0.742334         0.732242        0.006334             3841  \n",
       "1              0.742334         0.732242        0.006334             3841  \n",
       "2              0.742334         0.732242        0.006334             3841  \n",
       "3              0.742334         0.732242        0.006334             3841  \n",
       "4              0.742334         0.732242        0.006334             3841  \n",
       "...                 ...              ...             ...              ...  \n",
       "3915           0.783019         0.775334        0.018907             1754  \n",
       "3916           0.778157         0.770300        0.014576             2555  \n",
       "3917           0.778157         0.770300        0.014576             2555  \n",
       "3918           0.778157         0.770300        0.014576             2555  \n",
       "3919           0.778157         0.770300        0.014576             2555  \n",
       "\n",
       "[3920 rows x 17 columns]"
      ]
     },
     "execution_count": 181,
     "metadata": {},
     "output_type": "execute_result"
    }
   ],
   "source": [
    "score = pd.DataFrame(grid_search.cv_results_)\n",
    "score"
   ]
  },
  {
   "cell_type": "code",
   "execution_count": null,
   "id": "705f63dd",
   "metadata": {},
   "outputs": [
    {
     "data": {
      "text/plain": [
       "{'criterion': 'entropy',\n",
       " 'max_depth': 36,\n",
       " 'min_samples_leaf': 1,\n",
       " 'min_samples_split': 2}"
      ]
     },
     "execution_count": 182,
     "metadata": {},
     "output_type": "execute_result"
    }
   ],
   "source": [
    "grid_search.best_params_"
   ]
  },
  {
   "cell_type": "code",
   "execution_count": null,
   "id": "39ef5b70",
   "metadata": {},
   "outputs": [
    {
     "data": {
      "text/html": [
       "<style>#sk-container-id-8 {color: black;background-color: white;}#sk-container-id-8 pre{padding: 0;}#sk-container-id-8 div.sk-toggleable {background-color: white;}#sk-container-id-8 label.sk-toggleable__label {cursor: pointer;display: block;width: 100%;margin-bottom: 0;padding: 0.3em;box-sizing: border-box;text-align: center;}#sk-container-id-8 label.sk-toggleable__label-arrow:before {content: \"▸\";float: left;margin-right: 0.25em;color: #696969;}#sk-container-id-8 label.sk-toggleable__label-arrow:hover:before {color: black;}#sk-container-id-8 div.sk-estimator:hover label.sk-toggleable__label-arrow:before {color: black;}#sk-container-id-8 div.sk-toggleable__content {max-height: 0;max-width: 0;overflow: hidden;text-align: left;background-color: #f0f8ff;}#sk-container-id-8 div.sk-toggleable__content pre {margin: 0.2em;color: black;border-radius: 0.25em;background-color: #f0f8ff;}#sk-container-id-8 input.sk-toggleable__control:checked~div.sk-toggleable__content {max-height: 200px;max-width: 100%;overflow: auto;}#sk-container-id-8 input.sk-toggleable__control:checked~label.sk-toggleable__label-arrow:before {content: \"▾\";}#sk-container-id-8 div.sk-estimator input.sk-toggleable__control:checked~label.sk-toggleable__label {background-color: #d4ebff;}#sk-container-id-8 div.sk-label input.sk-toggleable__control:checked~label.sk-toggleable__label {background-color: #d4ebff;}#sk-container-id-8 input.sk-hidden--visually {border: 0;clip: rect(1px 1px 1px 1px);clip: rect(1px, 1px, 1px, 1px);height: 1px;margin: -1px;overflow: hidden;padding: 0;position: absolute;width: 1px;}#sk-container-id-8 div.sk-estimator {font-family: monospace;background-color: #f0f8ff;border: 1px dotted black;border-radius: 0.25em;box-sizing: border-box;margin-bottom: 0.5em;}#sk-container-id-8 div.sk-estimator:hover {background-color: #d4ebff;}#sk-container-id-8 div.sk-parallel-item::after {content: \"\";width: 100%;border-bottom: 1px solid gray;flex-grow: 1;}#sk-container-id-8 div.sk-label:hover label.sk-toggleable__label {background-color: #d4ebff;}#sk-container-id-8 div.sk-serial::before {content: \"\";position: absolute;border-left: 1px solid gray;box-sizing: border-box;top: 0;bottom: 0;left: 50%;z-index: 0;}#sk-container-id-8 div.sk-serial {display: flex;flex-direction: column;align-items: center;background-color: white;padding-right: 0.2em;padding-left: 0.2em;position: relative;}#sk-container-id-8 div.sk-item {position: relative;z-index: 1;}#sk-container-id-8 div.sk-parallel {display: flex;align-items: stretch;justify-content: center;background-color: white;position: relative;}#sk-container-id-8 div.sk-item::before, #sk-container-id-8 div.sk-parallel-item::before {content: \"\";position: absolute;border-left: 1px solid gray;box-sizing: border-box;top: 0;bottom: 0;left: 50%;z-index: -1;}#sk-container-id-8 div.sk-parallel-item {display: flex;flex-direction: column;z-index: 1;position: relative;background-color: white;}#sk-container-id-8 div.sk-parallel-item:first-child::after {align-self: flex-end;width: 50%;}#sk-container-id-8 div.sk-parallel-item:last-child::after {align-self: flex-start;width: 50%;}#sk-container-id-8 div.sk-parallel-item:only-child::after {width: 0;}#sk-container-id-8 div.sk-dashed-wrapped {border: 1px dashed gray;margin: 0 0.4em 0.5em 0.4em;box-sizing: border-box;padding-bottom: 0.4em;background-color: white;}#sk-container-id-8 div.sk-label label {font-family: monospace;font-weight: bold;display: inline-block;line-height: 1.2em;}#sk-container-id-8 div.sk-label-container {text-align: center;}#sk-container-id-8 div.sk-container {/* jupyter's `normalize.less` sets `[hidden] { display: none; }` but bootstrap.min.css set `[hidden] { display: none !important; }` so we also need the `!important` here to be able to override the default hidden behavior on the sphinx rendered scikit-learn.org. See: https://github.com/scikit-learn/scikit-learn/issues/21755 */display: inline-block !important;position: relative;}#sk-container-id-8 div.sk-text-repr-fallback {display: none;}</style><div id=\"sk-container-id-8\" class=\"sk-top-container\"><div class=\"sk-text-repr-fallback\"><pre>DecisionTreeClassifier(criterion=&#x27;entropy&#x27;, max_depth=36)</pre><b>In a Jupyter environment, please rerun this cell to show the HTML representation or trust the notebook. <br />On GitHub, the HTML representation is unable to render, please try loading this page with nbviewer.org.</b></div><div class=\"sk-container\" hidden><div class=\"sk-item\"><div class=\"sk-estimator sk-toggleable\"><input class=\"sk-toggleable__control sk-hidden--visually\" id=\"sk-estimator-id-20\" type=\"checkbox\" checked><label for=\"sk-estimator-id-20\" class=\"sk-toggleable__label sk-toggleable__label-arrow\">DecisionTreeClassifier</label><div class=\"sk-toggleable__content\"><pre>DecisionTreeClassifier(criterion=&#x27;entropy&#x27;, max_depth=36)</pre></div></div></div></div></div>"
      ],
      "text/plain": [
       "DecisionTreeClassifier(criterion='entropy', max_depth=36)"
      ]
     },
     "execution_count": 183,
     "metadata": {},
     "output_type": "execute_result"
    }
   ],
   "source": [
    "grid_search.best_estimator_"
   ]
  },
  {
   "cell_type": "code",
   "execution_count": null,
   "id": "aa645bfc",
   "metadata": {},
   "outputs": [],
   "source": [
    "dt = DecisionTreeClassifier(criterion='entropy', max_depth=36, min_samples_leaf=1,\n",
    "                       min_samples_split=2)"
   ]
  },
  {
   "cell_type": "code",
   "execution_count": null,
   "id": "0499dcb2",
   "metadata": {},
   "outputs": [
    {
     "name": "stdout",
     "output_type": "stream",
     "text": [
      "              precision    recall  f1-score   support\n",
      "\n",
      "           0       0.85      0.95      0.90       928\n",
      "           1       0.95      0.86      0.90      1134\n",
      "\n",
      "    accuracy                           0.90      2062\n",
      "   macro avg       0.90      0.90      0.90      2062\n",
      "weighted avg       0.91      0.90      0.90      2062\n",
      "\n"
     ]
    }
   ],
   "source": [
    "# performance evaluation on test data\n",
    "dt.fit(X_train, y_train)\n",
    "y_pred_grid_dt = dt.predict(X_test)\n",
    "print(classification_report(y_pred_grid, y_test))"
   ]
  },
  {
   "cell_type": "markdown",
   "id": "b60b847c",
   "metadata": {},
   "source": [
    "There is a difference in the model performance after hyperparameter tuning. The model F1 score increased after tuning"
   ]
  },
  {
   "cell_type": "markdown",
   "id": "3a5c85cc",
   "metadata": {},
   "source": [
    "# Using Confusion Matrix For Predictions\n",
    "\n",
    "\n",
    "# TOP 3 MODELS\n",
    "\n",
    "1. RandomForerestClassifier\n",
    "2. Support Vector Machine\n",
    "3. DecisionTree Classifier\n",
    "\n"
   ]
  },
  {
   "cell_type": "markdown",
   "id": "4c685f83",
   "metadata": {},
   "source": [
    "# 1. RandomForerestClassifier"
   ]
  },
  {
   "cell_type": "code",
   "execution_count": null,
   "id": "fa937b05",
   "metadata": {},
   "outputs": [
    {
     "data": {
      "image/png": "[encoded data removed]",
      "text/plain": [
       "<Figure size 720x504 with 2 Axes>"
      ]
     },
     "metadata": {
      "needs_background": "light"
     },
     "output_type": "display_data"
    }
   ],
   "source": [
    "# the confusion matrix\n",
    "\n",
    "fig, ax = plt.subplots(figsize=(10,7))\n",
    "y_pred_RF = rf_Grid.best_estimator_.predict(X_test)\n",
    "\n",
    "cm = confusion_matrix(y_test, y_pred_RF, labels=rf_Grid.best_estimator_.classes_)\n",
    "disp = ConfusionMatrixDisplay(confusion_matrix=cm,\n",
    "                             display_labels=rf_Grid.best_estimator_.classes_)\n",
    "disp.plot(ax=ax)\n",
    "plt.show()"
   ]
  },
  {
   "cell_type": "markdown",
   "id": "8d792597",
   "metadata": {},
   "source": [
    "Based on confusion matrix:\n",
    "\n",
    "1. We successfully predicted 869 customers who don't churn and 976 who churn\n",
    "2. There are 167 customers who are predicted to churn when they actually won't\n",
    "3. There are 50 customers who are predicted to not churn when they actually churn"
   ]
  },
  {
   "cell_type": "markdown",
   "id": "227269ba",
   "metadata": {},
   "source": [
    "# 2. Support Vector Machine"
   ]
  },
  {
   "cell_type": "code",
   "execution_count": null,
   "id": "72944db6",
   "metadata": {},
   "outputs": [
    {
     "data": {
      "image/png": "[encoded data removed]",
      "text/plain": [
       "<Figure size 720x504 with 2 Axes>"
      ]
     },
     "metadata": {
      "needs_background": "light"
     },
     "output_type": "display_data"
    }
   ],
   "source": [
    "# the confusion matrix\n",
    "\n",
    "fig, ax = plt.subplots(figsize=(10,7))\n",
    "y_pred_SVC = grid.best_estimator_.predict(X_test)\n",
    "\n",
    "cm = confusion_matrix(y_test, y_pred_SVC, labels=grid.best_estimator_.classes_)\n",
    "disp = ConfusionMatrixDisplay(confusion_matrix=cm,\n",
    "                             display_labels=grid.best_estimator_.classes_)\n",
    "disp.plot(ax=ax)\n",
    "plt.show()"
   ]
  },
  {
   "cell_type": "markdown",
   "id": "fa6fa5e1",
   "metadata": {},
   "source": [
    "Based on confusion matrix:\n",
    "\n",
    "1. We successfully predicted 881 customers who don't churn and 947 who churn\n",
    "2. There are 155 customers who are predicted to churn when they actually won't\n",
    "3. There are 79 customers who are predicted to not churn when they actually churn"
   ]
  },
  {
   "cell_type": "markdown",
   "id": "b88de2ac",
   "metadata": {},
   "source": [
    "# 3. DecisionTree Classifier"
   ]
  },
  {
   "cell_type": "code",
   "execution_count": null,
   "id": "c8c77928",
   "metadata": {},
   "outputs": [
    {
     "data": {
      "image/png": "[encoded data removed]",
      "text/plain": [
       "<Figure size 720x504 with 2 Axes>"
      ]
     },
     "metadata": {
      "needs_background": "light"
     },
     "output_type": "display_data"
    }
   ],
   "source": [
    "fig, ax = plt.subplots(figsize=(10,7))\n",
    "y_pred_dt = grid_search.best_estimator_.predict(X_test)\n",
    "\n",
    "cm = confusion_matrix(y_test, y_pred_dt, labels=grid_search.best_estimator_.classes_)\n",
    "disp = ConfusionMatrixDisplay(confusion_matrix=cm,\n",
    "                             display_labels=grid_search.best_estimator_.classes_)\n",
    "disp.plot(ax=ax)\n",
    "plt.show()"
   ]
  },
  {
   "cell_type": "markdown",
   "id": "4cf9d718",
   "metadata": {},
   "source": [
    "Based on confusion matrix:\n",
    "\n",
    "1. We successfully predicted 801 customers who don't churn and 962 who churn\n",
    "2. There are 235 customers who are predicted to churn when they actually won't\n",
    "3. There are 64 customers who are predicted to not churn when they actually churn"
   ]
  },
  {
   "cell_type": "markdown",
   "id": "21f70f4a",
   "metadata": {},
   "source": [
    "# Feature Importance\n",
    "\n",
    "# 1.  RandomforestClassifier "
   ]
  },
  {
   "cell_type": "code",
   "execution_count": null,
   "id": "c92a7125",
   "metadata": {},
   "outputs": [
    {
     "data": {
      "image/png": "[encoded data removed]",
      "text/plain": [
       "<Figure size 720x504 with 1 Axes>"
      ]
     },
     "metadata": {
      "needs_background": "light"
     },
     "output_type": "display_data"
    }
   ],
   "source": [
    "coeffs = RF_model_tuned.feature_importances_\n",
    "list_of_coeffs = list(sorted(zip(coeffs, X_train.columns), reverse=True))\n",
    "x_val = [x[0] for x in list_of_coeffs[:12]]\n",
    "y_val = [x[1] for x in list_of_coeffs[:12]]\n",
    "\n",
    "#create figure\n",
    "plt.figure(figsize=(10,7))\n",
    "plt.barh( y_val, x_val, align='center', color='blue')\n",
    "plt.title('Top 12 Importance Features')\n",
    "plt.gca().invert_yaxis() # first with higest contributed one \n",
    "plt.show()"
   ]
  },
  {
   "cell_type": "markdown",
   "id": "572f6f9c",
   "metadata": {},
   "source": [
    "# 2.  DecisionTreeClassifier"
   ]
  },
  {
   "cell_type": "code",
   "execution_count": null,
   "id": "46a4eab2",
   "metadata": {},
   "outputs": [
    {
     "data": {
      "image/png": "[encoded data removed]",
      "text/plain": [
       "<Figure size 1224x936 with 1 Axes>"
      ]
     },
     "metadata": {
      "needs_background": "light"
     },
     "output_type": "display_data"
    }
   ],
   "source": [
    "fimp = pd.Series(data=dt.feature_importances_, index=X_train.columns).sort_values(ascending=False)\n",
    "plt.figure(figsize=(17,13))\n",
    "plt.title(\"Feature importance\")\n",
    "ax = sns.barplot(y=fimp.index, x=fimp.values, palette=palette, orient='h')\n"
   ]
  },
  {
   "cell_type": "markdown",
   "id": "22d463e7",
   "metadata": {},
   "source": [
    "# Conclusion\n",
    "\n",
    "Looking at model results, the best Precision on the test set is achieved by  RandomForest Classifier with 0.89 . \n",
    "\n",
    "Given the high imbalance of the data towards non-churners, it makes sense to compare F1 scores to get the model with the best \n",
    "\n",
    "score on jointly precision and recall. This would also be the  RandomForest Classifier with a F1 score of 0.90 .\n",
    "\n",
    "Given the scores of the best performing models, it can be observed that F1 scores are not much above 90%. \n",
    "\n",
    "Further optimization efforts should be carried out to achieve a higher scores and thereby increase prediction power for more \n",
    "\n",
    "business value.\n",
    "\n",
    "When we consider the Exploratory Data Analysis we did, it is clear that this company has some issue with their Month-to-month\n",
    "\n",
    "customers.\n",
    "\n",
    "What kind of incentives can this company offer to customers to get them to sign One-year or Two-year contracts?\n",
    "\n",
    "What adjustments can be made to Month-to-Month contracts that would be more favorable to customers, without taking away the\n",
    "\n",
    "appeal of a One-year or Two-year contract?\n",
    "\n",
    "For RandomForest Classifier, you can see TotalCharges has a positive influence on the data and some features like\n",
    "\n",
    "InternetService_fibreoptics,contract_one year and etc should be examine critically since it has negative impact on the target column.\n",
    "\n",
    " Recommendation and Request\n",
    "\n",
    "We should pay more attention to customers who meet the criteria below\n",
    "\n",
    "1. Contract: Month-to-month\n",
    "2. Tenure: Short tenure\n",
    "3. Internet service: Fiber optic\n",
    "4. Payment method: Electronic check"
   ]
  }
 ],
 "metadata": {
  "kernelspec": {
   "display_name": "Python 3 (ipykernel)",
   "language": "python",
   "name": "python3"
  },
  "language_info": {
   "codemirror_mode": {
    "name": "ipython",
    "version": 3
   },
   "file_extension": ".py",
   "mimetype": "text/x-python",
   "name": "python",
   "nbconvert_exporter": "python",
   "pygments_lexer": "ipython3",
   "version": "3.9.13"
  },
  "vscode": {
   "interpreter": {
    "hash": "7679c2132d3f6ce38c9df14d554b39c06862b36a4e6689c81f9ae15bd0911d7d"
   }
  }
 },
 "nbformat": 4,
 "nbformat_minor": 5
}
